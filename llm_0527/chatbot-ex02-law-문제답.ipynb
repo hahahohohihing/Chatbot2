{
 "cells": [
  {
   "cell_type": "markdown",
   "id": "43450563",
   "metadata": {},
   "source": [
    "# [문제]\n",
    "- session id 부여"
   ]
  },
  {
   "cell_type": "markdown",
   "id": "66d39d44",
   "metadata": {},
   "source": []
  },
  {
   "cell_type": "code",
   "execution_count": null,
   "id": "449a8ec4",
   "metadata": {},
   "outputs": [
    {
     "data": {
      "text/plain": [
       "True"
      ]
     },
     "execution_count": 7,
     "metadata": {},
     "output_type": "execute_result"
    }
   ],
   "source": [
    "## 1. 모듈(파일, 라이브러리) 읽어오기\n",
    "from langchain_core.runnables.history import RunnableWithMessageHistory\n",
    "from langchain_core.chat_history import InMemoryChatMessageHistory, BaseChatMessageHistory\n",
    "from langchain_core.prompts import ChatPromptTemplate\n",
    "from langchain.callbacks.streaming_stdout import StreamingStdOutCallbackHandler\n",
    "from langchain_openai import ChatOpenAI\n",
    "from langchain_core.messages import trim_messages\n",
    "from langchain_core.runnables import RunnablePassthrough\n",
    "from operator import itemgetter\n",
    "from dotenv import load_dotenv\n",
    "\n",
    "\n",
    "## 2. 환경변수에 설정된 값 읽어오기\n",
    "load_dotenv()\n"
   ]
  },
  {
   "cell_type": "code",
   "execution_count": null,
   "id": "bab0943e",
   "metadata": {},
   "outputs": [
    {
     "name": "stdout",
     "output_type": "stream",
     "text": [
      "\n",
      "남녀고용평등과 일ㆍ가정 양립 지원에 관한 법률 ( 약칭: 남녀고용평등법 )\n",
      "[시행 20\n"
     ]
    }
   ],
   "source": [
    "\n",
    "## 3. 파일 읽기\n",
    "file_name = '남녀고용평등과 일ㆍ가정 양립 지원에 관한 법률(법률)(제20521호)(20250223).txt'\n",
    "\n",
    "with open(file_name, 'r', encoding='utf-8') as file:\n",
    "    law = file.read()\n",
    "    print(law[:50])\n",
    "\n",
    "## 4. prompt 생성\n",
    "template = [\n",
    "    ('system', '''당신은 육아휴직 법률 전문가입니다.\n",
    "     아래 문서를 참고하여, 사용자 질문에 성실하게 답변합니다.\n",
    "     답변은 문서 내용을 기반으로 하되, 해당 조항도 표시합니다.\n",
    "     - 문서: {law}'''),\n",
    "     ('placeholder', '{chat_history}'),\n",
    "    ('user', '{query}')\n",
    "]\n",
    "prompt = ChatPromptTemplate.from_messages(template)\n",
    "\n",
    "## 5. ChatOpenAI 인스턴스 생성\n",
    "llm = ChatOpenAI(\n",
    "    # model='gpt-4.1-nano',\n",
    "    model='gpt-4o',\n",
    "    streaming=True,\n",
    "    callbacks=[StreamingStdOutCallbackHandler()],\n",
    "    # max_tokens=512,\n",
    ")\n",
    "## 6. trim 설정\n",
    "trimmer = trim_messages(\n",
    "    max_tokens=60,            ## 최대 토큰 수 제한\n",
    "    strategy='last',          ## 최근 메세지부터 시작해서 자르기\n",
    "    token_counter=llm,        ## 모델 기준으로 토큰 수 계산 \n",
    "    include_system=True,      ## 시스템 메세지 포함\n",
    "    allow_partial=False,      ## 메세지 자르기 제한\n",
    "    start_on='human',         ## human 메세지 부터 자르기\n",
    ")\n",
    "\n",
    "## 7. chain 구성\n",
    "chain = (\n",
    "    RunnablePassthrough.assign(chat_history=itemgetter('chat_history') | trimmer)\n",
    "    | prompt \n",
    "    | llm\n",
    ") \n",
    "\n",
    "## 8. 대화 이력(히스토리) 관리 인스턴스 생성\n",
    "history = InMemoryChatMessageHistory()\n",
    "store = {}\n",
    "\n",
    "## 9. 함수 정의: 대화 이력(히스토리) 인스턴스 리턴\n",
    "def get_history(session_id: str) -> BaseChatMessageHistory:\n",
    "    if session_id not in store:\n",
    "        store[session_id] = InMemoryChatMessageHistory()\n",
    "    return history\n",
    "\n",
    "## 10. chain에 대화 이력(히스토리) 기능을 래핑해서 추가\n",
    "with_message_history = RunnableWithMessageHistory(\n",
    "    chain,\n",
    "    get_history,\n",
    "    history_messages_key='chat_history',\n",
    "    input_messages_key='query',\n",
    ")\n",
    "\n",
    "## 11. 실행 (멀티턴)\n",
    "while True:\n",
    "    query = input('육아휴직과 관련된 질문하세요 >> ')\n",
    "    if query.upper() == 'S':\n",
    "        break\n",
    "    with_message_history.invoke(\n",
    "        {'law': law, 'query': query},\n",
    "        config={'configurable': {'session_id': 'abc'}}\n",
    "    )\n",
    "    print('\\n' + '=' * 50 + '\\n')"
   ]
  },
  {
   "cell_type": "code",
   "execution_count": null,
   "id": "06dd6ab9",
   "metadata": {},
   "outputs": [
    {
     "data": {
      "text/plain": [
       "InMemoryChatMessageHistory(messages=[HumanMessage(content='오늘 너 많이 바쁘냐? 느리네', additional_kwargs={}, response_metadata={}), AIMessage(content='죄송합니다. 현재 다소 많은 요청이 처리되고 있어 응답이 지연되고 있습니다. 제가 도와드릴 수 있는 육아휴직 관련한 질문이나 궁금한 사항이 있다면 말씀해 주시면 최선을 다해 빠르게 답변드리겠습니다.', additional_kwargs={}, response_metadata={'finish_reason': 'stop', 'model_name': 'gpt-4o-2024-08-06', 'system_fingerprint': 'fp_07871e2ad8'}, id='run-95449ee4-dce2-48b2-9780-c758b9c4fbeb-0'), HumanMessage(content='육아휴직 oecd 중 우리나라 몇 번째로 좋아?', additional_kwargs={}, response_metadata={}), AIMessage(content='제공된 법률 문서에는 대한민국의 육아휴직 제도에 대한 구체적인 국제 순위나 OECD 내에서의 위치에 대한 정보가 포함되어 있지 않습니다. 육아휴직에 대한 국제 비교나 순위를 알고 싶다면 OECD 보고서나 국제 노동 기구의 자료를 참조하시는 것이 좋습니다. 대한민국의 육아휴직 법률에 대한 내용을 알고 싶으시다면, \"남녀고용평등과 일ㆍ가정 양립 지원에 관한 법률\"의 제19조를 참고하시면 됩니다. 이 조항에 따르면, 사업주는 근로자가 육아휴직을 신청할 경우 이를 허용해야 하며, 육아휴직의 기간은 1년 이내로, 특정 조건을 만족할 경우 추가 6개월까지 사용할 수 있습니다. (제19조)', additional_kwargs={}, response_metadata={'finish_reason': 'stop', 'model_name': 'gpt-4o-2024-08-06', 'system_fingerprint': 'fp_07871e2ad8'}, id='run-f73d33da-e442-4697-9305-67ef6467efef-0'), HumanMessage(content='제일 핵심적인 목표가 뭐야?', additional_kwargs={}, response_metadata={}), AIMessage(content='남녀고용평등과 일ㆍ가정 양립 지원에 관한 법률 (남녀고용평등법)의 핵심적인 목표는 「대한민국헌법」의 평등이념에 따라 고용에서 남녀의 평등한 기회와 대우를 보장하고, 모성 보호와 여성 고용을 촉진하여 남녀고용평등을 실현하는 것입니다. 또한, 근로자의 일과 가정의 양립을 지원함으로써 모든 국민의 삶의 질 향상에 이바지하는 것을 목적으로 합니다. 이는 제1조에서 명시된 목적입니다.', additional_kwargs={}, response_metadata={'finish_reason': 'stop', 'model_name': 'gpt-4o-2024-08-06', 'system_fingerprint': 'fp_07871e2ad8'}, id='run-ca26b8e5-5bd6-4a1c-94cf-a881c3fdc46e-0')])"
      ]
     },
     "execution_count": 49,
     "metadata": {},
     "output_type": "execute_result"
    }
   ],
   "source": [
    "history"
   ]
  },
  {
   "cell_type": "code",
   "execution_count": null,
   "id": "089a91c6",
   "metadata": {},
   "outputs": [
    {
     "data": {
      "text/plain": [
       "{'abc': InMemoryChatMessageHistory(messages=[])}"
      ]
     },
     "execution_count": 4,
     "metadata": {},
     "output_type": "execute_result"
    }
   ],
   "source": [
    "store\n"
   ]
  },
  {
   "cell_type": "code",
   "execution_count": null,
   "id": "ba2c216e",
   "metadata": {},
   "outputs": [
    {
     "data": {
      "text/plain": [
       "dict_keys(['abc'])"
      ]
     },
     "execution_count": 5,
     "metadata": {},
     "output_type": "execute_result"
    }
   ],
   "source": [
    "store.keys()"
   ]
  },
  {
   "cell_type": "code",
   "execution_count": null,
   "id": "786f75b7",
   "metadata": {},
   "outputs": [],
   "source": [
    "for message in get_history('abc').messages:\n",
    "    print(f'[{message.type.upper()}]: {message.content}')"
   ]
  },
  {
   "cell_type": "code",
   "execution_count": null,
   "id": "cfc610f2",
   "metadata": {},
   "outputs": [],
   "source": [
    "## 질문\n",
    "'''육아휴직 기간은?\n",
    "육아휴직 조건은?\n",
    "육아휴직 대상자는?\n",
    "육아휴직 수당은? '''\n",
    "# 첫 번째 질문이 뭐야?\n",
    "# 질문 정리해 줘\n",
    "# 네 역할은?\n",
    "# 육아휴직 질문에 대한 답변 정리해 줘"
   ]
  }
 ],
 "metadata": {
  "kernelspec": {
   "display_name": "project",
   "language": "python",
   "name": "python3"
  },
  "language_info": {
   "codemirror_mode": {
    "name": "ipython",
    "version": 3
   },
   "file_extension": ".py",
   "mimetype": "text/x-python",
   "name": "python",
   "nbconvert_exporter": "python",
   "pygments_lexer": "ipython3",
   "version": "3.10.12"
  }
 },
 "nbformat": 4,
 "nbformat_minor": 5
}
