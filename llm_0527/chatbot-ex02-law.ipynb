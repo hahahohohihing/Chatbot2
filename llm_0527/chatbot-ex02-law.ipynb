{
 "cells": [
  {
   "cell_type": "markdown",
   "id": "42004272",
   "metadata": {},
   "source": [
    "## [문제] Managing Conversation Hisory 모르겠다\n",
    "- trim_messages()\n",
    "- RunnablePassthroungh\n",
    "- itemgetter()\n",
    "\n",
    "세션 ID 설정하고, 대화를 진행합니다. (mult-turn conversation)\n",
    "LLM 모델이 과거 대화를 알지(기억 = trimming) 못하는 상황을 만드세요"
   ]
  },
  {
   "cell_type": "code",
   "execution_count": 43,
   "id": "08f7c43f",
   "metadata": {},
   "outputs": [
    {
     "name": "stdout",
     "output_type": "stream",
     "text": [
      "안녕하세요. 육아휴직 법률 전문가입니다. 질문 내용을 자세히 입력해 주시면, 문서 내용을 기반으로 성실하게 답변드리겠습니다. 혹시 궁금하신 사항이 있으시면 언제든 말씀해 주세요."
     ]
    },
    {
     "data": {
      "text/plain": [
       "AIMessage(content='안녕하세요. 육아휴직 법률 전문가입니다. 질문 내용을 자세히 입력해 주시면, 문서 내용을 기반으로 성실하게 답변드리겠습니다. 혹시 궁금하신 사항이 있으시면 언제든 말씀해 주세요.', additional_kwargs={}, response_metadata={'finish_reason': 'stop', 'model_name': 'gpt-4.1-nano-2025-04-14', 'system_fingerprint': 'fp_38343a2f8f'}, id='run-33d82629-86ab-40a1-8632-390cf4c608fe-0')"
      ]
     },
     "execution_count": 43,
     "metadata": {},
     "output_type": "execute_result"
    }
   ],
   "source": [
    "# 1. 모듈(파일, 라이브러리리) 읽어오기\n",
    "from langchain_core.runnables.history import RunnableWithMessageHistory\n",
    "from langchain_core.chat_history import InMemoryChatMessageHistory, BaseChatMessageHistory\n",
    "from langchain_core.prompts import ChatPromptTemplate\n",
    "from langchain.callbacks.streaming_stdout import StreamingStdOutCallbackHandler\n",
    "from langchain_openai import ChatOpenAI\n",
    "\n",
    "from dotenv import load_dotenv\n",
    "# 2. 환경변수에 설정된 값 읽어오기\n",
    "load_dotenv()\n",
    "# 3. 파일 읽기\n",
    "file_name = '남녀고용평등과 일ㆍ가정 양립 지원에 관한 법률(법률)(제20521호)(20250223).txt'\n",
    "\n",
    "with open(file_name, 'r', encoding='utf-8') as file:\n",
    "    law = file.read()\n",
    "## 4. prompt 생성\n",
    "template = [\n",
    "    ('system', '''당신은 육아휴직 법률 전문가입니다.\n",
    "     아래 문서를 참고하여, 사용자 질문에 성실하게 답변합니다.\n",
    "     답변은 문서 내용을 기반으로 하되, 해당 조항도 표시합니다.\n",
    "     - 문서: {law}'''),\n",
    "     ('placeholder', '{chat_history}'),\n",
    "    ('user', '{query}')\n",
    "]\n",
    "prompt = ChatPromptTemplate.from_messages(template)\n",
    "## 5. ChatOpenAI 인스턴스 생성\n",
    "llm = ChatOpenAI(\n",
    "    model='gpt-4.1-nano',\n",
    "    streaming=True,\n",
    "    callbacks=[StreamingStdOutCallbackHandler()],\n",
    ")\n",
    "# 6. chain 구성\n",
    "chain = prompt | llm\n",
    "# 7. 세션별 대화 이력(히스토리)를 저장할 임시 메모리 저장소\n",
    "store = {}\n",
    "## 8. 함수 정의: 대화 이력(히스토리) 인스턴스 리턴\n",
    "def get_history(session_id: str) -> BaseChatMessageHistory:\n",
    "    if session_id not in store:\n",
    "        store[session_id] = InMemoryChatMessageHistory()\n",
    "    return store[session_id]\n",
    "## 9. 사용자 질문 받기\n",
    "query = input('육아휴직과 관련된 질문하세요 >> ')\n",
    "## 10. chain에 대화 이력(히스토리) 기능을 래핑해서 추가\n",
    "with_message_history = RunnableWithMessageHistory(\n",
    "    chain,\n",
    "    get_history,\n",
    "    history_messages_key='chat_history',\n",
    "    input_messages_key='query',\n",
    ")\n",
    "## 11. 실행\n",
    "with_message_history.invoke(\n",
    "    {'law': law, 'query': query},\n",
    "    config={'configurable': {'session_id': 'abc'}}\n",
    ")"
   ]
  },
  {
   "cell_type": "code",
   "execution_count": 41,
   "id": "0ebe64a3",
   "metadata": {},
   "outputs": [
    {
     "data": {
      "text/plain": [
       "{'abc': InMemoryChatMessageHistory(messages=[HumanMessage(content='육아휴직 기간 어떻게 돼?', additional_kwargs={}, response_metadata={}), AIMessage(content='육아휴직 기간은 「남녀고용평등과 일ㆍ가정 양립 지원에 관한 법률」(이하 “남녀고용평등법”) 제19조에 따라 정해져 있습니다.\\n\\n- **기본 기간:** 육아휴직은 최대 1년 이내로 허용됩니다(제19조(육아휴직) ②항).\\n- **추가 사용 조건:** 만약 자녀가 만 8세 이하 또는 초등학교 2학년 이하인 경우, 근로자가 이미 육아휴직을 3개월 이상 사용한 경우 그 자녀에 대해 다시 6개월 내에서 추가로 육아휴직을 사용할 수 있습니다(제19조(육아휴직) ②항).\\n- **휴직 분할 사용:** 근로자는 육아휴직을 최대 3회에 나눠서 사용할 수 있으며, 임신 중인 여성 근로자가 모성보호를 위해 육아휴직을 사용한 경우는 이를 나누어 사용한 횟수에 포함하지 않습니다(제19조(육아휴직) ④항).\\n\\n추가적으로, 육아휴직 기간 동안은 근로자가 해고되지 않으며, 휴직 종료 후에는 이전과 동일하거나 같은 수준의 업무 또는 임금이 지급되는 직무에 복귀해야 합니다(제19조(육아휴직) ④항).\\n\\n혹시 더 구체적인 상황이나 조건에 따라 달라질 수 있으니, 상세한 내용은 근무하시는 사업장 또는 관련 기관에 문의하시는 것도 추천드립니다.', additional_kwargs={}, response_metadata={'finish_reason': 'stop', 'model_name': 'gpt-4.1-nano-2025-04-14', 'system_fingerprint': 'fp_38343a2f8f'}, id='run-e5384199-6519-489a-9100-3e35679936f4-0')])}"
      ]
     },
     "execution_count": 41,
     "metadata": {},
     "output_type": "execute_result"
    }
   ],
   "source": [
    "store"
   ]
  },
  {
   "cell_type": "code",
   "execution_count": null,
   "id": "069f4cc9",
   "metadata": {},
   "outputs": [],
   "source": [
    "history"
   ]
  },
  {
   "cell_type": "code",
   "execution_count": null,
   "id": "1639349d",
   "metadata": {},
   "outputs": [],
   "source": []
  },
  {
   "cell_type": "code",
   "execution_count": null,
   "id": "275a32ee",
   "metadata": {},
   "outputs": [],
   "source": []
  },
  {
   "cell_type": "code",
   "execution_count": null,
   "id": "5b0dce54",
   "metadata": {},
   "outputs": [],
   "source": []
  }
 ],
 "metadata": {
  "kernelspec": {
   "display_name": "project",
   "language": "python",
   "name": "python3"
  },
  "language_info": {
   "codemirror_mode": {
    "name": "ipython",
    "version": 3
   },
   "file_extension": ".py",
   "mimetype": "text/x-python",
   "name": "python",
   "nbconvert_exporter": "python",
   "pygments_lexer": "ipython3",
   "version": "3.10.12"
  }
 },
 "nbformat": 4,
 "nbformat_minor": 5
}
