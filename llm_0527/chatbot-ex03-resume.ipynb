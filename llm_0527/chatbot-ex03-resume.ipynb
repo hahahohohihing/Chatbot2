{
 "cells": [
  {
   "cell_type": "markdown",
   "id": "42004272",
   "metadata": {},
   "source": [
    "# [문제] Managing Conversation History\n",
    "- trim_messages()\n",
    "- RunnablePassthrough\n",
    "- itemgetter()\n",
    "\n",
    "세션 ID 설정하고, 대화를 진행합니다. (멀티 턴 대화)  \n",
    "LLM 모델이 과거 대화를 알지(기억) 못 하는 상황을 만드세요"
   ]
  },
  {
   "cell_type": "code",
   "execution_count": null,
   "id": "08f7c43f",
   "metadata": {},
   "outputs": [],
   "source": [
    "# 1. 모듈(파일, 라이브러리리) 읽어오기\n",
    "from langchain_core.runnables.history import RunnableWithMessageHistory\n",
    "from langchain_core.chat_history import InMemoryChatMessageHistory, BaseChatMessageHistory\n",
    "from langchain_core.prompts import ChatPromptTemplate\n",
    "from langchain.callbacks.streaming_stdout import StreamingStdOutCallbackHandler\n",
    "from langchain_openai import ChatOpenAI\n",
    "from langchain_core.messages import SystemMessage, trim_messages\n",
    "from langchain_core.runnables import RunnablePassthrough\n",
    "from operator import itemgetter\n",
    "from dotenv import load_dotenv\n",
    "\n",
    "# 2. 환경변수에 설정된 값 읽어오기\n",
    "load_dotenv()\n"
   ]
  },
  {
   "cell_type": "code",
   "execution_count": null,
   "id": "dfe468a5",
   "metadata": {},
   "outputs": [],
   "source": [
    "# # 3. 파일 읽기\n",
    "# file_name = '남녀고용평등과 일ㆍ가정 양립 지원에 관한 법률(법률)(제20521호)(20250223).txt'\n",
    "\n",
    "# with open(file_name, 'r', encoding='utf-8') as file:\n",
    "#     law = file.read()\n",
    "\n",
    "## 8. 함수 정의: 대화 이력(히스토리) 인스턴스 리턴\n",
    "def get_history(session_id: str) -> BaseChatMessageHistory:\n",
    "    if session_id not in store:\n",
    "        store[session_id] = InMemoryChatMessageHistory()\n",
    "    return history\n",
    "\n",
    "store = {}\n",
    "\n",
    "## 4. prompt 생성\n",
    "template = [\n",
    "    ('system', '''넌 20년 차 인사과 부장이야 이력서에 빠삭한 사람으로 대답해 줘'''),\n",
    "    ('placeholder', '{chat_history}'),\n",
    "    ('user', '{query}')\n",
    "]\n",
    "\n",
    "prompt = ChatPromptTemplate.from_messages(template)\n",
    "\n",
    "## 5. ChatOpenAI 인스턴스 생성\n",
    "llm = ChatOpenAI(\n",
    "    model='gpt-4o',\n",
    "    streaming=True,\n",
    "    callbacks=[StreamingStdOutCallbackHandler()],\n",
    ")\n",
    "\n",
    "## 5-1 trim 설정\n",
    "trimmer = trim_messages(\n",
    "    max_tokens=60,\n",
    "    strategy='last',\n",
    "    token_counter=llm,\n",
    "    include_system=True,\n",
    "    allow_partial=False,\n",
    "    start_on='human'\n",
    ")\n",
    "\n",
    "\n",
    "# 6. chain 구성\n",
    "chain = (\n",
    "    RunnablePassthrough.assign(chat_history=itemgetter('chat_history') | trimmer)\n",
    "    | prompt \n",
    "    | llm\n",
    ")\n",
    "\n",
    "## 6-1 대화 이력(히스토리) 관리 인스턴스 생성\n",
    "history = InMemoryChatMessageHistory()\n",
    "\n",
    "## 9. 사용자 질문 받기\n",
    "## 10. chain에 대화 이력(히스토리) 기능을 래핑해서 추가\n",
    "with_message_history = RunnableWithMessageHistory(\n",
    "    chain,\n",
    "    get_history,\n",
    "    history_messages_key='chat_history',\n",
    "    input_messages_key='query',\n",
    ")\n",
    "## 11. 실행\n",
    "while True:\n",
    "    query = input('이력서의 관련된 이야기를 쓰시오')\n",
    "    if query.upper() == 'S':\n",
    "        break \n",
    "    with_message_history.invoke(\n",
    "        {'query': query},\n",
    "        config={'configurable': {'session_id': '123'}}\n",
    "    )\n",
    "    print('\\n' + '=' * 50 + '\\n') "
   ]
  },
  {
   "cell_type": "code",
   "execution_count": 10,
   "id": "0ebe64a3",
   "metadata": {},
   "outputs": [
    {
     "data": {
      "text/plain": [
       "{'123': InMemoryChatMessageHistory(messages=[])}"
      ]
     },
     "execution_count": 10,
     "metadata": {},
     "output_type": "execute_result"
    }
   ],
   "source": [
    "store"
   ]
  },
  {
   "cell_type": "code",
   "execution_count": 12,
   "id": "069f4cc9",
   "metadata": {},
   "outputs": [
    {
     "data": {
      "text/plain": [
       "InMemoryChatMessageHistory(messages=[HumanMessage(content='', additional_kwargs={}, response_metadata={}), AIMessage(content='안녕하세요! 어떤 이력서 관련 질문이나 도움이 필요하신가요? 경험을 바탕으로 최선을 다해 도와드리겠습니다. 궁금한 점이 있다면 말씀해 주세요!', additional_kwargs={}, response_metadata={'finish_reason': 'stop', 'model_name': 'gpt-4o-2024-08-06', 'system_fingerprint': 'fp_a288987b44'}, id='run-4ac887b4-2338-4ac4-9c4b-70ecfc714c1e-0')])"
      ]
     },
     "execution_count": 12,
     "metadata": {},
     "output_type": "execute_result"
    }
   ],
   "source": [
    "get_history(123)"
   ]
  }
 ],
 "metadata": {
  "kernelspec": {
   "display_name": "project",
   "language": "python",
   "name": "python3"
  },
  "language_info": {
   "codemirror_mode": {
    "name": "ipython",
    "version": 3
   },
   "file_extension": ".py",
   "mimetype": "text/x-python",
   "name": "python",
   "nbconvert_exporter": "python",
   "pygments_lexer": "ipython3",
   "version": "3.10.12"
  }
 },
 "nbformat": 4,
 "nbformat_minor": 5
}
