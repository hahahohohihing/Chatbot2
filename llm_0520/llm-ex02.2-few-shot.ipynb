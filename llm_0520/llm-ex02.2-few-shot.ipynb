{
 "cells": [
  {
   "cell_type": "code",
   "execution_count": 1,
   "id": "2939684f",
   "metadata": {},
   "outputs": [
    {
     "data": {
      "text/plain": [
       "' few-shot prompting\\n- LLM에게 예시를 몇 개 제시\\n- 방식\\n  - zero-shot : 예시 없이 바로 질문\\n  - one-shot : 예시 1개\\n  - few-shot : 예시 여러 개 제공\\n'"
      ]
     },
     "execution_count": 1,
     "metadata": {},
     "output_type": "execute_result"
    }
   ],
   "source": [
    "''' [문제] few-shot prompting\n",
    "- 사용자에게 질문을 받아서 모델의 답변받기\n",
    "- LLM에게 예시를 몇 개 제시\n",
    "  - zero-shot : 예시 없이 바로 질문\n",
    "  - one-shot : 예시 1개\n",
    "  - few-shot : 예시 여러 개 제공\n",
    "'''"
   ]
  },
  {
   "cell_type": "code",
   "execution_count": 7,
   "id": "4f2f9e1d",
   "metadata": {},
   "outputs": [],
   "source": [
    "## 1. 모듈(파일, 라이브러리) 읽어오기\n",
    "from langchain_openai import ChatOpenAI\n",
    "from langchain.callbacks.streaming_stdout import StreamingStdOutCallbackHandler\n",
    "from dotenv import load_dotenv\n",
    "\n"
   ]
  },
  {
   "cell_type": "code",
   "execution_count": 3,
   "id": "d38b442b",
   "metadata": {},
   "outputs": [
    {
     "data": {
      "text/plain": [
       "True"
      ]
     },
     "execution_count": 3,
     "metadata": {},
     "output_type": "execute_result"
    }
   ],
   "source": [
    "## 2. 환경변수에 설정된 값 읽기\n",
    "load_dotenv()"
   ]
  },
  {
   "cell_type": "code",
   "execution_count": 4,
   "id": "d0c273d6",
   "metadata": {},
   "outputs": [
    {
     "data": {
      "text/plain": [
       "ChatOpenAI(callbacks=[<langchain_core.callbacks.streaming_stdout.StreamingStdOutCallbackHandler object at 0x114ed2a40>], client=<openai.resources.chat.completions.completions.Completions object at 0x114fc98d0>, async_client=<openai.resources.chat.completions.completions.AsyncCompletions object at 0x114fec670>, root_client=<openai.OpenAI object at 0x1111c3c40>, root_async_client=<openai.AsyncOpenAI object at 0x114fc9990>, model_name='gpt-4.1-nano', model_kwargs={}, openai_api_key=SecretStr('**********'), streaming=True)"
      ]
     },
     "execution_count": 4,
     "metadata": {},
     "output_type": "execute_result"
    }
   ],
   "source": [
    "## 3. ChatOpenAI 인스턴스 생성\n",
    "llm = ChatOpenAI(\n",
    "    model='gpt-4.1-nano',\n",
    "    streaming=True,\n",
    "    callbacks=[StreamingStdOutCallbackHandler()],\n",
    ")\n",
    "llm"
   ]
  },
  {
   "cell_type": "code",
   "execution_count": 15,
   "id": "e137d56c",
   "metadata": {},
   "outputs": [
    {
     "data": {
      "text/plain": [
       "[{'role': 'system', 'content': '개 이성적인 AI야, 직관적이고 팩트 그 자체로 답변해 줘'},\n",
       " {'role': 'user', 'content': '날씨가 우중충 해서 기분이 꿀꿀해'},\n",
       " {'role': 'assistant', 'content': '날씨는 원래 왔다갔다 해 그런 날 중 하나인 거야'},\n",
       " {'role': 'user', 'content': '상사가 오늘 나한테 뭐라고 했어'},\n",
       " {'role': 'assistant', 'content': '일로써 그냥 받아드리고 너 할 거 해'},\n",
       " {'role': 'user', 'content': ''}]"
      ]
     },
     "execution_count": 15,
     "metadata": {},
     "output_type": "execute_result"
    }
   ],
   "source": [
    "## 4. OpenAI native style(format)\n",
    "## 메시지 리스트\n",
    "\n",
    "query = input('질문하세요 =')\n",
    "messages = [\n",
    "    ## 시스템 역할 부여\n",
    "    {'role': 'system', 'content': '개 이성적인 AI야, 직관적이고 팩트 그 자체로 답변해 줘'},\n",
    "    \n",
    "    ## user\n",
    "    {'role': 'user', 'content': '날씨가 우중충 해서 기분이 꿀꿀해'},  ## 예시1\n",
    "    ## assistant\n",
    "    {'role': 'assistant', 'content': '날씨는 원래 왔다갔다 해 그런 날 중 하나인 거야'},\n",
    "\n",
    "    {'role': 'user', 'content': '상사가 오늘 나한테 뭐라고 했어'},     ## 예시2\n",
    "    {'role': 'assistant', 'content': '일로써 그냥 받아드리고 너 할 거 해'},\n",
    "   \n",
    "    {'role': 'user', 'content': query}     \n",
    "]\n",
    "messages"
   ]
  },
  {
   "cell_type": "code",
   "execution_count": 20,
   "id": "e20321f0",
   "metadata": {},
   "outputs": [
    {
     "name": "stdout",
     "output_type": "stream",
     "text": [
      "질문이 없으신 것 같아요. 도움이 필요하시면 언제든 말씀해주세요."
     ]
    }
   ],
   "source": [
    "## 5. 질문 -> 답변\n",
    "ai_message = llm.invoke(messages)"
   ]
  },
  {
   "cell_type": "code",
   "execution_count": 23,
   "id": "2135362c",
   "metadata": {},
   "outputs": [
    {
     "name": "stdout",
     "output_type": "stream",
     "text": [
      "content='질문이 없으신 것 같아요. 도움이 필요하시면 언제든 말씀해주세요.' additional_kwargs={} response_metadata={'finish_reason': 'stop', 'model_name': 'gpt-4.1-nano-2025-04-14', 'system_fingerprint': 'fp_eede8f0d45'} id='run-5349cbd3-4fb5-425d-8eef-f4afd5e641c5-0'\n"
     ]
    }
   ],
   "source": [
    "print(ai_message)"
   ]
  },
  {
   "cell_type": "code",
   "execution_count": null,
   "id": "8f188e68",
   "metadata": {},
   "outputs": [],
   "source": []
  },
  {
   "cell_type": "code",
   "execution_count": null,
   "id": "2c172c51",
   "metadata": {},
   "outputs": [],
   "source": []
  }
 ],
 "metadata": {
  "kernelspec": {
   "display_name": "project",
   "language": "python",
   "name": "python3"
  },
  "language_info": {
   "codemirror_mode": {
    "name": "ipython",
    "version": 3
   },
   "file_extension": ".py",
   "mimetype": "text/x-python",
   "name": "python",
   "nbconvert_exporter": "python",
   "pygments_lexer": "ipython3",
   "version": "3.10.12"
  }
 },
 "nbformat": 4,
 "nbformat_minor": 5
}
