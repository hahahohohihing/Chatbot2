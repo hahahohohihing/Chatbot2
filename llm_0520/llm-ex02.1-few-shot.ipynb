{
 "cells": [
  {
   "cell_type": "code",
   "execution_count": null,
   "id": "2939684f",
   "metadata": {},
   "outputs": [],
   "source": [
    "''' few-shot prompting\n",
    "- LLM에게 예시를 몇 개 제시\n",
    "- 방식\n",
    "  - zero-shot : 예시 없이 바로 질문\n",
    "  - one-shot : 예시 1개\n",
    "  - few-shot : 예시 여러 개 제공\n",
    "'''"
   ]
  },
  {
   "cell_type": "code",
   "execution_count": null,
   "id": "4f2f9e1d",
   "metadata": {},
   "outputs": [
    {
     "data": {
      "text/plain": [
       "<function dotenv.main.load_dotenv(dotenv_path: Union[str, ForwardRef('os.PathLike[str]'), NoneType] = None, stream: Optional[IO[str]] = None, verbose: bool = False, override: bool = False, interpolate: bool = True, encoding: Optional[str] = 'utf-8') -> bool>"
      ]
     },
     "execution_count": 3,
     "metadata": {},
     "output_type": "execute_result"
    }
   ],
   "source": [
    "## 1. 모듈(파일, 라이브러리) 읽어오기\n",
    "from langchain_openai import ChatOpenAI\n",
    "from langchain.callbacks.streaming_stdout import StreamingStdOutCallbackHandler\n",
    "from dotenv import load_dotenv\n",
    "\n"
   ]
  },
  {
   "cell_type": "code",
   "execution_count": 4,
   "id": "d38b442b",
   "metadata": {},
   "outputs": [
    {
     "data": {
      "text/plain": [
       "True"
      ]
     },
     "execution_count": 4,
     "metadata": {},
     "output_type": "execute_result"
    }
   ],
   "source": [
    "## 2. 환경변수에 설정된 값 읽기\n",
    "load_dotenv()"
   ]
  },
  {
   "cell_type": "code",
   "execution_count": null,
   "id": "d0c273d6",
   "metadata": {},
   "outputs": [
    {
     "data": {
      "text/plain": [
       "ChatOpenAI(callbacks=[<langchain_core.callbacks.streaming_stdout.StreamingStdOutCallbackHandler object at 0x10b50c400>], client=<openai.resources.chat.completions.completions.Completions object at 0x10b5f5930>, async_client=<openai.resources.chat.completions.completions.AsyncCompletions object at 0x10bb086d0>, root_client=<openai.OpenAI object at 0x1088fafe0>, root_async_client=<openai.AsyncOpenAI object at 0x10b5f59f0>, model_name='gpt-4.1-nano', model_kwargs={}, openai_api_key=SecretStr('**********'), streaming=True)"
      ]
     },
     "execution_count": 6,
     "metadata": {},
     "output_type": "execute_result"
    }
   ],
   "source": [
    "## 3. ChatOpenAI 인스턴스 생성\n",
    "llm = ChatOpenAI(\n",
    "    model='gpt-4.1-nano',\n",
    "    streaming=True,\n",
    "    callbacks=[StreamingStdOutCallbackHandler()],\n",
    ")\n",
    "llm"
   ]
  },
  {
   "cell_type": "code",
   "execution_count": 8,
   "id": "e137d56c",
   "metadata": {},
   "outputs": [
    {
     "data": {
      "text/plain": [
       "[{'role': 'system', 'content': '너는 20년차 광고 기획자야, 감성적이고 설득력 있는 마케팅 슬로건을 만들어 줘'},\n",
       " {'role': 'user', 'content': '자연 친화적인 생수 브랜드를 위한 슬로건을 만들어 줘'},\n",
       " {'role': 'assistant', 'content': '자연을 담다, 맑음을 마시다'},\n",
       " {'role': 'user', 'content': '프리미엄 전기차 브랜드를 위한 슬로건을 만들어 줘'},\n",
       " {'role': 'assistant', 'content': '조용한 혁신, 달리는 미래'},\n",
       " {'role': 'user', 'content': '그립감이 좋고 잘 써지는 펜의 관한 슬로건 작성해 줘'}]"
      ]
     },
     "execution_count": 8,
     "metadata": {},
     "output_type": "execute_result"
    }
   ],
   "source": [
    "## 4. OpenAI native style(format)\n",
    "## 메시지 리스트\n",
    "messages = [\n",
    "    ## 시스템 역할 부여\n",
    "    {'role': 'system', 'content': '너는 20년차 광고 기획자야, 감성적이고 설득력 있는 마케팅 슬로건을 만들어 줘'},\n",
    "    \n",
    "    ## user\n",
    "    {'role': 'user', 'content': '자연 친화적인 생수 브랜드를 위한 슬로건을 만들어 줘'},\n",
    "    ## assistant\n",
    "    {'role': 'assistant', 'content': '자연을 담다, 맑음을 마시다'},\n",
    "\n",
    "    {'role': 'user', 'content': '프리미엄 전기차 브랜드를 위한 슬로건을 만들어 줘'},\n",
    "    {'role': 'assistant', 'content': '조용한 혁신, 달리는 미래'},\n",
    "    \n",
    "    {'role': 'user', 'content': '그립감이 좋고 잘 써지는 펜의 관한 슬로건 작성해 줘'}\n",
    "     \n",
    "]\n",
    "messages"
   ]
  },
  {
   "cell_type": "code",
   "execution_count": 9,
   "id": "e20321f0",
   "metadata": {},
   "outputs": [
    {
     "name": "stdout",
     "output_type": "stream",
     "text": [
      "손끝에 느껴지는 완벽한 퍼포먼스, 글쓰기의 새로운 기준."
     ]
    }
   ],
   "source": [
    "## 5. 질문 -> 답변\n",
    "ai_message = llm.invoke(messages)"
   ]
  },
  {
   "cell_type": "code",
   "execution_count": null,
   "id": "2135362c",
   "metadata": {},
   "outputs": [],
   "source": []
  },
  {
   "cell_type": "code",
   "execution_count": null,
   "id": "8f188e68",
   "metadata": {},
   "outputs": [],
   "source": []
  },
  {
   "cell_type": "code",
   "execution_count": null,
   "id": "2c172c51",
   "metadata": {},
   "outputs": [],
   "source": []
  }
 ],
 "metadata": {
  "kernelspec": {
   "display_name": "project",
   "language": "python",
   "name": "python3"
  },
  "language_info": {
   "codemirror_mode": {
    "name": "ipython",
    "version": 3
   },
   "file_extension": ".py",
   "mimetype": "text/x-python",
   "name": "python",
   "nbconvert_exporter": "python",
   "pygments_lexer": "ipython3",
   "version": "3.10.12"
  }
 },
 "nbformat": 4,
 "nbformat_minor": 5
}
