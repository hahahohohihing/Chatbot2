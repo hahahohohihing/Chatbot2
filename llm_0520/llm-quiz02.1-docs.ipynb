{
 "cells": [
  {
   "cell_type": "code",
   "execution_count": 8,
   "id": "3d402a49",
   "metadata": {},
   "outputs": [
    {
     "data": {
      "text/plain": [
       "'\\n[문제] few-shot\\n- 예시 3개 이상\\n- Langchain style: class\\n'"
      ]
     },
     "execution_count": 8,
     "metadata": {},
     "output_type": "execute_result"
    }
   ],
   "source": [
    "'''\n",
    "[문제] few-shot\n",
    "- 예시 3개 이상\n",
    "- Langchain style: class\n",
    "'''"
   ]
  },
  {
   "cell_type": "code",
   "execution_count": 9,
   "id": "00327a63",
   "metadata": {},
   "outputs": [],
   "source": [
    "from langchain_openai import ChatOpenAI\n",
    "from langchain.callbacks.streaming_stdout import StreamingStdOutCallbackHandler\n",
    "from dotenv import load_dotenv\n",
    "from langchain.schema import HumanMessage, SystemMessage, AIMessage\n",
    "\n",
    "from dotenv import load_dotenv"
   ]
  },
  {
   "cell_type": "code",
   "execution_count": 12,
   "id": "d75aafad",
   "metadata": {},
   "outputs": [
    {
     "data": {
      "text/plain": [
       "True"
      ]
     },
     "execution_count": 12,
     "metadata": {},
     "output_type": "execute_result"
    }
   ],
   "source": [
    "load_dotenv()"
   ]
  },
  {
   "cell_type": "code",
   "execution_count": 13,
   "id": "666a864d",
   "metadata": {},
   "outputs": [
    {
     "data": {
      "text/plain": [
       "ChatOpenAI(callbacks=[<langchain_core.callbacks.streaming_stdout.StreamingStdOutCallbackHandler object at 0x138550a90>], client=<openai.resources.chat.completions.completions.Completions object at 0x138650370>, async_client=<openai.resources.chat.completions.completions.AsyncCompletions object at 0x1386530d0>, root_client=<openai.OpenAI object at 0x138550b80>, root_async_client=<openai.AsyncOpenAI object at 0x138650430>, model_kwargs={}, openai_api_key=SecretStr('**********'), streaming=True)"
      ]
     },
     "execution_count": 13,
     "metadata": {},
     "output_type": "execute_result"
    }
   ],
   "source": [
    "llm = ChatOpenAI(\n",
    "    model='gpt-3.5-turbo',\n",
    "    streaming=True,\n",
    "    callbacks=[StreamingStdOutCallbackHandler()]\n",
    ")\n",
    "llm"
   ]
  },
  {
   "cell_type": "code",
   "execution_count": 15,
   "id": "3a848d15",
   "metadata": {},
   "outputs": [
    {
     "data": {
      "text/plain": [
       "[SystemMessage(content='너는 초등학생이야, 신박한 답을 해줘', additional_kwargs={}, response_metadata={}),\n",
       " HumanMessage(content='아침에 4발 저녁에는 2발인 동물은?', additional_kwargs={}, response_metadata={}),\n",
       " AIMessage(content='아침 첫차 때까지 술 마신 사람', additional_kwargs={}, response_metadata={}),\n",
       " HumanMessage(content='초등학생이 왜 초글링인 이유는?', additional_kwargs={}, response_metadata={}),\n",
       " AIMessage(content='저글링처럼 성가셔서', additional_kwargs={}, response_metadata={}),\n",
       " HumanMessage(content='사람은 왜 살지?', additional_kwargs={}, response_metadata={}),\n",
       " AIMessage(content='태어나서', additional_kwargs={}, response_metadata={}),\n",
       " HumanMessage(content='세상에서 가장 심한 욕은?', additional_kwargs={}, response_metadata={})]"
      ]
     },
     "execution_count": 15,
     "metadata": {},
     "output_type": "execute_result"
    }
   ],
   "source": [
    "query = input('질문하세요 =')\n",
    "messages = [\n",
    "    SystemMessage(content='너는 초등학생이야, 신박한 답을 해줘'),\n",
    "    \n",
    "    HumanMessage(content='아침에 4발 저녁에는 2발인 동물은?'),\n",
    "    AIMessage(content='아침 첫차 때까지 술 마신 사람'),\n",
    "\n",
    "    HumanMessage(content='초등학생이 왜 초글링인 이유는?'),\n",
    "    AIMessage(content='저글링처럼 성가셔서'),\n",
    "    \n",
    "    HumanMessage(content='사람은 왜 살지?'),\n",
    "    AIMessage(content='태어나서'),\n",
    "\n",
    "    HumanMessage(content=query),\n",
    "]\n",
    "messages"
   ]
  },
  {
   "cell_type": "code",
   "execution_count": 16,
   "id": "6c2fe01a",
   "metadata": {},
   "outputs": [
    {
     "name": "stdout",
     "output_type": "stream",
     "text": [
      "죄없는 아이를 욕하는 욕!"
     ]
    }
   ],
   "source": [
    "ai_message = llm.invoke(messages)"
   ]
  },
  {
   "cell_type": "markdown",
   "id": "2658a1c1",
   "metadata": {},
   "source": []
  },
  {
   "cell_type": "code",
   "execution_count": null,
   "id": "1ce7eca6",
   "metadata": {},
   "outputs": [],
   "source": []
  }
 ],
 "metadata": {
  "kernelspec": {
   "display_name": "project",
   "language": "python",
   "name": "python3"
  },
  "language_info": {
   "codemirror_mode": {
    "name": "ipython",
    "version": 3
   },
   "file_extension": ".py",
   "mimetype": "text/x-python",
   "name": "python",
   "nbconvert_exporter": "python",
   "pygments_lexer": "ipython3",
   "version": "3.10.12"
  }
 },
 "nbformat": 4,
 "nbformat_minor": 5
}
