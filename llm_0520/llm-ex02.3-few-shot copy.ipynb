{
 "cells": [
  {
   "cell_type": "code",
   "execution_count": 13,
   "id": "2939684f",
   "metadata": {},
   "outputs": [
    {
     "data": {
      "text/plain": [
       "' [문제] few-shot prompting\\n- 사용자에게 질문을 받아서 모델의 답변받기\\n- LLM에게 예시를 몇 개 제시\\n  - zero-shot : 예시 없이 바로 질문\\n  - one-shot : 예시 1개\\n  - few-shot : 예시 여러 개 제공\\n'"
      ]
     },
     "execution_count": 13,
     "metadata": {},
     "output_type": "execute_result"
    }
   ],
   "source": [
    "''' [문제] few-shot prompting\n",
    "- 사용자에게 질문을 받아서 모델의 답변받기\n",
    "- LLM에게 예시를 몇 개 제시\n",
    "  - zero-shot : 예시 없이 바로 질문\n",
    "  - one-shot : 예시 1개\n",
    "  - few-shot : 예시 여러 개 제공\n",
    "'''"
   ]
  },
  {
   "cell_type": "code",
   "execution_count": 14,
   "id": "4f2f9e1d",
   "metadata": {},
   "outputs": [],
   "source": [
    "## 1. 모듈(파일, 라이브러리) 읽어오기\n",
    "from langchain_openai import ChatOpenAI\n",
    "from langchain.callbacks.streaming_stdout import StreamingStdOutCallbackHandler\n",
    "from dotenv import load_dotenv\n",
    "from langchain.schema import HumanMessage, SystemMessage, AIMessage\n",
    "\n",
    "from dotenv import load_dotenv\n"
   ]
  },
  {
   "cell_type": "code",
   "execution_count": 15,
   "id": "d38b442b",
   "metadata": {},
   "outputs": [
    {
     "data": {
      "text/plain": [
       "True"
      ]
     },
     "execution_count": 15,
     "metadata": {},
     "output_type": "execute_result"
    }
   ],
   "source": [
    "## 2. 환경변수에 설정된 값 읽기\n",
    "load_dotenv()"
   ]
  },
  {
   "cell_type": "code",
   "execution_count": 16,
   "id": "d0c273d6",
   "metadata": {},
   "outputs": [
    {
     "data": {
      "text/plain": [
       "ChatOpenAI(callbacks=[<langchain_core.callbacks.streaming_stdout.StreamingStdOutCallbackHandler object at 0x121566890>], client=<openai.resources.chat.completions.completions.Completions object at 0x1215f8610>, async_client=<openai.resources.chat.completions.completions.AsyncCompletions object at 0x1215fb340>, root_client=<openai.OpenAI object at 0x121566a10>, root_async_client=<openai.AsyncOpenAI object at 0x1215f8670>, model_name='gpt-4.1-nano', model_kwargs={}, openai_api_key=SecretStr('**********'), streaming=True)"
      ]
     },
     "execution_count": 16,
     "metadata": {},
     "output_type": "execute_result"
    }
   ],
   "source": [
    "## 3. ChatOpenAI 인스턴스 생성\n",
    "llm = ChatOpenAI(\n",
    "    model='gpt-4.1-nano',\n",
    "    streaming=True,\n",
    "    callbacks=[StreamingStdOutCallbackHandler()],\n",
    ")\n",
    "llm"
   ]
  },
  {
   "cell_type": "code",
   "execution_count": 21,
   "id": "e137d56c",
   "metadata": {},
   "outputs": [
    {
     "data": {
      "text/plain": [
       "[SystemMessage(content='너는 20년 차 광고 기획자야. 직설적이고 현실적으로 슬로건을 만들어', additional_kwargs={}, response_metadata={}),\n",
       " HumanMessage(content='자연 친화적인 생수 브랜드를 위한 슬로건을 만들어 줘', additional_kwargs={}, response_metadata={}),\n",
       " AIMessage(content='자연을 담아, 맑음을 마시다', additional_kwargs={}, response_metadata={}),\n",
       " HumanMessage(content='프리미엄 전기차 브랜드를 위한 슬로건을 만들어 줘', additional_kwargs={}, response_metadata={}),\n",
       " AIMessage(content='조용한 혁신, 달리는 미래', additional_kwargs={}, response_metadata={}),\n",
       " HumanMessage(content='', additional_kwargs={}, response_metadata={})]"
      ]
     },
     "execution_count": 21,
     "metadata": {},
     "output_type": "execute_result"
    }
   ],
   "source": [
    "\n",
    "## 4. OpenAI native style(format)\n",
    "## 메시지 리스트\n",
    "\n",
    "query = input('질문하세요 =')\n",
    "messages = [\n",
    "    ## 시스템 역할 부여\n",
    "    SystemMessage(content='너는 20년 차 광고 기획자야. 직설적이고 현실적으로 슬로건을 만들어'),\n",
    "    \n",
    "    HumanMessage(content='자연 친화적인 생수 브랜드를 위한 슬로건을 만들어 줘'),\n",
    "    AIMessage(content='자연을 담아, 맑음을 마시다'),\n",
    "    \n",
    "    HumanMessage(content='프리미엄 전기차 브랜드를 위한 슬로건을 만들어 줘'),\n",
    "    AIMessage(content='조용한 혁신, 달리는 미래'),\n",
    "\n",
    "    HumanMessage(content=query),\n",
    "]    \n",
    "messages"
   ]
  },
  {
   "cell_type": "code",
   "execution_count": 18,
   "id": "e20321f0",
   "metadata": {},
   "outputs": [
    {
     "name": "stdout",
     "output_type": "stream",
     "text": [
      "질문이 없거나 내용이 없어요. 도움이 필요하면 구체적으로 말씀해 주세요."
     ]
    }
   ],
   "source": [
    "## 5. 질문 -> 답변\n",
    "ai_message = llm.invoke(messages)"
   ]
  },
  {
   "cell_type": "code",
   "execution_count": 19,
   "id": "2135362c",
   "metadata": {},
   "outputs": [
    {
     "name": "stdout",
     "output_type": "stream",
     "text": [
      "content='질문이 없거나 내용이 없어요. 도움이 필요하면 구체적으로 말씀해 주세요.' additional_kwargs={} response_metadata={'finish_reason': 'stop', 'model_name': 'gpt-4.1-nano-2025-04-14', 'system_fingerprint': 'fp_eede8f0d45'} id='run-0954dbe6-58bf-4390-b925-56fe0428b658-0'\n"
     ]
    }
   ],
   "source": [
    "print(ai_message)"
   ]
  },
  {
   "cell_type": "code",
   "execution_count": null,
   "id": "8f188e68",
   "metadata": {},
   "outputs": [],
   "source": []
  },
  {
   "cell_type": "code",
   "execution_count": null,
   "id": "2c172c51",
   "metadata": {},
   "outputs": [],
   "source": []
  }
 ],
 "metadata": {
  "kernelspec": {
   "display_name": "project",
   "language": "python",
   "name": "python3"
  },
  "language_info": {
   "codemirror_mode": {
    "name": "ipython",
    "version": 3
   },
   "file_extension": ".py",
   "mimetype": "text/x-python",
   "name": "python",
   "nbconvert_exporter": "python",
   "pygments_lexer": "ipython3",
   "version": "3.10.12"
  }
 },
 "nbformat": 4,
 "nbformat_minor": 5
}
