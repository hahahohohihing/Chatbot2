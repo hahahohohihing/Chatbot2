{
 "cells": [
  {
   "cell_type": "code",
   "execution_count": 28,
   "id": "2939684f",
   "metadata": {},
   "outputs": [
    {
     "data": {
      "text/plain": [
       "' [문제] few-shot prompting\\n- 사용자에게 질문을 받아서 모델의 답변받기\\n- LLM에게 예시를 몇 개 제시\\n  - zero-shot : 예시 없이 바로 질문\\n  - one-shot : 예시 1개\\n  - few-shot : 예시 여러 개 제공\\n'"
      ]
     },
     "execution_count": 28,
     "metadata": {},
     "output_type": "execute_result"
    }
   ],
   "source": [
    "''' [문제] few-shot prompting\n",
    "- 사용자에게 질문을 받아서 모델의 답변받기\n",
    "- LLM에게 예시를 몇 개 제시\n",
    "  - zero-shot : 예시 없이 바로 질문\n",
    "  - one-shot : 예시 1개\n",
    "  - few-shot : 예시 여러 개 제공\n",
    "'''"
   ]
  },
  {
   "cell_type": "code",
   "execution_count": 29,
   "id": "8a98a0e5",
   "metadata": {},
   "outputs": [
    {
     "data": {
      "text/plain": [
       "True"
      ]
     },
     "execution_count": 29,
     "metadata": {},
     "output_type": "execute_result"
    }
   ],
   "source": [
    "## 1. 모듈 읽어오기\n",
    "from langchain_openai import ChatOpenAI\n",
    "from langchain.callbacks.streaming_stdout import StreamingStdOutCallbackHandler\n",
    "from dotenv import load_dotenv\n",
    "load_dotenv()"
   ]
  },
  {
   "cell_type": "code",
   "execution_count": 36,
   "id": "a865ab1e",
   "metadata": {},
   "outputs": [
    {
     "data": {
      "text/plain": [
       "AIMessage(content=\"It looks like you're using an emoji (🦜) between the numbers 2 and 9. Could you please clarify what the emoji represents or what kind of operation you're referring to? Are you asking about a specific mathematical operation, a code, or something else?\", additional_kwargs={'refusal': None}, response_metadata={'token_usage': {'completion_tokens': 54, 'prompt_tokens': 17, 'total_tokens': 71, 'completion_tokens_details': {'accepted_prediction_tokens': 0, 'audio_tokens': 0, 'reasoning_tokens': 0, 'rejected_prediction_tokens': 0}, 'prompt_tokens_details': {'audio_tokens': 0, 'cached_tokens': 0}}, 'model_name': 'gpt-4.1-nano-2025-04-14', 'system_fingerprint': 'fp_8fd43718b3', 'id': 'chatcmpl-BZBwoNB2iVRklN9owHn3VKMqT0jc0', 'finish_reason': 'stop', 'logprobs': None}, id='run-404cbae6-0d5a-4d13-a3f0-7488ae292519-0', usage_metadata={'input_tokens': 17, 'output_tokens': 54, 'total_tokens': 71, 'input_token_details': {'audio': 0, 'cache_read': 0}, 'output_token_details': {'audio': 0, 'reasoning': 0}})"
      ]
     },
     "execution_count": 36,
     "metadata": {},
     "output_type": "execute_result"
    }
   ],
   "source": [
    "from langchain_openai import ChatOpenAI\n",
    "\n",
    "model = ChatOpenAI(model=\"gpt-4.1-nano\", temperature=0.0)\n",
    "\n",
    "model.invoke(\"What is 2 🦜 9?\")"
   ]
  },
  {
   "cell_type": "code",
   "execution_count": 37,
   "id": "37aaf373",
   "metadata": {},
   "outputs": [
    {
     "data": {
      "text/plain": [
       "True"
      ]
     },
     "execution_count": 37,
     "metadata": {},
     "output_type": "execute_result"
    }
   ],
   "source": [
    "from dotenv import load_dotenv\n",
    "\n",
    "load_dotenv()"
   ]
  },
  {
   "cell_type": "code",
   "execution_count": 38,
   "id": "077e6342",
   "metadata": {},
   "outputs": [
    {
     "data": {
      "text/plain": [
       "[{'role': 'user', 'content': '2 🦜 2'},\n",
       " {'role': 'assistant', 'content': '4'},\n",
       " {'role': 'user', 'content': '2 🦜 3'},\n",
       " {'role': 'assistant', 'content': '5'},\n",
       " {'role': 'user', 'content': 'What is 2 🦜 9?'}]"
      ]
     },
     "execution_count": 38,
     "metadata": {},
     "output_type": "execute_result"
    }
   ],
   "source": [
    "messages = [\n",
    "    {'role': 'user', 'content': '2 🦜 2'},\n",
    "    {'role': 'assistant', 'content': '4'},\n",
    "    {'role': 'user', 'content': '2 🦜 3'},\n",
    "    {'role': 'assistant', 'content': '5'},\n",
    "    {'role': 'user', 'content': 'What is 2 🦜 9?'}\n",
    "]\n",
    "messages"
   ]
  },
  {
   "cell_type": "code",
   "execution_count": 39,
   "id": "38ac6b7a",
   "metadata": {},
   "outputs": [
    {
     "name": "stdout",
     "output_type": "stream",
     "text": [
      "content='The symbol 🦜 typically represents the \"power\" or \"exponent\" operation in some contexts. Based on your previous examples:\\n\\n- 2 🦜 2 = 4 (which is 2 squared)\\n- 2 🦜 3 = 8 (which is 2 cubed)\\n\\nIt seems that 🦜 represents exponentiation with 2 as the base.\\n\\nSo, 2 🦜 9 = 2 raised to the 9th power.\\n\\nCalculating that:\\n\\n2^9 = 512\\n\\n**Answer: 512**' additional_kwargs={'refusal': None} response_metadata={'token_usage': {'completion_tokens': 117, 'prompt_tokens': 47, 'total_tokens': 164, 'completion_tokens_details': {'accepted_prediction_tokens': 0, 'audio_tokens': 0, 'reasoning_tokens': 0, 'rejected_prediction_tokens': 0}, 'prompt_tokens_details': {'audio_tokens': 0, 'cached_tokens': 0}}, 'model_name': 'gpt-4.1-nano-2025-04-14', 'system_fingerprint': 'fp_8fd43718b3', 'id': 'chatcmpl-BZBwwl84ZuL46VtlZhfZsR7ZiIYV0', 'finish_reason': 'stop', 'logprobs': None} id='run-80c3bf54-4a82-4e84-b703-1e92d3107937-0' usage_metadata={'input_tokens': 47, 'output_tokens': 117, 'total_tokens': 164, 'input_token_details': {'audio': 0, 'cache_read': 0}, 'output_token_details': {'audio': 0, 'reasoning': 0}}\n"
     ]
    }
   ],
   "source": [
    "response = model.invoke(messages)\n",
    "print(response)"
   ]
  },
  {
   "cell_type": "code",
   "execution_count": null,
   "id": "1a7b3a62",
   "metadata": {},
   "outputs": [],
   "source": []
  },
  {
   "cell_type": "code",
   "execution_count": null,
   "id": "f04cfb7c",
   "metadata": {},
   "outputs": [],
   "source": []
  },
  {
   "cell_type": "code",
   "execution_count": null,
   "id": "2d52bc48",
   "metadata": {},
   "outputs": [],
   "source": []
  }
 ],
 "metadata": {
  "kernelspec": {
   "display_name": "project",
   "language": "python",
   "name": "python3"
  },
  "language_info": {
   "codemirror_mode": {
    "name": "ipython",
    "version": 3
   },
   "file_extension": ".py",
   "mimetype": "text/x-python",
   "name": "python",
   "nbconvert_exporter": "python",
   "pygments_lexer": "ipython3",
   "version": "3.10.12"
  }
 },
 "nbformat": 4,
 "nbformat_minor": 5
}
