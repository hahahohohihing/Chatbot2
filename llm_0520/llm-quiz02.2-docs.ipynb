{
 "cells": [
  {
   "cell_type": "code",
   "execution_count": null,
   "id": "3d402a49",
   "metadata": {},
   "outputs": [],
   "source": [
    "'''\n",
    "[문제] few-shot\n",
    "- 예시 3개 이상\n",
    "- OpenAI Native format(style)\n",
    "\n",
    "\n",
    "\n",
    "'''"
   ]
  },
  {
   "cell_type": "code",
   "execution_count": 1,
   "id": "00327a63",
   "metadata": {},
   "outputs": [],
   "source": [
    "from langchain_openai import ChatOpenAI\n",
    "from langchain.callbacks.streaming_stdout import StreamingStdOutCallbackHandler\n",
    "from dotenv import load_dotenv\n",
    "\n",
    "from dotenv import load_dotenv"
   ]
  },
  {
   "cell_type": "code",
   "execution_count": 2,
   "id": "d75aafad",
   "metadata": {},
   "outputs": [
    {
     "data": {
      "text/plain": [
       "True"
      ]
     },
     "execution_count": 2,
     "metadata": {},
     "output_type": "execute_result"
    }
   ],
   "source": [
    "load_dotenv()"
   ]
  },
  {
   "cell_type": "code",
   "execution_count": 3,
   "id": "666a864d",
   "metadata": {},
   "outputs": [
    {
     "data": {
      "text/plain": [
       "ChatOpenAI(callbacks=[<langchain_core.callbacks.streaming_stdout.StreamingStdOutCallbackHandler object at 0x10c78fd60>], client=<openai.resources.chat.completions.completions.Completions object at 0x10c871960>, async_client=<openai.resources.chat.completions.completions.AsyncCompletions object at 0x10c890700>, root_client=<openai.OpenAI object at 0x10c78d150>, root_async_client=<openai.AsyncOpenAI object at 0x10c871a20>, model_name='gpt-4.1-nano', model_kwargs={}, openai_api_key=SecretStr('**********'), streaming=True)"
      ]
     },
     "execution_count": 3,
     "metadata": {},
     "output_type": "execute_result"
    }
   ],
   "source": [
    "llm = ChatOpenAI(\n",
    "    model='gpt-4.1-nano',\n",
    "    streaming=True,\n",
    "    callbacks=[StreamingStdOutCallbackHandler()]\n",
    ")\n",
    "llm"
   ]
  },
  {
   "cell_type": "code",
   "execution_count": 6,
   "id": "3abb3f27",
   "metadata": {},
   "outputs": [
    {
     "data": {
      "text/plain": [
       "[{'role': 'system', 'content': '너는 초등학생이야, 예상답변을 써주지 마'},\n",
       " {'role': 'user', 'content': '일 년은 몇 개월?'},\n",
       " {'role': 'assistant', 'content': '멍멍'},\n",
       " {'role': 'user', 'content': '우리나라에서 제일 높은 산은?'},\n",
       " {'role': 'assistant', 'content': '후지산'},\n",
       " {'role': 'user', 'content': '정오는 몇 시를 뜻하지?'}]"
      ]
     },
     "execution_count": 6,
     "metadata": {},
     "output_type": "execute_result"
    }
   ],
   "source": [
    "query = input('질문하세요')\n",
    "messages = [\n",
    "    {'role': 'system', 'content': '너는 초등학생이야, 예상답변을 써주지 마'},\n",
    "    {'role': 'user', 'content': '일 년은 몇 개월?'},\n",
    "    {'role': 'assistant', 'content': '멍멍'},\n",
    "    \n",
    "    {'role': 'user', 'content': '우리나라에서 제일 높은 산은?'},\n",
    "    {'role': 'assistant', 'content': '후지산'},\n",
    "\n",
    "    {'role': 'user', 'content': query}\n",
    "]\n",
    "messages"
   ]
  },
  {
   "cell_type": "code",
   "execution_count": 8,
   "id": "3a848d15",
   "metadata": {},
   "outputs": [
    {
     "name": "stdout",
     "output_type": "stream",
     "text": [
      "정오란 낮 12시를 의미해."
     ]
    }
   ],
   "source": [
    "ai_message = llm.invoke(messages)"
   ]
  },
  {
   "cell_type": "code",
   "execution_count": null,
   "id": "6c2fe01a",
   "metadata": {},
   "outputs": [],
   "source": []
  },
  {
   "cell_type": "code",
   "execution_count": null,
   "id": "1ce7eca6",
   "metadata": {},
   "outputs": [],
   "source": []
  }
 ],
 "metadata": {
  "kernelspec": {
   "display_name": "project",
   "language": "python",
   "name": "python3"
  },
  "language_info": {
   "codemirror_mode": {
    "name": "ipython",
    "version": 3
   },
   "file_extension": ".py",
   "mimetype": "text/x-python",
   "name": "python",
   "nbconvert_exporter": "python",
   "pygments_lexer": "ipython3",
   "version": "3.10.12"
  }
 },
 "nbformat": 4,
 "nbformat_minor": 5
}
