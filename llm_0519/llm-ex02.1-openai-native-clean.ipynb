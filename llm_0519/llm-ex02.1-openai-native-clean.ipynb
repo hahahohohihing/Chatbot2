{
 "cells": [
  {
   "cell_type": "markdown",
   "id": "76ef8d85",
   "metadata": {},
   "source": [
    "# [문제]\n",
    "- model: gpt-4.1-nano\n",
    "- 스트리밍 활성화\n",
    "- **multi-turn 대화**\n",
    "- role: system    -> 역할 부여  \n",
    "  role: user      -> 질문: 사용자에게 받을 것  \n",
    "  role: assistant -> 답변: LLM 모델 답변  "
   ]
  },
  {
   "cell_type": "code",
   "execution_count": null,
   "id": "218adbaf",
   "metadata": {},
   "outputs": [],
   "source": [
    "## 1. 모듈(파일) 읽어오기\n",
    "from langchain_openai import ChatOpenAI\n",
    "from dotenv import load_dotenv\n",
    "from langchain.callbacks.streaming_stdout import StreamingStdOutCallbackHandler\n",
    "\n",
    "## 2. 환경변수에 설정된 값 읽어오기\n",
    "load_dotenv()\n",
    "\n",
    "## 3. ChatOpenAI 인스턴스 생성\n",
    "llm = ChatOpenAI(\n",
    "  model='gpt-4.1-nano',\n",
    "  streaming=True,\n",
    "  callbacks=[StreamingStdOutCallbackHandler()],\n",
    ")\n",
    "\n",
    "## 4. system prompt 작성\n",
    "messages = [\n",
    "  ## system: 모델의 역할과 스타일 지정\n",
    "  {'role': 'system', \n",
    "   'content': '너는 20년차 광고 기획자야. 질문에 프로답게 상세하고 친절하게 답변해줘.'},\n",
    "]\n",
    "\n",
    "## 5. 질문 -> 답변\n",
    "while True:\n",
    "  query = input('질문하세요... (종료하려면 S 입력) >>')\n",
    "\n",
    "  if query.upper() == 'S':\n",
    "    break\n",
    "\n",
    "  messages.append({'role': 'user', 'content': query})\n",
    "  print(messages)\n",
    "\n",
    "  ai_message = llm.invoke(messages)\n",
    "  \n",
    "  messages.append({'role': 'assistant', 'content': ai_message.content})\n",
    "  print(messages)"
   ]
  },
  {
   "cell_type": "code",
   "execution_count": 6,
   "id": "f7c47d11",
   "metadata": {},
   "outputs": [
    {
     "data": {
      "text/plain": [
       "[{'role': 'system', 'content': '너는 20년차 광고 기획자야. 질문에 프로답게 상세하고 친절하게 답변해줘.'},\n",
       " {'role': 'user', 'content': '온라인 마케팅을 기획하려고 해. 시작을 어떻게 해야 할까?'},\n",
       " {'role': 'assistant',\n",
       "  'content': '안녕하세요! 온라인 마케팅을 시작하려는 결정을 하셨다니 정말 훌륭한 선택입니다. 체계적인 접근이 성공의 열쇠이기 때문에, 아래 단계별로 상세하게 안내드리겠습니다.\\n\\n1. 목표 설정\\n먼저, 온라인 마케팅의 목표를 명확히 정하세요. 예를 들어:\\n- 브랜드 인지도 향상\\n- 판매 증대\\n- 고객과의 소통 강화\\n- 구독자 또는 팔로워 증가\\n구체적이고 측정 가능한 목표(S.M.A.R.T) 설정이 중요합니다.\\n\\n2. 타깃 고객 정의\\n누구를 대상으로 마케팅할 것인지 명확하게 파악하세요. 고객의 연령대, 성별, 지역, 관심사, 소비 성향 등을 분석하여 이상적인 고객 페르소나를 만들면 전략 수립이 수월해집니다.\\n\\n3. 경쟁사 분석\\n경쟁사의 온라인 활동을 분석하여 강점과 약점을 파악하세요. 어떤 채널을 사용하는지, 어떤 메시지를 전달하는지, 어떤 프로모션을 하고 있는지 세심하게 조사하는 것이 유리합니다.\\n\\n4. 전략 및 채널 선정\\n목표와 타깃에 맞는 온라인 채널을 선택하세요. 일반적으로 고려할 채널은 다음과 같습니다.\\n- 검색 엔진 마케팅(구글 애드워즈, SEO)\\n- 소셜 미디어(인스타그램, 페이스북, 네이버 포스트 등)\\n- 이메일 마케팅\\n- 온라인 광고(배너, 디스플레이 광고)\\n- 콘텐츠 마케팅(블로그, 유튜브 콘텐츠)\\n\\n5. 콘텐츠 계획 수립\\n타깃 고객이 관심 갖고 참여할 수 있는 콘텐츠를 기획하세요. 유용한 정보, 재미를 유발하는 콘텐츠, 고객 참여를 유도하는 이벤트 등 다양한 방식을 활용할 수 있습니다.\\n\\n6. 예산 책정 및 일정 수립\\n실행 가능한 예산을 정하고, 구체적인 일정표를 만들어 각 활동의 시작과 마감 시점을 명확히 하세요. 예산은 채널별, 목표별로 배분합니다.\\n\\n7. 실행 및 모니터링\\n계획에 따라 콘텐츠를 제작하고, 광고를 집행하세요. 동시에 실시간 또는 주기적으로 성과를 체크하여 필요시 전략을 조정하는 게 핵심입니다. 구글 애널리틱스, SNS 인사이트, 광고 플랫폼 분석 도구를 활용하세요.\\n\\n8. 성과 분석 및 최적화\\n목표 달성률, 클릭률, 전환율 등 핵심성과지표(KPI)를 측정하고 분석하세요. 가장 효과적인 방식을 강화하고, 성과가 저조한 부분은 개선 방안을 마련합니다.\\n\\n**추가로 드리고 싶은 팁:**\\n- 지속적이고 일관된 활동이 중요합니다.\\n- 고객 피드백과 데이터를 바탕으로 유연하게 전략을 수정하세요.\\n- 최신 디지털 트렌드와 기술을 꾸준히 습득하는 것도 매우 중요합니다.\\n\\n이와 같은 체계적인 방법으로 온라인 마케팅을 준비하시면, 더 효과적이고 목표에 부합하는 캠페인을 진행하실 수 있습니다. 궁금하신 점이나 구체적인 계획 수립에 도움이 필요하시면 언제든 말씀해 주세요!'}]"
      ]
     },
     "execution_count": 6,
     "metadata": {},
     "output_type": "execute_result"
    }
   ],
   "source": [
    "messages"
   ]
  }
 ],
 "metadata": {
  "kernelspec": {
   "display_name": "project",
   "language": "python",
   "name": "python3"
  },
  "language_info": {
   "codemirror_mode": {
    "name": "ipython",
    "version": 3
   },
   "file_extension": ".py",
   "mimetype": "text/x-python",
   "name": "python",
   "nbconvert_exporter": "python",
   "pygments_lexer": "ipython3",
   "version": "3.10.12"
  }
 },
 "nbformat": 4,
 "nbformat_minor": 5
}
