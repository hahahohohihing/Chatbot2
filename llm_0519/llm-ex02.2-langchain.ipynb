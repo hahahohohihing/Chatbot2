{
 "cells": [
  {
   "cell_type": "markdown",
   "id": "76ef8d85",
   "metadata": {},
   "source": [
    "# [문제]\n",
    "- model: gpt-4.1-nano\n",
    "- 스트리밍 활성화\n",
    "- **multi-turn 대화**\n",
    "- SystemMessage     -> 역할 부여  \n",
    "  HumanMessage      -> 질문: 사용자에게 받을 것  \n",
    "  AiMessage         -> 답변: LLM 모델 답변  "
   ]
  },
  {
   "cell_type": "markdown",
   "id": "81f98249",
   "metadata": {},
   "source": []
  },
  {
   "cell_type": "markdown",
   "id": "66d49f77",
   "metadata": {},
   "source": []
  },
  {
   "cell_type": "code",
   "execution_count": 1,
   "id": "218adbaf",
   "metadata": {},
   "outputs": [],
   "source": [
    "from langchain_openai import ChatOpenAI\n",
    "from langchain.callbacks.streaming_stdout import StreamingStdOutCallbackHandler\n",
    "from dotenv import load_dotenv\n",
    "from langchain_core.messages import SystemMessage, HumanMessage, AIMessage"
   ]
  },
  {
   "cell_type": "code",
   "execution_count": 2,
   "id": "c3fb3970",
   "metadata": {},
   "outputs": [
    {
     "data": {
      "text/plain": [
       "True"
      ]
     },
     "execution_count": 2,
     "metadata": {},
     "output_type": "execute_result"
    }
   ],
   "source": [
    "## 2. 환경변수에 설정된 값 읽어오기\n",
    "load_dotenv()"
   ]
  },
  {
   "cell_type": "code",
   "execution_count": 3,
   "id": "e04d97d9",
   "metadata": {},
   "outputs": [
    {
     "data": {
      "text/plain": [
       "ChatOpenAI(callbacks=[<langchain_core.callbacks.streaming_stdout.StreamingStdOutCallbackHandler object at 0x1157d2b00>], client=<openai.resources.chat.completions.completions.Completions object at 0x115ac9900>, async_client=<openai.resources.chat.completions.completions.AsyncCompletions object at 0x115ae86a0>, root_client=<openai.OpenAI object at 0x1114b4f70>, root_async_client=<openai.AsyncOpenAI object at 0x115ac99c0>, model_name='gpt-4.1-nano', model_kwargs={}, openai_api_key=SecretStr('**********'), streaming=True)"
      ]
     },
     "execution_count": 3,
     "metadata": {},
     "output_type": "execute_result"
    }
   ],
   "source": [
    "llm = ChatOpenAI(\n",
    "    model='gpt-4.1-nano',\n",
    "streaming=True,\n",
    "callbacks=[StreamingStdOutCallbackHandler()],\n",
    ")\n",
    "\n",
    "llm"
   ]
  },
  {
   "cell_type": "code",
   "execution_count": 4,
   "id": "76a9701b",
   "metadata": {},
   "outputs": [],
   "source": [
    "messages = [\n",
    "    SystemMessage(content='너는 20년차 광고 기획자야. 질문에 프로답게 상세하고 친절하게 답변해줘.')\n",
    "]"
   ]
  },
  {
   "cell_type": "code",
   "execution_count": 5,
   "id": "9ff35ece",
   "metadata": {},
   "outputs": [],
   "source": [
    "while True:\n",
    "    query = input('질문하세요 (종료하라면 S 입력 >>)')\n",
    "\n",
    "    if query.upper() == 'S':\n",
    "        break\n",
    "    \n",
    "    messages.append(HumanMessage(content=query))\n",
    "\n",
    "\n",
    "    ## 질문\n",
    "    ai_message = llm.invoke(messages)\n",
    "\n",
    "    messages.append(AIMessage(content=ai_message.content))"
   ]
  },
  {
   "cell_type": "code",
   "execution_count": 6,
   "id": "f7c47d11",
   "metadata": {},
   "outputs": [
    {
     "ename": "NameError",
     "evalue": "name 'ai_message' is not defined",
     "output_type": "error",
     "traceback": [
      "\u001b[0;31m---------------------------------------------------------------------------\u001b[0m",
      "\u001b[0;31mNameError\u001b[0m                                 Traceback (most recent call last)",
      "Cell \u001b[0;32mIn[6], line 1\u001b[0m\n\u001b[0;32m----> 1\u001b[0m \u001b[43mai_message\u001b[49m\n",
      "\u001b[0;31mNameError\u001b[0m: name 'ai_message' is not defined"
     ]
    }
   ],
   "source": [
    "ai_message"
   ]
  },
  {
   "cell_type": "code",
   "execution_count": null,
   "id": "943a3413",
   "metadata": {},
   "outputs": [],
   "source": []
  }
 ],
 "metadata": {
  "kernelspec": {
   "display_name": "project",
   "language": "python",
   "name": "python3"
  },
  "language_info": {
   "codemirror_mode": {
    "name": "ipython",
    "version": 3
   },
   "file_extension": ".py",
   "mimetype": "text/x-python",
   "name": "python",
   "nbconvert_exporter": "python",
   "pygments_lexer": "ipython3",
   "version": "3.10.12"
  }
 },
 "nbformat": 4,
 "nbformat_minor": 5
}
