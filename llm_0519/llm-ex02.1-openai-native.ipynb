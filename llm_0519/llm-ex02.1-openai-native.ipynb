{
 "cells": [
  {
   "cell_type": "markdown",
   "id": "76ef8d85",
   "metadata": {},
   "source": [
    "# [문제]\n",
    "- model: gpt-4.1-nano\n",
    "- 스트리밍 활성화\n",
    "- **multi-turn 대화**\n",
    "- role: system    -> 역할 부여  \n",
    "  role: user      -> 질문: 사용자에게 받을 것  \n",
    "  role: assistant -> 답변: LLM 모델 답변  "
   ]
  },
  {
   "cell_type": "code",
   "execution_count": 2,
   "id": "218adbaf",
   "metadata": {},
   "outputs": [],
   "source": [
    "## 1. 모듈(파일) 읽어오기\n",
    "from langchain_openai import ChatOpenAI\n",
    "from dotenv import load_dotenv\n",
    "from langchain.callbacks.streaming_stdout import StreamingStdOutCallbackHandler"
   ]
  },
  {
   "cell_type": "code",
   "execution_count": 3,
   "id": "c3fb3970",
   "metadata": {},
   "outputs": [
    {
     "data": {
      "text/plain": [
       "True"
      ]
     },
     "execution_count": 3,
     "metadata": {},
     "output_type": "execute_result"
    }
   ],
   "source": [
    "## 2. 환경변수에 설정된 값 읽어오기\n",
    "load_dotenv()"
   ]
  },
  {
   "cell_type": "code",
   "execution_count": 4,
   "id": "9584a92f",
   "metadata": {},
   "outputs": [
    {
     "data": {
      "text/plain": [
       "ChatOpenAI(callbacks=[<langchain_core.callbacks.streaming_stdout.StreamingStdOutCallbackHandler object at 0x10a1f6fb0>], client=<openai.resources.chat.completions.completions.Completions object at 0x10a64d8d0>, async_client=<openai.resources.chat.completions.completions.AsyncCompletions object at 0x10a66c670>, root_client=<openai.OpenAI object at 0x1042ac9d0>, root_async_client=<openai.AsyncOpenAI object at 0x10a64d990>, model_name='gpt-4.1-nano', model_kwargs={}, openai_api_key=SecretStr('**********'), streaming=True)"
      ]
     },
     "execution_count": 4,
     "metadata": {},
     "output_type": "execute_result"
    }
   ],
   "source": [
    "## 3. ChatOpenAI 인스턴스 생성\n",
    "llm = ChatOpenAI(\n",
    "  model='gpt-4.1-nano',\n",
    "  streaming=True,\n",
    "  callbacks=[StreamingStdOutCallbackHandler()],\n",
    ")\n",
    "\n",
    "llm"
   ]
  },
  {
   "cell_type": "code",
   "execution_count": 5,
   "id": "e04d97d9",
   "metadata": {},
   "outputs": [],
   "source": [
    "## 4. system prompt 작성\n",
    "messages = [\n",
    "  ## system: 모델의 역할과 스타일 지정\n",
    "  {'role': 'system', \n",
    "   'content': '너는 20년차 광고 기획자야. 질문에 프로답게 상세하고 친절하게 답변해줘.'},\n",
    "]"
   ]
  },
  {
   "cell_type": "code",
   "execution_count": 6,
   "id": "9ff35ece",
   "metadata": {},
   "outputs": [],
   "source": [
    "## 5. 질문 -> 답변\n",
    "while True:\n",
    "  query = input('질문하세요... (종료하려면 S 입력) >>')\n",
    "\n",
    "  if query.upper() == 'S':\n",
    "    break\n",
    "\n",
    "  messages.append({'role': 'user', 'content': query})\n",
    "  print(messages)\n",
    "\n",
    "  ai_message = llm.invoke(messages)\n",
    "  \n",
    "  messages.append({'role': 'assistant', 'content': ai_message.content})\n",
    "  print(messages)"
   ]
  },
  {
   "cell_type": "code",
   "execution_count": 7,
   "id": "f7c47d11",
   "metadata": {},
   "outputs": [
    {
     "data": {
      "text/plain": [
       "[{'role': 'system', 'content': '너는 20년차 광고 기획자야. 질문에 프로답게 상세하고 친절하게 답변해줘.'}]"
      ]
     },
     "execution_count": 7,
     "metadata": {},
     "output_type": "execute_result"
    }
   ],
   "source": [
    "messages"
   ]
  }
 ],
 "metadata": {
  "kernelspec": {
   "display_name": "project",
   "language": "python",
   "name": "python3"
  },
  "language_info": {
   "codemirror_mode": {
    "name": "ipython",
    "version": 3
   },
   "file_extension": ".py",
   "mimetype": "text/x-python",
   "name": "python",
   "nbconvert_exporter": "python",
   "pygments_lexer": "ipython3",
   "version": "3.10.12"
  }
 },
 "nbformat": 4,
 "nbformat_minor": 5
}
