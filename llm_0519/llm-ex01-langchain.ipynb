{
 "cells": [
  {
   "cell_type": "markdown",
   "id": "4e36ffcc",
   "metadata": {},
   "source": [
    "# [문제]\n",
    "- model: gpt-4.1-nano\n",
    "- 스트리밍 활성화\n",
    "- single-turn 대화\n",
    "- role: system    -> 역할 부여  \n",
    "  role: user      -> 질문: 사용자에게 받을 것  \n",
    "  role: assistant -> 답변: LLM 모델 답변    \n",
    "  "
   ]
  },
  {
   "cell_type": "code",
   "execution_count": 1,
   "id": "c0772072",
   "metadata": {},
   "outputs": [],
   "source": [
    "## 1. 모듈(파일) 읽어오기\n",
    "from langchain_openai import ChatOpenAI\n",
    "from dotenv import load_dotenv\n",
    "from langchain.callbacks.streaming_stdout import StreamingStdOutCallbackHandler\n",
    "from langchain_core.messages import SystemMessage, HumanMessage"
   ]
  },
  {
   "cell_type": "code",
   "execution_count": 2,
   "id": "b4fdab76",
   "metadata": {},
   "outputs": [
    {
     "data": {
      "text/plain": [
       "True"
      ]
     },
     "execution_count": 2,
     "metadata": {},
     "output_type": "execute_result"
    }
   ],
   "source": [
    "## 2. 환경변수에 설정된 값 읽어오기\n",
    "load_dotenv()"
   ]
  },
  {
   "cell_type": "code",
   "execution_count": 3,
   "id": "8fb8bb92",
   "metadata": {},
   "outputs": [
    {
     "data": {
      "text/plain": [
       "ChatOpenAI(callbacks=[<langchain_core.callbacks.streaming_stdout.StreamingStdOutCallbackHandler object at 0x000001A8EDF19B10>], client=<openai.resources.chat.completions.completions.Completions object at 0x000001A8F08AB7C0>, async_client=<openai.resources.chat.completions.completions.AsyncCompletions object at 0x000001A8F08D6560>, root_client=<openai.OpenAI object at 0x000001A8F07E51B0>, root_async_client=<openai.AsyncOpenAI object at 0x000001A8F08AB8B0>, model_name='gpt-4.1-nano', model_kwargs={}, openai_api_key=SecretStr('**********'), streaming=True)"
      ]
     },
     "execution_count": 3,
     "metadata": {},
     "output_type": "execute_result"
    }
   ],
   "source": [
    "## 3. ChatOpenAI 인스턴스 생성\n",
    "llm = ChatOpenAI(\n",
    "  model='gpt-4.1-nano',\n",
    "  streaming=True,\n",
    "  callbacks=[StreamingStdOutCallbackHandler()],\n",
    ")\n",
    "\n",
    "llm"
   ]
  },
  {
   "cell_type": "code",
   "execution_count": 4,
   "id": "3dba4911",
   "metadata": {},
   "outputs": [
    {
     "data": {
      "text/plain": [
       "[SystemMessage(content='너는 20년차 광고 기획자야. 질문에 프로답게 상세하고 친절하게 답변해줘.', additional_kwargs={}, response_metadata={}),\n",
       " HumanMessage(content='온라인 마케팅을 기획하려고 해. 시작을 어떻게 해야 할까?', additional_kwargs={}, response_metadata={})]"
      ]
     },
     "execution_count": 4,
     "metadata": {},
     "output_type": "execute_result"
    }
   ],
   "source": [
    "## LangChain Format #######################\n",
    "## 4. system prompt 작성\n",
    "\n",
    "## '온라인 마케팅을 기획하려고 해. 시작을 어떻게 해야 할까?'\n",
    "query = input('질문을 입력하세요 >> ')\n",
    "\n",
    "## system: 모델의 역할과 스타일 지정\n",
    "systemMessage = SystemMessage(content='너는 20년차 광고 기획자야. 질문에 프로답게 상세하고 친절하게 답변해줘.')\n",
    "## user: 실제 사용자의 질문\n",
    "humanMessage = HumanMessage(content=query)\n",
    "\n",
    "message = [systemMessage, humanMessage]\n",
    "\n",
    "message\n"
   ]
  },
  {
   "cell_type": "code",
   "execution_count": 5,
   "id": "deb2157a",
   "metadata": {},
   "outputs": [
    {
     "name": "stdout",
     "output_type": "stream",
     "text": [
      "안녕하세요! 온라인 마케팅을 시작하려는 계획이 있어 정말 잘하셨습니다. 성공적인 온라인 마케팅은 체계적인 준비와 전략 수립이 핵심인데요, 아래 단계별로 자세히 안내 드리겠습니다.\n",
      "\n",
      "1. 목표 수립\n",
      "먼저, 온라인 마케팅을 통해 달성하고자 하는 목표를 명확하게 정하세요. 예를 들어:\n",
      "- 브랜드 인지도 향상\n",
      "- 신규 고객 확보\n",
      "- 판매 증대\n",
      "- 고객 충성도 강화\n",
      "이 목표들은 이후 전략 수립과 성과 측정의 근거가 됩니다.\n",
      "\n",
      "2. 타겟 고객 분석\n",
      "당신의 제품이나 서비스의 주 고객층을 정의하세요.\n",
      "- 연령, 성별, 지역, 직업, 관심사, 온라인 행동 패턴\n",
      "이 정보를 바탕으로 타겟 고객의 니즈와 선호도를 파악하는 것이 매우 중요합니다.\n",
      "\n",
      "3. 경쟁사 분석\n",
      "경쟁사의 온라인 활동과 강점, 약점을 분석하세요.\n",
      "- 어떤 채널을 활용하는지\n",
      "- 어떤 메시지와 콘텐츠를 사용하는지\n",
      "이 정보를 통해 차별화 전략을 세울 수 있습니다.\n",
      "\n",
      "4. 채널 선정\n",
      "목표와 타겟에 맞는 온라인 채널을 선정하세요.\n",
      "- 검색 엔진(구글, 네이버 등) SEO와 SEM\n",
      "- SNS 플랫폼(Facebook, Instagram, TikTok, KakaoTalk 등)\n",
      "- 홈페이지 또는 랜딩페이지\n",
      "- 이메일 마케팅\n",
      "각 채널의 특성을 이해하고, 예산과 인력에 맞춰 우선순위를 정하는 것이 중요합니다.\n",
      "\n",
      "5. 콘텐츠 전략 수립\n",
      "타겟 고객이 관심 가질 만한 콘텐츠를 기획하세요.\n",
      "- 제품 정보, 고객 사례, 유용한 노하우 등\n",
      "- 콘텐츠 타입: 영상, 이미지, 블로그 글, SNS 게시물 등\n",
      "일관된 메시지와 브랜드 이미지를 유지하는 것이 신뢰도를 높입니다.\n",
      "\n",
      "6. 예산 편성 및 일정 계획\n",
      "투자할 마케팅 비용과 일정 계획을 세우세요.\n",
      "- 예산 배분(광고 집행, 콘텐츠 제작, 도구 구매 등)\n",
      "- 실행 일정과 목표 달성 시기\n",
      "\n",
      "7. 측정과 분석\n",
      "성과를 체크할 KPI(Key Performance Indicators)를 정하세요.\n",
      "- 방문자 수, 클릭률, 전환율, ROI 등\n",
      "구글 애널리틱스, 광고 플랫폼 분석 도구 등을 활용해 정기적으로 성과를 모니터링하고, 필요시 전략을 조정하세요.\n",
      "\n",
      "8. 실행 및 최적화\n",
      "계획에 따라 실행하며, 데이터를 기반으로 지속적으로 개선해 나가세요.\n",
      "- A/B 테스트를 통해 메시지, 크리에이티브, 타겟팅 전략을 최적화\n",
      "- 고객 반응에 따라 콘텐츠 및 채널 조정\n",
      "\n",
      "추가로, 온라인 마케팅은 반복과 실험이 중요하니 꾸준한 모니터링과 유연한 대응이 성공의 열쇠입니다. 부담스럽거나 궁금한 점 있으면 언제든 질문 주세요. 성공적인 캠페인 기원드립니다!"
     ]
    },
    {
     "data": {
      "text/plain": [
       "AIMessage(content='안녕하세요! 온라인 마케팅을 시작하려는 계획이 있어 정말 잘하셨습니다. 성공적인 온라인 마케팅은 체계적인 준비와 전략 수립이 핵심인데요, 아래 단계별로 자세히 안내 드리겠습니다.\\n\\n1. 목표 수립\\n먼저, 온라인 마케팅을 통해 달성하고자 하는 목표를 명확하게 정하세요. 예를 들어:\\n- 브랜드 인지도 향상\\n- 신규 고객 확보\\n- 판매 증대\\n- 고객 충성도 강화\\n이 목표들은 이후 전략 수립과 성과 측정의 근거가 됩니다.\\n\\n2. 타겟 고객 분석\\n당신의 제품이나 서비스의 주 고객층을 정의하세요.\\n- 연령, 성별, 지역, 직업, 관심사, 온라인 행동 패턴\\n이 정보를 바탕으로 타겟 고객의 니즈와 선호도를 파악하는 것이 매우 중요합니다.\\n\\n3. 경쟁사 분석\\n경쟁사의 온라인 활동과 강점, 약점을 분석하세요.\\n- 어떤 채널을 활용하는지\\n- 어떤 메시지와 콘텐츠를 사용하는지\\n이 정보를 통해 차별화 전략을 세울 수 있습니다.\\n\\n4. 채널 선정\\n목표와 타겟에 맞는 온라인 채널을 선정하세요.\\n- 검색 엔진(구글, 네이버 등) SEO와 SEM\\n- SNS 플랫폼(Facebook, Instagram, TikTok, KakaoTalk 등)\\n- 홈페이지 또는 랜딩페이지\\n- 이메일 마케팅\\n각 채널의 특성을 이해하고, 예산과 인력에 맞춰 우선순위를 정하는 것이 중요합니다.\\n\\n5. 콘텐츠 전략 수립\\n타겟 고객이 관심 가질 만한 콘텐츠를 기획하세요.\\n- 제품 정보, 고객 사례, 유용한 노하우 등\\n- 콘텐츠 타입: 영상, 이미지, 블로그 글, SNS 게시물 등\\n일관된 메시지와 브랜드 이미지를 유지하는 것이 신뢰도를 높입니다.\\n\\n6. 예산 편성 및 일정 계획\\n투자할 마케팅 비용과 일정 계획을 세우세요.\\n- 예산 배분(광고 집행, 콘텐츠 제작, 도구 구매 등)\\n- 실행 일정과 목표 달성 시기\\n\\n7. 측정과 분석\\n성과를 체크할 KPI(Key Performance Indicators)를 정하세요.\\n- 방문자 수, 클릭률, 전환율, ROI 등\\n구글 애널리틱스, 광고 플랫폼 분석 도구 등을 활용해 정기적으로 성과를 모니터링하고, 필요시 전략을 조정하세요.\\n\\n8. 실행 및 최적화\\n계획에 따라 실행하며, 데이터를 기반으로 지속적으로 개선해 나가세요.\\n- A/B 테스트를 통해 메시지, 크리에이티브, 타겟팅 전략을 최적화\\n- 고객 반응에 따라 콘텐츠 및 채널 조정\\n\\n추가로, 온라인 마케팅은 반복과 실험이 중요하니 꾸준한 모니터링과 유연한 대응이 성공의 열쇠입니다. 부담스럽거나 궁금한 점 있으면 언제든 질문 주세요. 성공적인 캠페인 기원드립니다!', additional_kwargs={}, response_metadata={'finish_reason': 'stop', 'model_name': 'gpt-4.1-nano-2025-04-14', 'system_fingerprint': 'fp_8fd43718b3'}, id='run-0faf4bb4-f38d-4efc-bfd4-91dfbddf8b74-0')"
      ]
     },
     "execution_count": 5,
     "metadata": {},
     "output_type": "execute_result"
    }
   ],
   "source": [
    "ai_message = llm.invoke(message)\n",
    "ai_message"
   ]
  },
  {
   "cell_type": "code",
   "execution_count": 7,
   "id": "65da159f",
   "metadata": {},
   "outputs": [
    {
     "data": {
      "text/plain": [
       "'온라인 마케팅 기획을 시작하는 데 있어 가장 중요한 첫 단계는 명확한 목표 설정과 타깃 고객 분석입니다. 아래 단계별로 상세하게 설명드릴게요.\\n\\n1. **목표 설정**\\n   - 구체적이고 측정 가능한 목표를 세우세요. 예를 들면, 브랜드 인지도 향상, 웹사이트 방문자 수 증가, 판매량 증대, 신규 고객 확보 등.\\n   - 목표를 SMART(구체적, 측정 가능, 달성 가능, 관련성, 시간 기반) 기준에 맞게 정리하세요.\\n\\n2. **타깃 고객 분석**\\n   - 고객의 인구통계(연령, 성별, 지역 등), 심리적 특성(라이프스타일, 관심사, 구매 동기), 온라인 행동 패턴(주로 사용하는 플랫폼, 검색 키워드)을 파악하세요.\\n   - 설문조사, 인터뷰, 기존 데이터 분석, 경쟁사 분석 등을 통해 정보를 수집합니다.\\n\\n3. **경쟁사 분석**\\n   - 경쟁사들이 어떤 온라인 마케팅 전략을 사용하는지 파악하세요.\\n   - 강점과 약점, 차별화 요소를 분석하여 차별화 전략을 설계하세요.\\n   \\n4. **채널 선정**\\n   - 고객이 활발히 활동하는 온라인 플랫폼(예: 구글, 페이스북, 인스타그램, 유튜브, 네이버 등)을 선정합니다.\\n   - 각 채널의 특성에 맞는 콘텐츠 전략을 수립하세요.\\n\\n5. **콘텐츠 전략 수립**\\n   - 타깃 고객에 맞는 콘텐츠 유형(영상, 이미지, 블로그 포스트, 뉴스레터 등)을 결정하세요.\\n   - 브랜드 메시지와 톤앤매너를 정립하고, 콘텐츠 캘린더를 만들어 일정관리합니다.\\n\\n6. **광고 예산 및 일정 계획**\\n   - 전체 예산을 정하고, 각 채널 별 배분 전략을 세우세요.\\n   - 캠페인 일정과 주요 마일스톤을 정리합니다.\\n\\n7. **성과 지표 설정 및 측정**\\n   - KPI(Key Performance Indicator)를 정하세요. (예: 클릭률, 전환율, ROI, 고객 확보 비용 등)\\n   - 분석 툴을 활용해 정기적으로 성과를 체크하고, 필요시 전략을 수정하세요.\\n\\n8. **실행 및 최적화**\\n   - 계획에 따라 캠페인을 시작하고, 데이터를 분석하며 실시간 최적화를 진행하세요.\\n   - A/B 테스트, 타겟팅 세분화, 콘텐츠 수정 등을 통해 효과를 높이세요.\\n\\n---\\n\\n**요약하자면**, 온라인 마케팅의 성공은 철저한 사전 기획에서 시작됩니다. 목표와 고객 분석을 바탕으로 전략을 세우고, 실행과 피드백 과정을 지속하며 최적화하는 것이 핵심입니다. 필요하면 더 구체적인 사례나 질문도 도와드릴 수 있으니 언제든 말씀해 주세요!'"
      ]
     },
     "execution_count": 7,
     "metadata": {},
     "output_type": "execute_result"
    }
   ],
   "source": [
    "ai_message.content"
   ]
  },
  {
   "cell_type": "code",
   "execution_count": null,
   "id": "f9d22edd",
   "metadata": {},
   "outputs": [],
   "source": []
  },
  {
   "cell_type": "code",
   "execution_count": null,
   "id": "e0dadc89",
   "metadata": {},
   "outputs": [],
   "source": []
  },
  {
   "cell_type": "code",
   "execution_count": null,
   "id": "8f5792df",
   "metadata": {},
   "outputs": [],
   "source": []
  },
  {
   "cell_type": "code",
   "execution_count": null,
   "id": "288ef738",
   "metadata": {},
   "outputs": [],
   "source": []
  },
  {
   "cell_type": "code",
   "execution_count": null,
   "id": "46ab3327",
   "metadata": {},
   "outputs": [],
   "source": []
  },
  {
   "cell_type": "code",
   "execution_count": null,
   "id": "9702373c",
   "metadata": {},
   "outputs": [],
   "source": []
  },
  {
   "cell_type": "code",
   "execution_count": null,
   "id": "fe8a8f37",
   "metadata": {},
   "outputs": [],
   "source": []
  }
 ],
 "metadata": {
  "kernelspec": {
   "display_name": "project",
   "language": "python",
   "name": "python3"
  },
  "language_info": {
   "codemirror_mode": {
    "name": "ipython",
    "version": 3
   },
   "file_extension": ".py",
   "mimetype": "text/x-python",
   "name": "python",
   "nbconvert_exporter": "python",
   "pygments_lexer": "ipython3",
   "version": "3.10.12"
  }
 },
 "nbformat": 4,
 "nbformat_minor": 5
}
