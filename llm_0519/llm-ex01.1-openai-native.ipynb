{
 "cells": [
  {
   "cell_type": "markdown",
   "id": "4e36ffcc",
   "metadata": {},
   "source": [
    "# [문제]\n",
    "- model: gpt-4.1-nano\n",
    "- 스트리밍 활성화\n",
    "- single-turn 대화\n",
    "- role: system    -> 역할 부여  \n",
    "  role: user      -> 질문: 사용자에게 받을 것  \n",
    "  role: assistant -> 답변: LLM 모델 답변    \n",
    "  "
   ]
  },
  {
   "cell_type": "code",
   "execution_count": 1,
   "id": "c0772072",
   "metadata": {},
   "outputs": [],
   "source": [
    "## 1. 모듈(파일) 읽어오기\n",
    "from langchain_openai import ChatOpenAI\n",
    "from dotenv import load_dotenv\n",
    "from langchain.callbacks.streaming_stdout import StreamingStdOutCallbackHandler"
   ]
  },
  {
   "cell_type": "code",
   "execution_count": 3,
   "id": "b4fdab76",
   "metadata": {},
   "outputs": [
    {
     "data": {
      "text/plain": [
       "True"
      ]
     },
     "execution_count": 3,
     "metadata": {},
     "output_type": "execute_result"
    }
   ],
   "source": [
    "## 2. 환경변수에 설정된 값 읽어오기\n",
    "load_dotenv()"
   ]
  },
  {
   "cell_type": "code",
   "execution_count": 4,
   "id": "8fb8bb92",
   "metadata": {},
   "outputs": [
    {
     "data": {
      "text/plain": [
       "ChatOpenAI(callbacks=[<langchain_core.callbacks.streaming_stdout.StreamingStdOutCallbackHandler object at 0x00000194EFF53A60>], client=<openai.resources.chat.completions.completions.Completions object at 0x00000194F00A7520>, async_client=<openai.resources.chat.completions.completions.AsyncCompletions object at 0x00000194F00CE2C0>, root_client=<openai.OpenAI object at 0x00000194EFFC0D90>, root_async_client=<openai.AsyncOpenAI object at 0x00000194F00A75E0>, model_name='gpt-4.1-nano', model_kwargs={}, openai_api_key=SecretStr('**********'), streaming=True)"
      ]
     },
     "execution_count": 4,
     "metadata": {},
     "output_type": "execute_result"
    }
   ],
   "source": [
    "## 3. ChatOpenAI 인스턴스 생성\n",
    "llm = ChatOpenAI(\n",
    "  model='gpt-4.1-nano',\n",
    "  streaming=True,\n",
    "  callbacks=[StreamingStdOutCallbackHandler()],\n",
    ")\n",
    "\n",
    "llm"
   ]
  },
  {
   "cell_type": "code",
   "execution_count": null,
   "id": "3dba4911",
   "metadata": {},
   "outputs": [
    {
     "data": {
      "text/plain": [
       "[{'role': 'system', 'content': '너는 20년차 광고 기획자야. 질문에 프로답게 상세하고 친절하게 답변해줘.'},\n",
       " {'role': 'user', 'content': '온라인 마케팅을 기획하려고 해. 시작을 어떻게 해야 할까?'}]"
      ]
     },
     "execution_count": 5,
     "metadata": {},
     "output_type": "execute_result"
    }
   ],
   "source": [
    "## OpenAI Native Format ############################################\n",
    "## 4. system prompt 작성\n",
    "\n",
    "## '온라인 마케팅을 기획하려고 해. 시작을 어떻게 해야 할까?'\n",
    "query = input('질문을 입력하세요 >> ')\n",
    "\n",
    "message = [\n",
    "  ## system: 모델의 역할과 스타일 지정\n",
    "  {'role': 'system', 'content': '너는 20년차 광고 기획자야. 질문에 프로답게 상세하고 친절하게 답변해줘.'},\n",
    "  ## user: 실제 사용자의 질문\n",
    "  {'role': 'user', 'content': query}\n",
    "]\n",
    "\n",
    "message\n"
   ]
  },
  {
   "cell_type": "code",
   "execution_count": 6,
   "id": "deb2157a",
   "metadata": {},
   "outputs": [
    {
     "name": "stdout",
     "output_type": "stream",
     "text": [
      "온라인 마케팅 기획을 시작하는 데 있어 가장 중요한 첫 단계는 명확한 목표 설정과 타깃 고객 분석입니다. 아래 단계별로 상세하게 설명드릴게요.\n",
      "\n",
      "1. **목표 설정**\n",
      "   - 구체적이고 측정 가능한 목표를 세우세요. 예를 들면, 브랜드 인지도 향상, 웹사이트 방문자 수 증가, 판매량 증대, 신규 고객 확보 등.\n",
      "   - 목표를 SMART(구체적, 측정 가능, 달성 가능, 관련성, 시간 기반) 기준에 맞게 정리하세요.\n",
      "\n",
      "2. **타깃 고객 분석**\n",
      "   - 고객의 인구통계(연령, 성별, 지역 등), 심리적 특성(라이프스타일, 관심사, 구매 동기), 온라인 행동 패턴(주로 사용하는 플랫폼, 검색 키워드)을 파악하세요.\n",
      "   - 설문조사, 인터뷰, 기존 데이터 분석, 경쟁사 분석 등을 통해 정보를 수집합니다.\n",
      "\n",
      "3. **경쟁사 분석**\n",
      "   - 경쟁사들이 어떤 온라인 마케팅 전략을 사용하는지 파악하세요.\n",
      "   - 강점과 약점, 차별화 요소를 분석하여 차별화 전략을 설계하세요.\n",
      "   \n",
      "4. **채널 선정**\n",
      "   - 고객이 활발히 활동하는 온라인 플랫폼(예: 구글, 페이스북, 인스타그램, 유튜브, 네이버 등)을 선정합니다.\n",
      "   - 각 채널의 특성에 맞는 콘텐츠 전략을 수립하세요.\n",
      "\n",
      "5. **콘텐츠 전략 수립**\n",
      "   - 타깃 고객에 맞는 콘텐츠 유형(영상, 이미지, 블로그 포스트, 뉴스레터 등)을 결정하세요.\n",
      "   - 브랜드 메시지와 톤앤매너를 정립하고, 콘텐츠 캘린더를 만들어 일정관리합니다.\n",
      "\n",
      "6. **광고 예산 및 일정 계획**\n",
      "   - 전체 예산을 정하고, 각 채널 별 배분 전략을 세우세요.\n",
      "   - 캠페인 일정과 주요 마일스톤을 정리합니다.\n",
      "\n",
      "7. **성과 지표 설정 및 측정**\n",
      "   - KPI(Key Performance Indicator)를 정하세요. (예: 클릭률, 전환율, ROI, 고객 확보 비용 등)\n",
      "   - 분석 툴을 활용해 정기적으로 성과를 체크하고, 필요시 전략을 수정하세요.\n",
      "\n",
      "8. **실행 및 최적화**\n",
      "   - 계획에 따라 캠페인을 시작하고, 데이터를 분석하며 실시간 최적화를 진행하세요.\n",
      "   - A/B 테스트, 타겟팅 세분화, 콘텐츠 수정 등을 통해 효과를 높이세요.\n",
      "\n",
      "---\n",
      "\n",
      "**요약하자면**, 온라인 마케팅의 성공은 철저한 사전 기획에서 시작됩니다. 목표와 고객 분석을 바탕으로 전략을 세우고, 실행과 피드백 과정을 지속하며 최적화하는 것이 핵심입니다. 필요하면 더 구체적인 사례나 질문도 도와드릴 수 있으니 언제든 말씀해 주세요!"
     ]
    },
    {
     "data": {
      "text/plain": [
       "AIMessage(content='온라인 마케팅 기획을 시작하는 데 있어 가장 중요한 첫 단계는 명확한 목표 설정과 타깃 고객 분석입니다. 아래 단계별로 상세하게 설명드릴게요.\\n\\n1. **목표 설정**\\n   - 구체적이고 측정 가능한 목표를 세우세요. 예를 들면, 브랜드 인지도 향상, 웹사이트 방문자 수 증가, 판매량 증대, 신규 고객 확보 등.\\n   - 목표를 SMART(구체적, 측정 가능, 달성 가능, 관련성, 시간 기반) 기준에 맞게 정리하세요.\\n\\n2. **타깃 고객 분석**\\n   - 고객의 인구통계(연령, 성별, 지역 등), 심리적 특성(라이프스타일, 관심사, 구매 동기), 온라인 행동 패턴(주로 사용하는 플랫폼, 검색 키워드)을 파악하세요.\\n   - 설문조사, 인터뷰, 기존 데이터 분석, 경쟁사 분석 등을 통해 정보를 수집합니다.\\n\\n3. **경쟁사 분석**\\n   - 경쟁사들이 어떤 온라인 마케팅 전략을 사용하는지 파악하세요.\\n   - 강점과 약점, 차별화 요소를 분석하여 차별화 전략을 설계하세요.\\n   \\n4. **채널 선정**\\n   - 고객이 활발히 활동하는 온라인 플랫폼(예: 구글, 페이스북, 인스타그램, 유튜브, 네이버 등)을 선정합니다.\\n   - 각 채널의 특성에 맞는 콘텐츠 전략을 수립하세요.\\n\\n5. **콘텐츠 전략 수립**\\n   - 타깃 고객에 맞는 콘텐츠 유형(영상, 이미지, 블로그 포스트, 뉴스레터 등)을 결정하세요.\\n   - 브랜드 메시지와 톤앤매너를 정립하고, 콘텐츠 캘린더를 만들어 일정관리합니다.\\n\\n6. **광고 예산 및 일정 계획**\\n   - 전체 예산을 정하고, 각 채널 별 배분 전략을 세우세요.\\n   - 캠페인 일정과 주요 마일스톤을 정리합니다.\\n\\n7. **성과 지표 설정 및 측정**\\n   - KPI(Key Performance Indicator)를 정하세요. (예: 클릭률, 전환율, ROI, 고객 확보 비용 등)\\n   - 분석 툴을 활용해 정기적으로 성과를 체크하고, 필요시 전략을 수정하세요.\\n\\n8. **실행 및 최적화**\\n   - 계획에 따라 캠페인을 시작하고, 데이터를 분석하며 실시간 최적화를 진행하세요.\\n   - A/B 테스트, 타겟팅 세분화, 콘텐츠 수정 등을 통해 효과를 높이세요.\\n\\n---\\n\\n**요약하자면**, 온라인 마케팅의 성공은 철저한 사전 기획에서 시작됩니다. 목표와 고객 분석을 바탕으로 전략을 세우고, 실행과 피드백 과정을 지속하며 최적화하는 것이 핵심입니다. 필요하면 더 구체적인 사례나 질문도 도와드릴 수 있으니 언제든 말씀해 주세요!', additional_kwargs={}, response_metadata={'finish_reason': 'stop', 'model_name': 'gpt-4.1-nano-2025-04-14', 'system_fingerprint': 'fp_8fd43718b3'}, id='run-76b0e1dc-b702-488a-a8c8-c90955ba9a2b-0')"
      ]
     },
     "execution_count": 6,
     "metadata": {},
     "output_type": "execute_result"
    }
   ],
   "source": [
    "ai_message = llm.invoke(message)\n",
    "ai_message"
   ]
  },
  {
   "cell_type": "code",
   "execution_count": 7,
   "id": "65da159f",
   "metadata": {},
   "outputs": [
    {
     "data": {
      "text/plain": [
       "'온라인 마케팅 기획을 시작하는 데 있어 가장 중요한 첫 단계는 명확한 목표 설정과 타깃 고객 분석입니다. 아래 단계별로 상세하게 설명드릴게요.\\n\\n1. **목표 설정**\\n   - 구체적이고 측정 가능한 목표를 세우세요. 예를 들면, 브랜드 인지도 향상, 웹사이트 방문자 수 증가, 판매량 증대, 신규 고객 확보 등.\\n   - 목표를 SMART(구체적, 측정 가능, 달성 가능, 관련성, 시간 기반) 기준에 맞게 정리하세요.\\n\\n2. **타깃 고객 분석**\\n   - 고객의 인구통계(연령, 성별, 지역 등), 심리적 특성(라이프스타일, 관심사, 구매 동기), 온라인 행동 패턴(주로 사용하는 플랫폼, 검색 키워드)을 파악하세요.\\n   - 설문조사, 인터뷰, 기존 데이터 분석, 경쟁사 분석 등을 통해 정보를 수집합니다.\\n\\n3. **경쟁사 분석**\\n   - 경쟁사들이 어떤 온라인 마케팅 전략을 사용하는지 파악하세요.\\n   - 강점과 약점, 차별화 요소를 분석하여 차별화 전략을 설계하세요.\\n   \\n4. **채널 선정**\\n   - 고객이 활발히 활동하는 온라인 플랫폼(예: 구글, 페이스북, 인스타그램, 유튜브, 네이버 등)을 선정합니다.\\n   - 각 채널의 특성에 맞는 콘텐츠 전략을 수립하세요.\\n\\n5. **콘텐츠 전략 수립**\\n   - 타깃 고객에 맞는 콘텐츠 유형(영상, 이미지, 블로그 포스트, 뉴스레터 등)을 결정하세요.\\n   - 브랜드 메시지와 톤앤매너를 정립하고, 콘텐츠 캘린더를 만들어 일정관리합니다.\\n\\n6. **광고 예산 및 일정 계획**\\n   - 전체 예산을 정하고, 각 채널 별 배분 전략을 세우세요.\\n   - 캠페인 일정과 주요 마일스톤을 정리합니다.\\n\\n7. **성과 지표 설정 및 측정**\\n   - KPI(Key Performance Indicator)를 정하세요. (예: 클릭률, 전환율, ROI, 고객 확보 비용 등)\\n   - 분석 툴을 활용해 정기적으로 성과를 체크하고, 필요시 전략을 수정하세요.\\n\\n8. **실행 및 최적화**\\n   - 계획에 따라 캠페인을 시작하고, 데이터를 분석하며 실시간 최적화를 진행하세요.\\n   - A/B 테스트, 타겟팅 세분화, 콘텐츠 수정 등을 통해 효과를 높이세요.\\n\\n---\\n\\n**요약하자면**, 온라인 마케팅의 성공은 철저한 사전 기획에서 시작됩니다. 목표와 고객 분석을 바탕으로 전략을 세우고, 실행과 피드백 과정을 지속하며 최적화하는 것이 핵심입니다. 필요하면 더 구체적인 사례나 질문도 도와드릴 수 있으니 언제든 말씀해 주세요!'"
      ]
     },
     "execution_count": 7,
     "metadata": {},
     "output_type": "execute_result"
    }
   ],
   "source": [
    "ai_message.content"
   ]
  }
 ],
 "metadata": {
  "kernelspec": {
   "display_name": "project",
   "language": "python",
   "name": "python3"
  },
  "language_info": {
   "codemirror_mode": {
    "name": "ipython",
    "version": 3
   },
   "file_extension": ".py",
   "mimetype": "text/x-python",
   "name": "python",
   "nbconvert_exporter": "python",
   "pygments_lexer": "ipython3",
   "version": "3.10.12"
  }
 },
 "nbformat": 4,
 "nbformat_minor": 5
}
