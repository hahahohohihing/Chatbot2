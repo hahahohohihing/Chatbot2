{
 "cells": [
  {
   "cell_type": "code",
   "execution_count": 1,
   "id": "6a5b898e",
   "metadata": {},
   "outputs": [
    {
     "name": "stderr",
     "output_type": "stream",
     "text": [
      "C:\\Users\\hi\\AppData\\Local\\Temp\\ipykernel_424\\3440423084.py:16: LangChainDeprecationWarning: Please see the migration guide at: https://python.langchain.com/docs/versions/migrating_memory/\n",
      "  memory = ConversationBufferMemory(return_messages=True)\n"
     ]
    },
    {
     "name": "stdout",
     "output_type": "stream",
     "text": [
      "하늘이 품은 꿈\n",
      "\n",
      "푸른 넓은 하늘 위에,\n",
      "구름은 그림자를 드리우다가,\n",
      "햇살에 살짝 녹아내리듯 떠오른다.\n",
      "\n",
      "높이 깃 든 새의 노래,\n",
      "멀리서 들려오는 바람의 속삭임,\n",
      "그 모두가 하늘을 채우며,\n",
      "우리 마음에 꿈을 심는다.\n",
      "\n",
      "저 푸른 무한의 세상 속에서,\n",
      "우리의 희망도 함께 떠도는 것,\n",
      "맑은 하늘처럼 순수하고,\n",
      "그 끝없는 너머를 향한 기다림이 있다.\n",
      "\n",
      "언제까지나 천상의 공간, \n",
      "그 낭만과 자유를 품고서,\n",
      "우리는 오늘도 하늘을 바라보며,\n",
      "새로운 꿈을 그린다."
     ]
    },
    {
     "data": {
      "text/plain": [
       "ConversationBufferMemory(chat_memory=InMemoryChatMessageHistory(messages=[HumanMessage(content='하늘을 주제로 시 한 편 써줘!', additional_kwargs={}, response_metadata={}), AIMessage(content='하늘이 품은 꿈\\n\\n푸른 넓은 하늘 위에,\\n구름은 그림자를 드리우다가,\\n햇살에 살짝 녹아내리듯 떠오른다.\\n\\n높이 깃 든 새의 노래,\\n멀리서 들려오는 바람의 속삭임,\\n그 모두가 하늘을 채우며,\\n우리 마음에 꿈을 심는다.\\n\\n저 푸른 무한의 세상 속에서,\\n우리의 희망도 함께 떠도는 것,\\n맑은 하늘처럼 순수하고,\\n그 끝없는 너머를 향한 기다림이 있다.\\n\\n언제까지나 천상의 공간, \\n그 낭만과 자유를 품고서,\\n우리는 오늘도 하늘을 바라보며,\\n새로운 꿈을 그린다.', additional_kwargs={}, response_metadata={})]), return_messages=True)"
      ]
     },
     "execution_count": 1,
     "metadata": {},
     "output_type": "execute_result"
    }
   ],
   "source": [
    "from langchain_openai import ChatOpenAI\n",
    "from langchain.callbacks.streaming_stdout import StreamingStdOutCallbackHandler\n",
    "from langchain.prompts import ChatPromptTemplate, MessagesPlaceholder\n",
    "from langchain.memory import ConversationBufferMemory\n",
    "from dotenv import load_dotenv\n",
    "\n",
    "\n",
    "load_dotenv()\n",
    "\n",
    "llm = ChatOpenAI(\n",
    "    model='gpt-4.1-nano',\n",
    "    streaming=True,\n",
    "    callbacks=[StreamingStdOutCallbackHandler()]\n",
    ")\n",
    "\n",
    "memory = ConversationBufferMemory(return_messages=True)\n",
    "\n",
    "prompt = ChatPromptTemplate.from_messages([\n",
    "    ('system', '당신은 한국의 유명한 시인입니다.'),\n",
    "    MessagesPlaceholder('history'),\n",
    "    ('user', '{input}')\n",
    "])\n",
    "\n",
    "chain = prompt | llm\n",
    "\n",
    "input = '하늘을 주제로 시 한 편 써줘!'\n",
    "\n",
    "ai_message = chain.invoke({\n",
    "    'input': input,\n",
    "    'history': memory.chat_memory.messages\n",
    "})\n",
    "\n",
    "memory.save_context(\n",
    "    inputs={'input': input},\n",
    "    outputs={'output': ai_message.content}\n",
    ")\n",
    "\n",
    "memory"
   ]
  }
 ],
 "metadata": {
  "kernelspec": {
   "display_name": "project",
   "language": "python",
   "name": "python3"
  },
  "language_info": {
   "codemirror_mode": {
    "name": "ipython",
    "version": 3
   },
   "file_extension": ".py",
   "mimetype": "text/x-python",
   "name": "python",
   "nbconvert_exporter": "python",
   "pygments_lexer": "ipython3",
   "version": "3.10.12"
  }
 },
 "nbformat": 4,
 "nbformat_minor": 5
}
