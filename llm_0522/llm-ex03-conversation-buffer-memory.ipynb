{
 "cells": [
  {
   "cell_type": "code",
   "execution_count": 15,
   "id": "6a5b898e",
   "metadata": {},
   "outputs": [],
   "source": [
    "from langchain_openai import ChatOpenAI\n",
    "from langchain.callbacks.streaming_stdout import StreamingStdOutCallbackHandler\n",
    "from dotenv import load_dotenv"
   ]
  },
  {
   "cell_type": "code",
   "execution_count": 16,
   "id": "1900a8ae",
   "metadata": {},
   "outputs": [
    {
     "data": {
      "text/plain": [
       "True"
      ]
     },
     "execution_count": 16,
     "metadata": {},
     "output_type": "execute_result"
    }
   ],
   "source": [
    "load_dotenv()"
   ]
  },
  {
   "cell_type": "code",
   "execution_count": 17,
   "id": "4fbdf005",
   "metadata": {},
   "outputs": [
    {
     "data": {
      "text/plain": [
       "ChatOpenAI(callbacks=[<langchain_core.callbacks.streaming_stdout.StreamingStdOutCallbackHandler object at 0x0000016994094E80>], client=<openai.resources.chat.completions.completions.Completions object at 0x0000016993F021A0>, async_client=<openai.resources.chat.completions.completions.AsyncCompletions object at 0x0000016993F03FD0>, root_client=<openai.OpenAI object at 0x000001699411F370>, root_async_client=<openai.AsyncOpenAI object at 0x0000016993F021D0>, model_name='gpt-4.1-nano', model_kwargs={}, openai_api_key=SecretStr('**********'), streaming=True)"
      ]
     },
     "execution_count": 17,
     "metadata": {},
     "output_type": "execute_result"
    }
   ],
   "source": [
    "llm = ChatOpenAI(\n",
    "    model='gpt-4.1-nano',\n",
    "    streaming=True,\n",
    "    callbacks=[StreamingStdOutCallbackHandler()]\n",
    ")\n",
    "llm"
   ]
  },
  {
   "cell_type": "code",
   "execution_count": 18,
   "id": "5dad9c55",
   "metadata": {},
   "outputs": [
    {
     "data": {
      "text/plain": [
       "ConversationBufferMemory(chat_memory=InMemoryChatMessageHistory(messages=[]), return_messages=True)"
      ]
     },
     "execution_count": 18,
     "metadata": {},
     "output_type": "execute_result"
    }
   ],
   "source": [
    "from langchain.prompts import ChatPromptTemplate, MessagesPlaceholder\n",
    "from langchain.memory import ConversationBufferMemory\n",
    "\n",
    "memory = ConversationBufferMemory(return_messages=True)\n",
    "memory"
   ]
  },
  {
   "cell_type": "code",
   "execution_count": 19,
   "id": "53b2e052",
   "metadata": {},
   "outputs": [
    {
     "data": {
      "text/plain": [
       "[]"
      ]
     },
     "execution_count": 19,
     "metadata": {},
     "output_type": "execute_result"
    }
   ],
   "source": [
    "memory.chat_memory.messages"
   ]
  },
  {
   "cell_type": "code",
   "execution_count": 20,
   "id": "ccbbdcfe",
   "metadata": {},
   "outputs": [
    {
     "data": {
      "text/plain": [
       "ChatPromptTemplate(input_variables=['history', 'input'], input_types={'history': list[typing.Annotated[typing.Union[typing.Annotated[langchain_core.messages.ai.AIMessage, Tag(tag='ai')], typing.Annotated[langchain_core.messages.human.HumanMessage, Tag(tag='human')], typing.Annotated[langchain_core.messages.chat.ChatMessage, Tag(tag='chat')], typing.Annotated[langchain_core.messages.system.SystemMessage, Tag(tag='system')], typing.Annotated[langchain_core.messages.function.FunctionMessage, Tag(tag='function')], typing.Annotated[langchain_core.messages.tool.ToolMessage, Tag(tag='tool')], typing.Annotated[langchain_core.messages.ai.AIMessageChunk, Tag(tag='AIMessageChunk')], typing.Annotated[langchain_core.messages.human.HumanMessageChunk, Tag(tag='HumanMessageChunk')], typing.Annotated[langchain_core.messages.chat.ChatMessageChunk, Tag(tag='ChatMessageChunk')], typing.Annotated[langchain_core.messages.system.SystemMessageChunk, Tag(tag='SystemMessageChunk')], typing.Annotated[langchain_core.messages.function.FunctionMessageChunk, Tag(tag='FunctionMessageChunk')], typing.Annotated[langchain_core.messages.tool.ToolMessageChunk, Tag(tag='ToolMessageChunk')]], FieldInfo(annotation=NoneType, required=True, discriminator=Discriminator(discriminator=<function _get_type at 0x0000016991FE7B50>, custom_error_type=None, custom_error_message=None, custom_error_context=None))]]}, partial_variables={}, messages=[SystemMessagePromptTemplate(prompt=PromptTemplate(input_variables=[], input_types={}, partial_variables={}, template='당신은 한국의 유명한 시인입니다.'), additional_kwargs={}), MessagesPlaceholder(variable_name='history'), HumanMessagePromptTemplate(prompt=PromptTemplate(input_variables=['input'], input_types={}, partial_variables={}, template='{input}'), additional_kwargs={})])"
      ]
     },
     "execution_count": 20,
     "metadata": {},
     "output_type": "execute_result"
    }
   ],
   "source": [
    "prompt = ChatPromptTemplate.from_messages([\n",
    "    ('system', '당신은 한국의 유명한 시인입니다.'),\n",
    "    MessagesPlaceholder('history'),\n",
    "    ('user', '{input}')\n",
    "])\n",
    "prompt"
   ]
  },
  {
   "cell_type": "code",
   "execution_count": 21,
   "id": "b00dfc1f",
   "metadata": {},
   "outputs": [
    {
     "data": {
      "text/plain": [
       "ChatPromptTemplate(input_variables=['history', 'input'], input_types={'history': list[typing.Annotated[typing.Union[typing.Annotated[langchain_core.messages.ai.AIMessage, Tag(tag='ai')], typing.Annotated[langchain_core.messages.human.HumanMessage, Tag(tag='human')], typing.Annotated[langchain_core.messages.chat.ChatMessage, Tag(tag='chat')], typing.Annotated[langchain_core.messages.system.SystemMessage, Tag(tag='system')], typing.Annotated[langchain_core.messages.function.FunctionMessage, Tag(tag='function')], typing.Annotated[langchain_core.messages.tool.ToolMessage, Tag(tag='tool')], typing.Annotated[langchain_core.messages.ai.AIMessageChunk, Tag(tag='AIMessageChunk')], typing.Annotated[langchain_core.messages.human.HumanMessageChunk, Tag(tag='HumanMessageChunk')], typing.Annotated[langchain_core.messages.chat.ChatMessageChunk, Tag(tag='ChatMessageChunk')], typing.Annotated[langchain_core.messages.system.SystemMessageChunk, Tag(tag='SystemMessageChunk')], typing.Annotated[langchain_core.messages.function.FunctionMessageChunk, Tag(tag='FunctionMessageChunk')], typing.Annotated[langchain_core.messages.tool.ToolMessageChunk, Tag(tag='ToolMessageChunk')]], FieldInfo(annotation=NoneType, required=True, discriminator=Discriminator(discriminator=<function _get_type at 0x0000016991FE7B50>, custom_error_type=None, custom_error_message=None, custom_error_context=None))]]}, partial_variables={}, messages=[SystemMessagePromptTemplate(prompt=PromptTemplate(input_variables=[], input_types={}, partial_variables={}, template='당신은 한국의 유명한 시인입니다.'), additional_kwargs={}), MessagesPlaceholder(variable_name='history'), HumanMessagePromptTemplate(prompt=PromptTemplate(input_variables=['input'], input_types={}, partial_variables={}, template='{input}'), additional_kwargs={})])\n",
       "| ChatOpenAI(callbacks=[<langchain_core.callbacks.streaming_stdout.StreamingStdOutCallbackHandler object at 0x0000016994094E80>], client=<openai.resources.chat.completions.completions.Completions object at 0x0000016993F021A0>, async_client=<openai.resources.chat.completions.completions.AsyncCompletions object at 0x0000016993F03FD0>, root_client=<openai.OpenAI object at 0x000001699411F370>, root_async_client=<openai.AsyncOpenAI object at 0x0000016993F021D0>, model_name='gpt-4.1-nano', model_kwargs={}, openai_api_key=SecretStr('**********'), streaming=True)"
      ]
     },
     "execution_count": 21,
     "metadata": {},
     "output_type": "execute_result"
    }
   ],
   "source": [
    "chain = prompt | llm\n",
    "chain"
   ]
  },
  {
   "cell_type": "code",
   "execution_count": 22,
   "id": "94842538",
   "metadata": {},
   "outputs": [],
   "source": [
    "input = '하늘을 주제로 시 한 편 써줘!'"
   ]
  },
  {
   "cell_type": "code",
   "execution_count": 23,
   "id": "175a0a99",
   "metadata": {},
   "outputs": [
    {
     "name": "stdout",
     "output_type": "stream",
     "text": [
      "하늘의 노래\n",
      "\n",
      "푸른 숨결은 끝없이 흘러  \n",
      "저 먼 곳에서 꿈을 띄우며  \n",
      "구름의 이야기 어루만지고,  \n",
      "별의 속삭임을 품어 안는다.\n",
      "\n",
      "태양은 은은히 감싸며  \n",
      "새벽의 몽롱한 눈빛 속에  \n",
      "희망의 빛을 비추고,  \n",
      "달은 조용한 노래로 길을 비춘다.\n",
      "\n",
      "하늘은 끝없는 무대,  \n",
      "우리의 소망을 품고 떠도는  \n",
      "그 깊고 넓은 마음,  \n",
      "영원을 노래하는 무한의 찬가."
     ]
    },
    {
     "data": {
      "text/plain": [
       "AIMessage(content='하늘의 노래\\n\\n푸른 숨결은 끝없이 흘러  \\n저 먼 곳에서 꿈을 띄우며  \\n구름의 이야기 어루만지고,  \\n별의 속삭임을 품어 안는다.\\n\\n태양은 은은히 감싸며  \\n새벽의 몽롱한 눈빛 속에  \\n희망의 빛을 비추고,  \\n달은 조용한 노래로 길을 비춘다.\\n\\n하늘은 끝없는 무대,  \\n우리의 소망을 품고 떠도는  \\n그 깊고 넓은 마음,  \\n영원을 노래하는 무한의 찬가.', additional_kwargs={}, response_metadata={'finish_reason': 'stop', 'model_name': 'gpt-4.1-nano-2025-04-14', 'system_fingerprint': 'fp_17d1f82c3e'}, id='run-97902f26-30fe-42b5-8ec3-b89a3a1643c3-0')"
      ]
     },
     "execution_count": 23,
     "metadata": {},
     "output_type": "execute_result"
    }
   ],
   "source": [
    "ai_message = chain.invoke({\n",
    "    'input': input,\n",
    "    'history': memory.chat_memory.messages\n",
    "})\n",
    "\n",
    "ai_message"
   ]
  },
  {
   "cell_type": "code",
   "execution_count": 24,
   "id": "b51db58f",
   "metadata": {},
   "outputs": [
    {
     "data": {
      "text/plain": [
       "[]"
      ]
     },
     "execution_count": 24,
     "metadata": {},
     "output_type": "execute_result"
    }
   ],
   "source": [
    "memory.chat_memory.messages"
   ]
  },
  {
   "cell_type": "code",
   "execution_count": 25,
   "id": "a33c9262",
   "metadata": {},
   "outputs": [
    {
     "data": {
      "text/plain": [
       "AIMessage(content='하늘의 노래\\n\\n푸른 숨결은 끝없이 흘러  \\n저 먼 곳에서 꿈을 띄우며  \\n구름의 이야기 어루만지고,  \\n별의 속삭임을 품어 안는다.\\n\\n태양은 은은히 감싸며  \\n새벽의 몽롱한 눈빛 속에  \\n희망의 빛을 비추고,  \\n달은 조용한 노래로 길을 비춘다.\\n\\n하늘은 끝없는 무대,  \\n우리의 소망을 품고 떠도는  \\n그 깊고 넓은 마음,  \\n영원을 노래하는 무한의 찬가.', additional_kwargs={}, response_metadata={'finish_reason': 'stop', 'model_name': 'gpt-4.1-nano-2025-04-14', 'system_fingerprint': 'fp_17d1f82c3e'}, id='run-97902f26-30fe-42b5-8ec3-b89a3a1643c3-0')"
      ]
     },
     "execution_count": 25,
     "metadata": {},
     "output_type": "execute_result"
    }
   ],
   "source": [
    "ai_message"
   ]
  },
  {
   "cell_type": "code",
   "execution_count": 26,
   "id": "1c46c971",
   "metadata": {},
   "outputs": [
    {
     "data": {
      "text/plain": [
       "'하늘의 노래\\n\\n푸른 숨결은 끝없이 흘러  \\n저 먼 곳에서 꿈을 띄우며  \\n구름의 이야기 어루만지고,  \\n별의 속삭임을 품어 안는다.\\n\\n태양은 은은히 감싸며  \\n새벽의 몽롱한 눈빛 속에  \\n희망의 빛을 비추고,  \\n달은 조용한 노래로 길을 비춘다.\\n\\n하늘은 끝없는 무대,  \\n우리의 소망을 품고 떠도는  \\n그 깊고 넓은 마음,  \\n영원을 노래하는 무한의 찬가.'"
      ]
     },
     "execution_count": 26,
     "metadata": {},
     "output_type": "execute_result"
    }
   ],
   "source": [
    "ai_message.content"
   ]
  },
  {
   "cell_type": "code",
   "execution_count": 27,
   "id": "c3a4e457",
   "metadata": {},
   "outputs": [
    {
     "data": {
      "text/plain": [
       "'하늘을 주제로 시 한 편 써줘!'"
      ]
     },
     "execution_count": 27,
     "metadata": {},
     "output_type": "execute_result"
    }
   ],
   "source": [
    "input"
   ]
  },
  {
   "cell_type": "code",
   "execution_count": 30,
   "id": "08699c17",
   "metadata": {},
   "outputs": [
    {
     "data": {
      "text/plain": [
       "ConversationBufferMemory(chat_memory=InMemoryChatMessageHistory(messages=[HumanMessage(content='하늘을 주제로 시 한 편 써줘!', additional_kwargs={}, response_metadata={}), AIMessage(content='하늘의 노래\\n\\n푸른 숨결은 끝없이 흘러  \\n저 먼 곳에서 꿈을 띄우며  \\n구름의 이야기 어루만지고,  \\n별의 속삭임을 품어 안는다.\\n\\n태양은 은은히 감싸며  \\n새벽의 몽롱한 눈빛 속에  \\n희망의 빛을 비추고,  \\n달은 조용한 노래로 길을 비춘다.\\n\\n하늘은 끝없는 무대,  \\n우리의 소망을 품고 떠도는  \\n그 깊고 넓은 마음,  \\n영원을 노래하는 무한의 찬가.', additional_kwargs={}, response_metadata={})]), return_messages=True)"
      ]
     },
     "execution_count": 30,
     "metadata": {},
     "output_type": "execute_result"
    }
   ],
   "source": [
    "memory.save_context(\n",
    "    inputs={'input': input},\n",
    "    outputs={'output': ai_message.content}\n",
    ")\n",
    "\n",
    "memory"
   ]
  },
  {
   "cell_type": "code",
   "execution_count": 31,
   "id": "0e415b39",
   "metadata": {},
   "outputs": [
    {
     "data": {
      "text/plain": [
       "AIMessage(content='하늘의 노래\\n\\n푸른 숨결은 끝없이 흘러  \\n저 먼 곳에서 꿈을 띄우며  \\n구름의 이야기 어루만지고,  \\n별의 속삭임을 품어 안는다.\\n\\n태양은 은은히 감싸며  \\n새벽의 몽롱한 눈빛 속에  \\n희망의 빛을 비추고,  \\n달은 조용한 노래로 길을 비춘다.\\n\\n하늘은 끝없는 무대,  \\n우리의 소망을 품고 떠도는  \\n그 깊고 넓은 마음,  \\n영원을 노래하는 무한의 찬가.', additional_kwargs={}, response_metadata={'finish_reason': 'stop', 'model_name': 'gpt-4.1-nano-2025-04-14', 'system_fingerprint': 'fp_17d1f82c3e'}, id='run-97902f26-30fe-42b5-8ec3-b89a3a1643c3-0')"
      ]
     },
     "execution_count": 31,
     "metadata": {},
     "output_type": "execute_result"
    }
   ],
   "source": [
    "ai_message"
   ]
  },
  {
   "cell_type": "code",
   "execution_count": 32,
   "id": "ff353e47",
   "metadata": {},
   "outputs": [
    {
     "data": {
      "text/plain": [
       "'하늘의 노래\\n\\n푸른 숨결은 끝없이 흘러  \\n저 먼 곳에서 꿈을 띄우며  \\n구름의 이야기 어루만지고,  \\n별의 속삭임을 품어 안는다.\\n\\n태양은 은은히 감싸며  \\n새벽의 몽롱한 눈빛 속에  \\n희망의 빛을 비추고,  \\n달은 조용한 노래로 길을 비춘다.\\n\\n하늘은 끝없는 무대,  \\n우리의 소망을 품고 떠도는  \\n그 깊고 넓은 마음,  \\n영원을 노래하는 무한의 찬가.'"
      ]
     },
     "execution_count": 32,
     "metadata": {},
     "output_type": "execute_result"
    }
   ],
   "source": [
    "ai_message.content"
   ]
  },
  {
   "cell_type": "code",
   "execution_count": 33,
   "id": "086eb86e",
   "metadata": {},
   "outputs": [
    {
     "data": {
      "text/plain": [
       "str"
      ]
     },
     "execution_count": 33,
     "metadata": {},
     "output_type": "execute_result"
    }
   ],
   "source": [
    "type(ai_message.content)"
   ]
  }
 ],
 "metadata": {
  "kernelspec": {
   "display_name": "project",
   "language": "python",
   "name": "python3"
  },
  "language_info": {
   "codemirror_mode": {
    "name": "ipython",
    "version": 3
   },
   "file_extension": ".py",
   "mimetype": "text/x-python",
   "name": "python",
   "nbconvert_exporter": "python",
   "pygments_lexer": "ipython3",
   "version": "3.10.12"
  }
 },
 "nbformat": 4,
 "nbformat_minor": 5
}
