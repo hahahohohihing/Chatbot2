{
 "cells": [
  {
   "cell_type": "markdown",
   "id": "2febf10f",
   "metadata": {},
   "source": [
    "## [문제]\n",
    "- 질문: 사용자에게 받기\n",
    "- 대화 내역을 저장: ConversationBufferMemory()"
   ]
  },
  {
   "cell_type": "code",
   "execution_count": 1,
   "id": "6a5b898e",
   "metadata": {},
   "outputs": [
    {
     "name": "stderr",
     "output_type": "stream",
     "text": [
      "C:\\Users\\hi\\AppData\\Local\\Temp\\ipykernel_516\\2846569729.py:16: LangChainDeprecationWarning: Please see the migration guide at: https://python.langchain.com/docs/versions/migrating_memory/\n",
      "  memory = ConversationBufferMemory(return_messages=True)\n"
     ]
    },
    {
     "name": "stdout",
     "output_type": "stream",
     "text": [
      "빛나는 저녁 하늘 아래,  \n",
      "바람은 노래하고, 길은 춤을 춰요.  \n",
      "일상의 무게는 잠시 내려놓고,  \n",
      "우린 오늘의 작은 기쁨을 만끽하러 가요!\n",
      "\n",
      "따뜻한 햇살이 반겨주는 길목에서,  \n",
      "웃음꽃 피우며 걷는 발걸음마다,  \n",
      "새로운 꿈들이 솟아오르고,  \n",
      "세상은 한층 더 밝아져요!\n",
      "\n",
      "친구여, 오늘은 무엇을 노래할까?  \n",
      "희망의 멜로디가 가득한 이 순간,  \n",
      "우린 함께 웃으며 달려가요,  \n",
      "내일도 빛나는 우리만의 이야기를 위해!"
     ]
    },
    {
     "data": {
      "text/plain": [
       "ConversationBufferMemory(chat_memory=InMemoryChatMessageHistory(messages=[HumanMessage(content='퇴근길로 신나는 시 한 편 작성해줘! 매우 밝게!', additional_kwargs={}, response_metadata={}), AIMessage(content='빛나는 저녁 하늘 아래,  \\n바람은 노래하고, 길은 춤을 춰요.  \\n일상의 무게는 잠시 내려놓고,  \\n우린 오늘의 작은 기쁨을 만끽하러 가요!\\n\\n따뜻한 햇살이 반겨주는 길목에서,  \\n웃음꽃 피우며 걷는 발걸음마다,  \\n새로운 꿈들이 솟아오르고,  \\n세상은 한층 더 밝아져요!\\n\\n친구여, 오늘은 무엇을 노래할까?  \\n희망의 멜로디가 가득한 이 순간,  \\n우린 함께 웃으며 달려가요,  \\n내일도 빛나는 우리만의 이야기를 위해!', additional_kwargs={}, response_metadata={})]), return_messages=True)"
      ]
     },
     "execution_count": 1,
     "metadata": {},
     "output_type": "execute_result"
    }
   ],
   "source": [
    "from langchain_openai import ChatOpenAI\n",
    "from langchain.callbacks.streaming_stdout import StreamingStdOutCallbackHandler\n",
    "from langchain.prompts import ChatPromptTemplate, MessagesPlaceholder\n",
    "from langchain.memory import ConversationBufferMemory\n",
    "from dotenv import load_dotenv\n",
    "\n",
    "\n",
    "load_dotenv()\n",
    "\n",
    "llm = ChatOpenAI(\n",
    "    model='gpt-4.1-nano',\n",
    "    streaming=True,\n",
    "    callbacks=[StreamingStdOutCallbackHandler()]\n",
    ")\n",
    "\n",
    "memory = ConversationBufferMemory(return_messages=True)\n",
    "\n",
    "prompt = ChatPromptTemplate.from_messages([\n",
    "    ('system', '당신은 한국의 유명한 시인입니다.'),\n",
    "    MessagesPlaceholder('history'),\n",
    "    ('user', '{input}')\n",
    "])\n",
    "\n",
    "chain = prompt | llm\n",
    "\n",
    "query = input('질문하세요... >> ')\n",
    "\n",
    "ai_message = chain.invoke({\n",
    "    'input': query,\n",
    "    'history': memory.chat_memory.messages\n",
    "})\n",
    "\n",
    "memory.save_context(\n",
    "    inputs={'input': query},\n",
    "    outputs={'output': ai_message.content}\n",
    ")\n",
    "\n",
    "memory"
   ]
  },
  {
   "cell_type": "code",
   "execution_count": 2,
   "id": "8a92960d",
   "metadata": {},
   "outputs": [
    {
     "name": "stdout",
     "output_type": "stream",
     "text": [
      "저녁 무렵, 따뜻한 온기 품은 식탁 위,  \n",
      "가족의 이름들이 조용히 흘러내려와요.  \n",
      "끓는 국물 냄새가 마음을 적시고,  \n",
      "손길마다 정성과 사랑이 담겨 있죠.\n",
      "\n",
      "조용한 웃음과 나눔의 말들,  \n",
      "오늘 하루의 이야기를 나누며,  \n",
      "포근한 밥상 위에 피어나는 정겨운 시간,  \n",
      "세상의 모든 사랑이 담긴 한 끗이죠.\n",
      "\n",
      "그리움도, 기대도, 행복도,  \n",
      "이 작은 식탁 위에 모두 모여서,  \n",
      "함께하는 저녁, 삶의 소중한 한 페이지,  \n",
      "그리우리, 평화롭고 따뜻한 이 시간."
     ]
    },
    {
     "data": {
      "text/plain": [
       "ConversationBufferMemory(chat_memory=InMemoryChatMessageHistory(messages=[HumanMessage(content='퇴근길로 신나는 시 한 편 작성해줘! 매우 밝게!', additional_kwargs={}, response_metadata={}), AIMessage(content='빛나는 저녁 하늘 아래,  \\n바람은 노래하고, 길은 춤을 춰요.  \\n일상의 무게는 잠시 내려놓고,  \\n우린 오늘의 작은 기쁨을 만끽하러 가요!\\n\\n따뜻한 햇살이 반겨주는 길목에서,  \\n웃음꽃 피우며 걷는 발걸음마다,  \\n새로운 꿈들이 솟아오르고,  \\n세상은 한층 더 밝아져요!\\n\\n친구여, 오늘은 무엇을 노래할까?  \\n희망의 멜로디가 가득한 이 순간,  \\n우린 함께 웃으며 달려가요,  \\n내일도 빛나는 우리만의 이야기를 위해!', additional_kwargs={}, response_metadata={}), HumanMessage(content='저녁 식사를 주제로 정겨운 시 한 편 부탁해요.', additional_kwargs={}, response_metadata={}), AIMessage(content='저녁 무렵, 따뜻한 온기 품은 식탁 위,  \\n가족의 이름들이 조용히 흘러내려와요.  \\n끓는 국물 냄새가 마음을 적시고,  \\n손길마다 정성과 사랑이 담겨 있죠.\\n\\n조용한 웃음과 나눔의 말들,  \\n오늘 하루의 이야기를 나누며,  \\n포근한 밥상 위에 피어나는 정겨운 시간,  \\n세상의 모든 사랑이 담긴 한 끗이죠.\\n\\n그리움도, 기대도, 행복도,  \\n이 작은 식탁 위에 모두 모여서,  \\n함께하는 저녁, 삶의 소중한 한 페이지,  \\n그리우리, 평화롭고 따뜻한 이 시간.', additional_kwargs={}, response_metadata={})]), return_messages=True)"
      ]
     },
     "execution_count": 2,
     "metadata": {},
     "output_type": "execute_result"
    }
   ],
   "source": [
    "from langchain_core.output_parsers import StrOutputParser\n",
    "\n",
    "chain2 = prompt | llm | StrOutputParser()\n",
    "\n",
    "query = input('질문하세요... >> ')\n",
    "\n",
    "ai_message2 = chain2.invoke({\n",
    "    'input': query,\n",
    "    'history': memory.chat_memory.messages\n",
    "})\n",
    "\n",
    "memory.save_context(\n",
    "    inputs={'input': query},\n",
    "    outputs={'output': ai_message2}\n",
    ")\n",
    "\n",
    "memory"
   ]
  }
 ],
 "metadata": {
  "kernelspec": {
   "display_name": "project",
   "language": "python",
   "name": "python3"
  },
  "language_info": {
   "codemirror_mode": {
    "name": "ipython",
    "version": 3
   },
   "file_extension": ".py",
   "mimetype": "text/x-python",
   "name": "python",
   "nbconvert_exporter": "python",
   "pygments_lexer": "ipython3",
   "version": "3.10.12"
  }
 },
 "nbformat": 4,
 "nbformat_minor": 5
}
