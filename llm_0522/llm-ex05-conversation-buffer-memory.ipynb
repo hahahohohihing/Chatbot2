{
 "cells": [
  {
   "cell_type": "markdown",
   "id": "2febf10f",
   "metadata": {},
   "source": [
    "## [문제]\n",
    "- 질문: 사용자에게 여러 번 받기 -> 대문자 S 입력하면 종료\n",
    "- 대화 내역을 저장: ConversationBufferMemory()"
   ]
  },
  {
   "cell_type": "code",
   "execution_count": 26,
   "id": "6a5b898e",
   "metadata": {},
   "outputs": [
    {
     "ename": "TypeError",
     "evalue": "'str' object is not callable",
     "output_type": "error",
     "traceback": [
      "\u001b[0;31m---------------------------------------------------------------------------\u001b[0m",
      "\u001b[0;31mTypeError\u001b[0m                                 Traceback (most recent call last)",
      "Cell \u001b[0;32mIn[26], line 33\u001b[0m\n\u001b[1;32m     31\u001b[0m \u001b[38;5;66;03m# 반복 입력 루프\u001b[39;00m\n\u001b[1;32m     32\u001b[0m \u001b[38;5;28;01mwhile\u001b[39;00m \u001b[38;5;28;01mTrue\u001b[39;00m:\n\u001b[0;32m---> 33\u001b[0m     user_input \u001b[38;5;241m=\u001b[39m \u001b[38;5;28;43minput\u001b[39;49m\u001b[43m(\u001b[49m\u001b[38;5;124;43m'\u001b[39;49m\u001b[38;5;124;43m질문하세요: \u001b[39;49m\u001b[38;5;124;43m'\u001b[39;49m\u001b[43m)\u001b[49m\n\u001b[1;32m     35\u001b[0m     \u001b[38;5;28;01mif\u001b[39;00m user_input\u001b[38;5;241m.\u001b[39mupper() \u001b[38;5;241m==\u001b[39m \u001b[38;5;124m'\u001b[39m\u001b[38;5;124mS\u001b[39m\u001b[38;5;124m'\u001b[39m:  \u001b[38;5;66;03m# S 입력 시 종료\u001b[39;00m\n\u001b[1;32m     36\u001b[0m         \u001b[38;5;28;01mbreak\u001b[39;00m\n",
      "\u001b[0;31mTypeError\u001b[0m: 'str' object is not callable"
     ]
    }
   ],
   "source": [
    "from langchain_openai import ChatOpenAI\n",
    "from langchain.callbacks.streaming_stdout import StreamingStdOutCallbackHandler\n",
    "from langchain.prompts import ChatPromptTemplate, MessagesPlaceholder\n",
    "from langchain.memory import ConversationBufferMemory\n",
    "from dotenv import load_dotenv\n",
    "from langchain_core.output_parsers import StrOutputParser\n",
    "\n",
    "# .env 파일에서 환경변수 로드 (예: OPENAI_API_KEY)\n",
    "load_dotenv()\n",
    "\n",
    "# LLM 초기화\n",
    "llm = ChatOpenAI(\n",
    "    model='gpt-4-1-nano',\n",
    "    streaming=True,\n",
    "    callbacks=[StreamingStdOutCallbackHandler()]\n",
    ")\n",
    "\n",
    "# 대화 메모리 객체 생성\n",
    "memory = ConversationBufferMemory(return_messages=True)\n",
    "\n",
    "# 프롬프트 템플릿 설정\n",
    "prompt = ChatPromptTemplate.from_messages([\n",
    "    ('system', '당신은 친절한 유령형 AI 상담원입니다.'),\n",
    "    MessagesPlaceholder('history'),\n",
    "    ('user', '{input}')\n",
    "])\n",
    "\n",
    "# 체인 구성\n",
    "chain = prompt | llm | StrOutputParser()\n",
    "\n",
    "# 반복 입력 루프\n",
    "while True:\n",
    "    user_input = input('질문하세요: ')\n",
    "    \n",
    "    if user_input.upper() == 'S':  # S 입력 시 종료\n",
    "        break\n",
    "\n",
    "    # LLM 호출\n",
    "    ai_message = chain.invoke({\n",
    "        'input': user_input,\n",
    "        'history': memory.chat_memory.messages\n",
    "    })\n",
    "\n",
    "    # 메모리에 대화 저장\n",
    "    memory.save_context(\n",
    "        inputs={'input': user_input},\n",
    "        outputs={'output': ai_message}\n",
    "    )\n"
   ]
  }
 ],
 "metadata": {
  "kernelspec": {
   "display_name": "project",
   "language": "python",
   "name": "python3"
  },
  "language_info": {
   "codemirror_mode": {
    "name": "ipython",
    "version": 3
   },
   "file_extension": ".py",
   "mimetype": "text/x-python",
   "name": "python",
   "nbconvert_exporter": "python",
   "pygments_lexer": "ipython3",
   "version": "3.10.12"
  }
 },
 "nbformat": 4,
 "nbformat_minor": 5
}
