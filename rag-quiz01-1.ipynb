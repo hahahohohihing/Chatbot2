{
 "cells": [
  {
   "cell_type": "markdown",
   "id": "915021d1",
   "metadata": {},
   "source": [
    "# [문제]\n",
    "- law_2.docx 파일을 읽고, Chroma 저장\n",
    "- LLM에 질문 -> 답변\n",
    "- '전제사기피해'에 관한 법률 질문만 받기\n",
    "- 이 외의 질문을 하면 '답변을 할 수 없습니다.'"
   ]
  },
  {
   "cell_type": "code",
   "execution_count": 1,
   "id": "6e5c2b33",
   "metadata": {},
   "outputs": [],
   "source": [
    "# 필요한 모듈\n",
    "from langchain.chains import create_retrieval_chain\n",
    "from langchain_community.vectorstores import Chroma\n",
    "from langchain_openai import ChatOpenAI, OpenAIEmbeddings\n",
    "from langchain_community.document_loaders import Docx2txtLoader\n",
    "from langchain.text_splitter import RecursiveCharacterTextSplitter\n",
    "from langchain.chains import ConversationalRetrievalChain"
   ]
  },
  {
   "cell_type": "code",
   "execution_count": 2,
   "id": "acc944ed",
   "metadata": {},
   "outputs": [],
   "source": [
    "# 문서 읽고 Chroma에 저장\n",
    "loader = Docx2txtLoader('law_2.docx')\n",
    "documents = loader.load()"
   ]
  },
  {
   "cell_type": "code",
   "execution_count": 3,
   "id": "d3f66d5f",
   "metadata": {},
   "outputs": [],
   "source": [
    "# 문서 분리\n",
    "text_splitter = RecursiveCharacterTextSplitter(\n",
    "    chunk_size=100,\n",
    "    chunk_overlap=20,\n",
    ")\n",
    "docs = text_splitter.split_documents(documents)"
   ]
  },
  {
   "cell_type": "code",
   "execution_count": 4,
   "id": "367e7c78",
   "metadata": {},
   "outputs": [],
   "source": [
    "# 벡터 DB에 저장\n",
    "vector_db = Chroma.from_documents(\n",
    "    docs,\n",
    "    OpenAIEmbeddings(),\n",
    "    persist_directory='./chroma_db'\n",
    ")"
   ]
  },
  {
   "cell_type": "code",
   "execution_count": 5,
   "id": "9e6975f4",
   "metadata": {},
   "outputs": [],
   "source": [
    "# RAG QA Chain 생성\n",
    "retriever = vector_db.as_retriever()\n",
    "qa_chain = ConversationalRetrievalChain.from_llm(\n",
    "    llm=ChatOpenAI(model='gpt-4o'),\n",
    "    retriever=retriever,\n",
    "    return_source_documents=True\n",
    ")"
   ]
  },
  {
   "cell_type": "code",
   "execution_count": 6,
   "id": "de4969fb",
   "metadata": {},
   "outputs": [
    {
     "name": "stdout",
     "output_type": "stream",
     "text": [
      "\n",
      "📌 답변: 전세사기피해는 주택임대차 계약에서 발생하는 사기로, 주로 임차인이 전세금을 잃게 되는 상황을 의미합니다. 이는 집주인이 임차인에게 전세금을 받아 놓고도 주택담보대출을 갚지 않거나 주택을 임의로 매각하여 임차인에게 상환되지 않는 경우 등을 포함할 수 있습니다. 이러한 사기는 임차인의 경제적 손실을 초래하며, 전세사기피해자를 보호히기 위한 특별법 및 시행령이 마련되어 있기도 합니다.\n",
      "\n",
      "🔗 소스 1:\n",
      " 전세사기피해자 지원 및 주거안정에 관한 특별법 시행령 ( 약칭: 전세사기피해자법 시행령 )\n",
      "\n",
      "🔗 소스 2:\n",
      " 전세사기피해자 지원 및 주거안정에 관한 특별법 시행령 ( 약칭: 전세사기피해자법 시행령 )\n",
      "\n",
      "🔗 소스 3:\n",
      " 1. 전세사기피해주택 매입금액\n",
      "\n",
      "🔗 소스 4:\n",
      " 1. 전세사기피해주택 매입금액\n",
      "❗️답변을 할 수 없습니다.\n",
      "❗️답변을 할 수 없습니다.\n",
      "❗️답변을 할 수 없습니다.\n",
      "종료합니다.\n"
     ]
    }
   ],
   "source": [
    "# 질문 받기\n",
    "while True:\n",
    "    query = input(\"전세사기피해에 대해 질문하세요 (종료하려면 'q' 입력): \")\n",
    "    \n",
    "    if query.lower() == 'q':\n",
    "        print(\"종료합니다.\")\n",
    "        break\n",
    "\n",
    "    if '전세사기피해' in query:\n",
    "        # LLM에 질문과 함께 빈 chat_history 전달\n",
    "        result = qa_chain.invoke({\n",
    "            'question': query,\n",
    "            'chat_history': []\n",
    "        })\n",
    "        \n",
    "        # 결과 출력\n",
    "        print('\\n📌 답변:', result.get('answer', '답변 없음'))\n",
    "\n",
    "        # 소스 문서도 확인하고 싶다면 아래처럼 출력 가능\n",
    "        for idx, doc in enumerate(result.get('source_documents', [])):\n",
    "            print(f\"\\n🔗 소스 {idx+1}:\\n\", doc.page_content)\n",
    "    else:\n",
    "        print(\"❗️답변을 할 수 없습니다.\")\n"
   ]
  }
 ],
 "metadata": {
  "kernelspec": {
   "display_name": "project",
   "language": "python",
   "name": "python3"
  },
  "language_info": {
   "codemirror_mode": {
    "name": "ipython",
    "version": 3
   },
   "file_extension": ".py",
   "mimetype": "text/x-python",
   "name": "python",
   "nbconvert_exporter": "python",
   "pygments_lexer": "ipython3",
   "version": "3.10.12"
  }
 },
 "nbformat": 4,
 "nbformat_minor": 5
}
