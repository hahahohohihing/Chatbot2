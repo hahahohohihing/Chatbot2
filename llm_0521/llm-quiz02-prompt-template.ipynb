{
 "cells": [
  {
   "cell_type": "code",
   "execution_count": 2,
   "id": "686e1760",
   "metadata": {},
   "outputs": [],
   "source": [
    "## [문제] PromptTemplate 내 변수 설정: Chain\n",
    "\n",
    "template = '''\n",
    "당신은 이력서 작성 컨설턴트입니다.\n",
    "아래 정보를 바탕으로 지원자 입장에서 2000자 이내로 이력서를 작성합니다.\n",
    "문장은 자연스럽고 매끄럽게 작성합니다.\n",
    "\n",
    "이름: {name}\n",
    "경력: {experience}\n",
    "기술: {skills}\n",
    "'''"
   ]
  },
  {
   "cell_type": "code",
   "execution_count": null,
   "id": "846e797b",
   "metadata": {},
   "outputs": [],
   "source": []
  },
  {
   "cell_type": "code",
   "execution_count": 3,
   "id": "e002d1c7",
   "metadata": {},
   "outputs": [],
   "source": [
    "from langchain_openai import ChatOpenAI\n",
    "from langchain.callbacks.streaming_stdout import StreamingStdOutCallbackHandler\n",
    "from dotenv import load_dotenv\n"
   ]
  },
  {
   "cell_type": "code",
   "execution_count": 4,
   "id": "6ebc1d9f",
   "metadata": {},
   "outputs": [
    {
     "data": {
      "text/plain": [
       "True"
      ]
     },
     "execution_count": 4,
     "metadata": {},
     "output_type": "execute_result"
    }
   ],
   "source": [
    "load_dotenv()"
   ]
  },
  {
   "cell_type": "code",
   "execution_count": 5,
   "id": "ea8f05cc",
   "metadata": {},
   "outputs": [
    {
     "data": {
      "text/plain": [
       "ChatOpenAI(callbacks=[<langchain_core.callbacks.streaming_stdout.StreamingStdOutCallbackHandler object at 0x114dce710>], client=<openai.resources.chat.completions.completions.Completions object at 0x1150c1900>, async_client=<openai.resources.chat.completions.completions.AsyncCompletions object at 0x1150e46a0>, root_client=<openai.OpenAI object at 0x105b511b0>, root_async_client=<openai.AsyncOpenAI object at 0x1150c19c0>, model_name='gpt-4.1-nano', model_kwargs={}, openai_api_key=SecretStr('**********'), streaming=True)"
      ]
     },
     "execution_count": 5,
     "metadata": {},
     "output_type": "execute_result"
    }
   ],
   "source": [
    "llm = ChatOpenAI(\n",
    "    model='gpt-4.1-nano',\n",
    "    streaming=True,\n",
    "    callbacks=[StreamingStdOutCallbackHandler()],\n",
    ")\n",
    "\n",
    "llm"
   ]
  },
  {
   "cell_type": "code",
   "execution_count": 6,
   "id": "52b53987",
   "metadata": {},
   "outputs": [
    {
     "data": {
      "text/plain": [
       "PromptTemplate(input_variables=['experience', 'name', 'skills'], input_types={}, partial_variables={}, template='\\n당신은 이력서 작성 컨설턴트입니다.\\n아래 정보를 바탕으로 지원자 입장에서 2000자 이내로 이력서를 작성합니다.\\n문장은 자연스럽고 매끄럽게 작성합니다.\\n\\n이름: {name}\\n경력: {experience}\\n기술: {skills}\\n')"
      ]
     },
     "execution_count": 6,
     "metadata": {},
     "output_type": "execute_result"
    }
   ],
   "source": [
    "from langchain_core.prompts import PromptTemplate\n",
    "\n",
    "template = '''\n",
    "당신은 이력서 작성 컨설턴트입니다.\n",
    "아래 정보를 바탕으로 지원자 입장에서 2000자 이내로 이력서를 작성합니다.\n",
    "문장은 자연스럽고 매끄럽게 작성합니다.\n",
    "\n",
    "이름: {name}\n",
    "경력: {experience}\n",
    "기술: {skills}\n",
    "'''\n",
    "\n",
    "prompt = PromptTemplate.from_template(template=template)\n",
    "prompt"
   ]
  },
  {
   "cell_type": "code",
   "execution_count": 7,
   "id": "0a28c96a",
   "metadata": {},
   "outputs": [
    {
     "data": {
      "text/plain": [
       "PromptTemplate(input_variables=['experience', 'name', 'skills'], input_types={}, partial_variables={}, template='\\n당신은 이력서 작성 컨설턴트입니다.\\n아래 정보를 바탕으로 지원자 입장에서 2000자 이내로 이력서를 작성합니다.\\n문장은 자연스럽고 매끄럽게 작성합니다.\\n\\n이름: {name}\\n경력: {experience}\\n기술: {skills}\\n')\n",
       "| ChatOpenAI(callbacks=[<langchain_core.callbacks.streaming_stdout.StreamingStdOutCallbackHandler object at 0x114dce710>], client=<openai.resources.chat.completions.completions.Completions object at 0x1150c1900>, async_client=<openai.resources.chat.completions.completions.AsyncCompletions object at 0x1150e46a0>, root_client=<openai.OpenAI object at 0x105b511b0>, root_async_client=<openai.AsyncOpenAI object at 0x1150c19c0>, model_name='gpt-4.1-nano', model_kwargs={}, openai_api_key=SecretStr('**********'), streaming=True)"
      ]
     },
     "execution_count": 7,
     "metadata": {},
     "output_type": "execute_result"
    }
   ],
   "source": [
    "chain = prompt | llm\n",
    "chain"
   ]
  },
  {
   "cell_type": "code",
   "execution_count": 8,
   "id": "a7a085b3",
   "metadata": {},
   "outputs": [
    {
     "name": "stdout",
     "output_type": "stream",
     "text": [
      "박보검  \n",
      "연락처: [전화번호] | 이메일: [이메일주소]  \n",
      "LinkedIn: [링크] (선택사항)  \n",
      "  \n",
      "목표  \n",
      "열정적인 웹 개발 신입으로, Python과 HTML, CSS 등 다양한 기술을 활용하여 사용자 중심의 웹 애플리케이션을 개발하는 데 기여하고자 합니다. 최신 기술 동향에 관심이 많으며, 빠른 학습과 협업 능력을 바탕으로 성장하는 개발자가 되고자 합니다.  \n",
      "  \n",
      "학력  \n",
      "[대학교명] 컴퓨터공학과 졸업 예정 (또는 졸업 yyyy년)  \n",
      "  \n",
      "보유 기술  \n",
      "- 프로그래밍 언어: Python, HTML, CSS  \n",
      "- 인공지능 및 자연어처리: LLM(대형 언어모델) 활용 경험  \n",
      "- 도구 및 프레임워크: Flask, Django(자격증 또는 경험이 있다면 기입)  \n",
      "  \n",
      "경력 및 프로젝트  \n",
      "[프로젝트 제목 또는 경험]  \n",
      "- 웹 프로젝트를 통해 사용자 친화적인 인터페이스를 구축하였으며, Python을 활용한 서버 사이드 개발과 HTML, CSS를 이용한 프론트엔드 디자인 경험을 쌓았습니다.  \n",
      "- 자연어처리 기술을 적용한 LLM 활용 프로젝트에 참여하여 텍스트 분석 및 응답 시스템 개발에 기여하였으며, 최신 AI 기술의 실제 적용 사례를 경험하였습니다.  \n",
      "  \n",
      "개인 강점  \n",
      "- 빠른 학습 능력과 문제 해결 능력을 바탕으로 새로운 기술 습득에 적극적입니다.  \n",
      "- 협업을 중요시하며, 팀 내 커뮤니케이션과 역할 분담에 능숙합니다.  \n",
      "- 사용자 경험을 고려한 직관적이고 효율적인 웹 인터페이스 설계에 관심이 많습니다.  \n",
      "  \n",
      "추가 활동 및 수상 내역 (선택사항)  \n",
      "- 관련 온라인 강의 수료: Python, HTML/CSS, 인공지능 기초 등  \n",
      "- 동아리나 스터디 활동 경험 (있다면 구체적으로 기술)  \n",
      "  \n",
      "포부  \n",
      "앞으로 웹 개발 분야에서 실무 경험을 쌓으며, 인공지능과 자연어처리 기술을 접목한 혁신적인 서비스 개발에 기여하고 싶습니다. 지속적인 학습과 도전을 통해 성장하는 개발자가 되겠습니다.  \n",
      "  \n",
      "감사합니다."
     ]
    }
   ],
   "source": [
    "ai_message = chain.invoke({\n",
    "    'name': '박보검',\n",
    "    'experience': '웹 개발 신입',\n",
    "    'skills': 'Python, HTML, CSS, LLM'\n",
    "})"
   ]
  },
  {
   "cell_type": "code",
   "execution_count": 9,
   "id": "53c70d7a",
   "metadata": {},
   "outputs": [
    {
     "name": "stdout",
     "output_type": "stream",
     "text": [
      "이력서\n",
      "\n",
      "이름: 이미자  \n",
      "연락처: [휴대폰 번호] | [이메일 주소]  \n",
      "주소: [주소]  \n",
      "\n",
      "개인 소개  \n",
      "웹 개발 분야에서 20년간의 풍부한 경험을 보유한 개발자입니다. 최신 기술 트렌드에 민감하게 반응하며, Python, HTML, CSS를 활용한 다양한 프로젝트를 성공적으로 수행해 왔습니다. 특히 최근에는 인공 지능과 언어 모델(LLM)을 접목한 혁신적인 솔루션 개발에 관심을 가지고 있으며, 이를 통해 고객의 비즈니스 가치를 높이고자 노력하고 있습니다. 문제 해결 능력과 창의적인 아이디어를 바탕으로 팀과 협업하여 최적의 결과를 이끌어내는 것을 강점으로 생각합니다.\n",
      "\n",
      "경력 사항  \n",
      "[현재 또는 마지막 근무처]  \n",
      "- 직책: 웹 개발자 / 프로젝트 리더  \n",
      "- 기간: [시작 연도] – 현재  \n",
      "- 주요 업무 및 성과:  \n",
      "  - Python, HTML, CSS를 활용한 사용자 친화적인 웹 애플리케이션 개발  \n",
      "  - 기존 시스템의 유지보수 및 성능 개선  \n",
      "  - 인공지능과 언어 모델(LLM)을 접목한 고객 맞춤형 솔루션 도입 및 최적화  \n",
      "  - 크로스 플랫폼 웹 프로젝트 기획 및 실행, 팀 협업 주도  \n",
      "\n",
      "[이전 근무처]  \n",
      "- 직책: 웹 개발자  \n",
      "- 기간: [시작 연도] – [ 종료 연도 ]  \n",
      "- 주요 업무:  \n",
      "  - 사용자 인터페이스(UI) 설계 및 개발  \n",
      "  - 웹 표준 및 접근성 준수  \n",
      "  - 다양한 웹 서비스와 API 연동 작업 수행  \n",
      "\n",
      "보유 기술 및 역량  \n",
      "- 프로그래밍 언어: Python (초중급 이상)  \n",
      "- 프론트엔드: HTML, CSS  \n",
      "- 인공지능: 언어 모델(LLM)을 활용한 텍스트 분석 및 자동화 솔루션 개발  \n",
      "- 기타: Git, REST API, 데이터베이스 연동 경험  \n",
      "\n",
      "학력  \n",
      "[대학명]  \n",
      "- 전공: [전공명]  \n",
      "- 졸업연도: [연도]  \n",
      "\n",
      "자격증 및 교육  \n",
      "- [관련 자격증 또는 교육 프로그램 명]  \n",
      "- [취득 또는 수료 연도]  \n",
      "\n",
      "지원 동기 및 포부  \n",
      "끊임없이 변화하는 웹 개발 환경 속에서, 최신 기술을 적극 도입하고 적용하는 것에 큰 관심을 가지고 있습니다. 특히 인공지능과 언어 모델 분야의 발전이 비즈니스에 미치는 영향에 주목하며, 이를 활용한 혁신적인 솔루션 개발에 열정을 가지고 있습니다. 앞으로도 제 경험과 역량을 바탕으로 기업의 디지털 전환을 선도하며 최고의 성과를 이루고자 합니다.\n",
      "\n",
      "감사합니다."
     ]
    }
   ],
   "source": [
    "ai_message_two = (prompt | llm).invoke({\n",
    "\t'name': '이미자',\n",
    "    'experience': '웹 개발 20년차',\n",
    "    'skills': 'Python, HTML, CSS, LLM'\n",
    "})"
   ]
  }
 ],
 "metadata": {
  "kernelspec": {
   "display_name": "project",
   "language": "python",
   "name": "python3"
  },
  "language_info": {
   "codemirror_mode": {
    "name": "ipython",
    "version": 3
   },
   "file_extension": ".py",
   "mimetype": "text/x-python",
   "name": "python",
   "nbconvert_exporter": "python",
   "pygments_lexer": "ipython3",
   "version": "3.10.12"
  }
 },
 "nbformat": 4,
 "nbformat_minor": 5
}
