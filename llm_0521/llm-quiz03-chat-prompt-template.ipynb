{
 "cells": [
  {
   "cell_type": "markdown",
   "id": "ac2bcc64",
   "metadata": {},
   "source": [
    "# [문제] 기존 String PromptTemplate을 ChatPromptTemplate으로 변경\n",
    "\n",
    "- role: system\n",
    "- role: user\n",
    "\n",
    "template = '''\n",
    "당신은 이력서 작성 컨설턴트입니다.\n",
    "아래 정보를 바탕으로 지원자 입장에서 2000자 이내로 이력서를 작성합니다.\n",
    "문장은 자연스럽고 매끄럽게 작성합니다.\n",
    "\n",
    "이름: {name}\n",
    "경력: {experience}\n",
    "기술: {skills}\n",
    "'''"
   ]
  },
  {
   "cell_type": "code",
   "execution_count": 1,
   "id": "0d3af7bd",
   "metadata": {},
   "outputs": [],
   "source": [
    "from langchain_openai import ChatOpenAI\n",
    "from langchain.callbacks.streaming_stdout import StreamingStdOutCallbackHandler\n",
    "from langchain_core.prompts import ChatPromptTemplate\n",
    "from dotenv import load_dotenv"
   ]
  },
  {
   "cell_type": "code",
   "execution_count": 2,
   "id": "75b5760e",
   "metadata": {},
   "outputs": [
    {
     "data": {
      "text/plain": [
       "True"
      ]
     },
     "execution_count": 2,
     "metadata": {},
     "output_type": "execute_result"
    }
   ],
   "source": [
    "load_dotenv()"
   ]
  },
  {
   "cell_type": "code",
   "execution_count": 3,
   "id": "d6a5ecd7",
   "metadata": {},
   "outputs": [
    {
     "data": {
      "text/plain": [
       "ChatOpenAI(callbacks=[<langchain_core.callbacks.streaming_stdout.StreamingStdOutCallbackHandler object at 0x000002428591DAE0>], client=<openai.resources.chat.completions.completions.Completions object at 0x0000024285A18B20>, async_client=<openai.resources.chat.completions.completions.AsyncCompletions object at 0x0000024285A1B880>, root_client=<openai.OpenAI object at 0x0000024282FEC640>, root_async_client=<openai.AsyncOpenAI object at 0x0000024285A18BE0>, model_name='gpt-4.1-nano', model_kwargs={}, openai_api_key=SecretStr('**********'), streaming=True)"
      ]
     },
     "execution_count": 3,
     "metadata": {},
     "output_type": "execute_result"
    }
   ],
   "source": [
    "llm = ChatOpenAI(\n",
    "    model='gpt-4.1-nano',\n",
    "    streaming=True,\n",
    "    callbacks=[StreamingStdOutCallbackHandler()],\n",
    ")\n",
    "\n",
    "llm"
   ]
  },
  {
   "cell_type": "code",
   "execution_count": 4,
   "id": "8242229b",
   "metadata": {},
   "outputs": [
    {
     "data": {
      "text/plain": [
       "ChatPromptTemplate(input_variables=['experience', 'name', 'skills'], input_types={}, partial_variables={}, messages=[SystemMessagePromptTemplate(prompt=PromptTemplate(input_variables=[], input_types={}, partial_variables={}, template='당신은 이력서 작성 컨설턴트입니다.\\n\\t아래 정보를 바탕으로 지원자 입장에서 2000자 이내로 이력서를 작성합니다.\\n\\t문장은 자연스럽고 매끄럽게 작성합니다.'), additional_kwargs={}), HumanMessagePromptTemplate(prompt=PromptTemplate(input_variables=['experience', 'name', 'skills'], input_types={}, partial_variables={}, template='이름: {name}\\n경력: {experience}\\n기술: {skills}'), additional_kwargs={})])"
      ]
     },
     "execution_count": 4,
     "metadata": {},
     "output_type": "execute_result"
    }
   ],
   "source": [
    "prompt = ChatPromptTemplate([\n",
    "    ('system', '''당신은 이력서 작성 컨설턴트입니다.\n",
    "\t아래 정보를 바탕으로 지원자 입장에서 2000자 이내로 이력서를 작성합니다.\n",
    "\t문장은 자연스럽고 매끄럽게 작성합니다.'''),\n",
    "    ('user', '이름: {name}\\n경력: {experience}\\n기술: {skills}')\n",
    "])\n",
    "prompt"
   ]
  },
  {
   "cell_type": "code",
   "execution_count": 5,
   "id": "fcf46c2b",
   "metadata": {},
   "outputs": [
    {
     "data": {
      "text/plain": [
       "ChatPromptTemplate(input_variables=['experience', 'name', 'skills'], input_types={}, partial_variables={}, messages=[SystemMessagePromptTemplate(prompt=PromptTemplate(input_variables=[], input_types={}, partial_variables={}, template='당신은 이력서 작성 컨설턴트입니다.\\n\\t아래 정보를 바탕으로 지원자 입장에서 2000자 이내로 이력서를 작성합니다.\\n\\t문장은 자연스럽고 매끄럽게 작성합니다.'), additional_kwargs={}), HumanMessagePromptTemplate(prompt=PromptTemplate(input_variables=['experience', 'name', 'skills'], input_types={}, partial_variables={}, template='이름: {name}\\n경력: {experience}\\n기술: {skills}'), additional_kwargs={})])\n",
       "| ChatOpenAI(callbacks=[<langchain_core.callbacks.streaming_stdout.StreamingStdOutCallbackHandler object at 0x000002428591DAE0>], client=<openai.resources.chat.completions.completions.Completions object at 0x0000024285A18B20>, async_client=<openai.resources.chat.completions.completions.AsyncCompletions object at 0x0000024285A1B880>, root_client=<openai.OpenAI object at 0x0000024282FEC640>, root_async_client=<openai.AsyncOpenAI object at 0x0000024285A18BE0>, model_name='gpt-4.1-nano', model_kwargs={}, openai_api_key=SecretStr('**********'), streaming=True)"
      ]
     },
     "execution_count": 5,
     "metadata": {},
     "output_type": "execute_result"
    }
   ],
   "source": [
    "chain = prompt | llm\n",
    "chain"
   ]
  },
  {
   "cell_type": "code",
   "execution_count": 6,
   "id": "598aab60",
   "metadata": {},
   "outputs": [
    {
     "name": "stdout",
     "output_type": "stream",
     "text": [
      "홍길동  \n",
      "이메일: honggildong@email.com | 전화번호: 010-1234-5678 | LinkedIn: linkedin.com/in/honggildong  \n",
      "\n",
      "---\n",
      "\n",
      "**개인 요약**  \n",
      "5년간의 웹 개발 경험과 뛰어난 기술력을 바탕으로 사용자 중심의 웹 애플리케이션을 개발하는 데 전문성을 갖춘 개발자입니다. 파이썬 기반의 백엔드 개발과 프론트엔드 기술에 대한 이해도를 바탕으로 효율적이고 확장 가능한 프로젝트를 구현해왔으며, 최근에는 대규모 언어 모델(LLM)을 활용한 자연어 처리와 인공지능 관련 프로젝트에도 적극 참여하며 최신 기술 트렌드에 발맞추고 있습니다. 문제 해결 능력과 팀 협업 능력을 통해 다양한 프로젝트에서 성과를 창출하고자 합니다.\n",
      "\n",
      "---\n",
      "\n",
      "**경력 사항**  \n",
      "\n",
      "**웹 개발자 | ABC 테크놀로지스 | 2018.03 – 현재**  \n",
      "- 프론트엔드와 백엔드 개발을 담당하며, 사용자 친화적이고 반응형인 웹사이트 및 웹 애플리케이션을 제작  \n",
      "- Python을 활용한 서버사이드 로직 구현, Django 및 Flask 프레임워크 활용에 능숙  \n",
      "- HTML, CSS를 활용하여 직관적이고 세련된 UI/UX를 구현  \n",
      "- 지속적인 코드 최적화와 유지보수로 시스템 안정성과 성능 향상에 기여  \n",
      "- 자연어 처리 관련 프로젝트 진행 및 LLM(대규모 언어 모델) 활용, 사용자의 문의 자동응답, 콘텐츠 생성 자동화 등 인공지능 기반 솔루션 개발  \n",
      "\n",
      "**주요 성과**  \n",
      "- 고객 요구사항 분석 후 맞춤형 웹 솔루션 제공으로 고객 만족도 향상  \n",
      "- LLM을 도입한 자연어 이해 시스템 구축, 고객센터 자동화율 30% 향상  \n",
      "- 팀 내 코드 리뷰와 멘토링 업무를 수행하며 개발 역량 향상에 기여  \n",
      "\n",
      "---\n",
      "\n",
      "**기술 역량**  \n",
      "- 프로그래밍 언어: Python, HTML, CSS  \n",
      "- 프레임워크 및 도구: Django, Flask, Git, RESTful API 설계  \n",
      "- 인공지능 및 자연어 처리: 대규모 언어 모델(LLM) 활용 경험  \n",
      "- 기타: 반응형 디자인, 웹 표준, 크로스브라우징  \n",
      "\n",
      "---\n",
      "\n",
      "**학력**  \n",
      "서울대학교 컴퓨터공학과 학사 | 2014 – 2018  \n",
      "\n",
      "---\n",
      "\n",
      "**자격증 및 추가 정보**  \n",
      "- 정보처리기사 자격증  \n",
      "- 최신 AI 트렌드와 자연어 처리 관련 온라인 강좌 수료  \n",
      "\n",
      "---\n",
      "\n",
      "**지원 동기 및 포부**  \n",
      "저는 다양한 기술적 도전과 성장을 경험하며 웹 개발과 인공지능 분야 모두에서 역량을 쌓아왔습니다. 앞으로도 빠르게 진화하는 IT 시장에서 최신 트렌드와 기술을 습득하며, 혁신적이고 경쟁력 있는 솔루션을 만들어내는 개발자가 되고자 합니다. 팀과 협력하며 프로젝트 성공을 위해 끊임없이 노력하는 자세로 귀사의 발전에 기여하고 싶습니다."
     ]
    }
   ],
   "source": [
    "ai_message = chain.invoke({\n",
    "    'name': '홍길동',\n",
    "    'experience': '웹 개발 5년',\n",
    "    'skills': 'Python, HTML, CSS, LLM'\n",
    "})"
   ]
  },
  {
   "cell_type": "code",
   "execution_count": null,
   "id": "9f65277f",
   "metadata": {},
   "outputs": [
    {
     "data": {
      "text/plain": [
       "ChatPromptTemplate(input_variables=['experience', 'name', 'skills'], input_types={}, partial_variables={}, messages=[SystemMessagePromptTemplate(prompt=PromptTemplate(input_variables=[], input_types={}, partial_variables={}, template='당신은 이력서 작성 컨설턴트입니다.\\n\\t아래 정보를 바탕으로 지원자 입장에서 2000자 이내로 이력서를 작성합니다.\\n\\t문장은 자연스럽고 매끄럽게 작성합니다.'), additional_kwargs={}), HumanMessagePromptTemplate(prompt=PromptTemplate(input_variables=['experience', 'name', 'skills'], input_types={}, partial_variables={}, template='이름: {name}\\n경력: {experience}\\n기술: {skills}'), additional_kwargs={})])"
      ]
     },
     "metadata": {},
     "output_type": "display_data"
    }
   ],
   "source": [
    "prompt = ChatPromptTemplate([\n",
    "    ('system', '''당신은 이력서 작성 컨설턴트입니다.\n",
    "\t아래 정보를 바탕으로 지원자 입장에서 2000자 이내로 이력서를 작성합니다.\n",
    "\t문장은 자연스럽고 매끄럽게 작성합니다.'''),\n",
    "    ('user', '이름: {name}\\n경력: {experience}\\n기술: {skills}')\n",
    "])\n",
    "prompt"
   ]
  },
  {
   "cell_type": "code",
   "execution_count": 7,
   "id": "e6165ddf",
   "metadata": {},
   "outputs": [
    {
     "data": {
      "text/plain": [
       "ChatPromptTemplate(input_variables=['experience', 'name', 'skills'], input_types={}, partial_variables={}, messages=[SystemMessagePromptTemplate(prompt=PromptTemplate(input_variables=[], input_types={}, partial_variables={}, template='당신은 이력서 작성 컨설턴트입니다.\\n\\t아래 정보를 바탕으로 지원자 입장에서 2000자 이내로 이력서를 작성합니다.\\n\\t문장은 자연스럽고 매끄럽게 작성합니다.'), additional_kwargs={}), HumanMessagePromptTemplate(prompt=PromptTemplate(input_variables=['experience', 'name', 'skills'], input_types={}, partial_variables={}, template='이름: {name}\\n경력: {experience}\\n기술: {skills}'), additional_kwargs={})])"
      ]
     },
     "execution_count": 7,
     "metadata": {},
     "output_type": "execute_result"
    }
   ],
   "source": [
    "prompt2 = ChatPromptTemplate.from_messages([\n",
    "    ('system', '''당신은 이력서 작성 컨설턴트입니다.\n",
    "\t아래 정보를 바탕으로 지원자 입장에서 2000자 이내로 이력서를 작성합니다.\n",
    "\t문장은 자연스럽고 매끄럽게 작성합니다.'''),\n",
    "    ('user', '이름: {name}\\n경력: {experience}\\n기술: {skills}')\n",
    "])\n",
    "\n",
    "prompt2"
   ]
  },
  {
   "cell_type": "code",
   "execution_count": null,
   "id": "841a8cb0",
   "metadata": {},
   "outputs": [],
   "source": []
  },
  {
   "cell_type": "code",
   "execution_count": null,
   "id": "f76487bb",
   "metadata": {},
   "outputs": [],
   "source": []
  },
  {
   "cell_type": "code",
   "execution_count": null,
   "id": "f4926926",
   "metadata": {},
   "outputs": [],
   "source": []
  },
  {
   "cell_type": "code",
   "execution_count": null,
   "id": "18af3d23",
   "metadata": {},
   "outputs": [],
   "source": []
  },
  {
   "cell_type": "code",
   "execution_count": null,
   "id": "f731cb27",
   "metadata": {},
   "outputs": [],
   "source": [
    "from langchain_openai import ChatOpenAI\n",
    "from langchain.callbacks.streaming_stdout import StreamingStdOutCallbackHandler\n",
    "from langchain_core.prompts import ChatPromptTemplate\n",
    "from dotenv import load_dotenv\n",
    "\n",
    "load_dotenv()\n",
    "\n",
    "llm = ChatOpenAI(\n",
    "    model='gpt-4.1-nano',\n",
    "    streaming=True,\n",
    "    callbacks=[StreamingStdOutCallbackHandler()],\n",
    ")\n",
    "\n",
    "prompt = ChatPromptTemplate([\n",
    "    ('system', '''당신은 이력서 작성 컨설턴트입니다.\n",
    "\t아래 정보를 바탕으로 지원자 입장에서 2000자 이내로 이력서를 작성합니다.\n",
    "\t문장은 자연스럽고 매끄럽게 작성합니다.'''),\n",
    "    ('user', '이름: {name}\\n경력: {experience}\\n기술: {skills}')\n",
    "])\n",
    "\n",
    "chain = prompt | llm\n",
    "\n",
    "ai_message = chain.invoke({\n",
    "    'name': '홍길동',\n",
    "    'experience': '웹 개발 5년',\n",
    "    'skills': 'Python, HTML, CSS, LLM'\n",
    "})"
   ]
  }
 ],
 "metadata": {
  "kernelspec": {
   "display_name": "project",
   "language": "python",
   "name": "python3"
  },
  "language_info": {
   "codemirror_mode": {
    "name": "ipython",
    "version": 3
   },
   "file_extension": ".py",
   "mimetype": "text/x-python",
   "name": "python",
   "nbconvert_exporter": "python",
   "pygments_lexer": "ipython3",
   "version": "3.10.12"
  }
 },
 "nbformat": 4,
 "nbformat_minor": 5
}
