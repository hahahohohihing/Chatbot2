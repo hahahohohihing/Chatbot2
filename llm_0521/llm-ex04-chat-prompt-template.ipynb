{
 "cells": [
  {
   "cell_type": "markdown",
   "id": "27851109",
   "metadata": {},
   "source": [
    "# [문제] Chain으로 코드 작성"
   ]
  },
  {
   "cell_type": "code",
   "execution_count": null,
   "id": "3299fd09",
   "metadata": {},
   "outputs": [
    {
     "name": "stdout",
     "output_type": "stream",
     "text": [
      "Why did the sun go to school?  \n",
      "Because it wanted to be a little brighter!"
     ]
    }
   ],
   "source": [
    "from langchain_core.prompts import ChatPromptTemplate\n",
    "from langchain_openai import ChatOpenAI\n",
    "from langchain.callbacks.streaming_stdout import StreamingStdOutCallbackHandler\n",
    "from dotenv import load_dotenv\n",
    "\n",
    "load_dotenv()\n",
    "\n",
    "llm = ChatOpenAI(\n",
    "    model='gpt-4.1-nano',\n",
    "    streaming=True,\n",
    "    callbacks=[StreamingStdOutCallbackHandler()]\n",
    ")\n",
    "\n",
    "prompt = ChatPromptTemplate([\n",
    "    ('system', 'You are a helpful assistant'),\n",
    "    ('user', 'Tell me a joke about {topic}')\n",
    "])\n",
    "\n",
    "## chain\n",
    "ai_message = (prompt | llm).invoke({'topic': 'sun'})"
   ]
  }
 ],
 "metadata": {
  "kernelspec": {
   "display_name": "project",
   "language": "python",
   "name": "python3"
  },
  "language_info": {
   "codemirror_mode": {
    "name": "ipython",
    "version": 3
   },
   "file_extension": ".py",
   "mimetype": "text/x-python",
   "name": "python",
   "nbconvert_exporter": "python",
   "pygments_lexer": "ipython3",
   "version": "3.10.12"
  }
 },
 "nbformat": 4,
 "nbformat_minor": 5
}
