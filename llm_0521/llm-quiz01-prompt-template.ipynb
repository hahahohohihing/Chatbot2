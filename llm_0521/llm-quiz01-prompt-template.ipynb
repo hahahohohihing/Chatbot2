{
 "cells": [
  {
   "cell_type": "code",
   "execution_count": null,
   "id": "686e1760",
   "metadata": {},
   "outputs": [],
   "source": [
    "## [문제] PromptTemplate 내 변수 설정: PromptTemplate의 invoke()\n",
    "\n",
    "template = '''\n",
    "당신은 이력서 작성 컨설턴트입니다.\n",
    "아래 정보를 바탕으로 지원자 입장에서 2000자 이내로 이력서를 작성합니다.\n",
    "문장은 자연스럽고 매끄럽게 작성합니다.\n",
    "\n",
    "이름: {name}\n",
    "경력: {experience}\n",
    "기술: {skills}\n",
    "'''\n"
   ]
  },
  {
   "cell_type": "code",
   "execution_count": 1,
   "id": "e002d1c7",
   "metadata": {},
   "outputs": [],
   "source": [
    "## 1. 모듈(파일/라이브러리) 읽어오기\n",
    "from langchain_openai import ChatOpenAI\n",
    "from langchain.callbacks.streaming_stdout import StreamingStdOutCallbackHandler\n",
    "from dotenv import load_dotenv\n",
    "\n"
   ]
  },
  {
   "cell_type": "code",
   "execution_count": 2,
   "id": "6ebc1d9f",
   "metadata": {},
   "outputs": [
    {
     "data": {
      "text/plain": [
       "True"
      ]
     },
     "execution_count": 2,
     "metadata": {},
     "output_type": "execute_result"
    }
   ],
   "source": [
    "## 2. 환경변수에 설정된 값 읽어오기\n",
    "load_dotenv()"
   ]
  },
  {
   "cell_type": "code",
   "execution_count": null,
   "id": "ea8f05cc",
   "metadata": {},
   "outputs": [
    {
     "data": {
      "text/plain": [
       "ChatOpenAI(callbacks=[<langchain_core.callbacks.streaming_stdout.StreamingStdOutCallbackHandler object at 0x000002DBEF718850>], client=<openai.resources.chat.completions.completions.Completions object at 0x000002DBEF7EB9A0>, async_client=<openai.resources.chat.completions.completions.AsyncCompletions object at 0x000002DBEF816740>, root_client=<openai.OpenAI object at 0x000002DBEF71B1F0>, root_async_client=<openai.AsyncOpenAI object at 0x000002DBEF7EBA60>, model_name='gpt-4.1-nano', model_kwargs={}, openai_api_key=SecretStr('**********'), streaming=True)"
      ]
     },
     "execution_count": 3,
     "metadata": {},
     "output_type": "execute_result"
    }
   ],
   "source": [
    "## 3. ChatOpenAI 인스턴스 생성\n",
    "llm = ChatOpenAI(\n",
    "    model='gpt-4.1-nano',\n",
    "    streaming=True,\n",
    "    callbacks=[StreamingStdOutCallbackHandler()],\n",
    ")\n",
    "\n",
    "llm"
   ]
  },
  {
   "cell_type": "code",
   "execution_count": 5,
   "id": "52b53987",
   "metadata": {},
   "outputs": [
    {
     "data": {
      "text/plain": [
       "PromptTemplate(input_variables=['experience', 'name', 'skills'], input_types={}, partial_variables={}, template='\\n당신은 이력서 작성 컨설턴트입니다.\\n아래 정보를 바탕으로 지원자 입장에서 2000자 이내로 이력서를 작성합니다.\\n문장은 자연스럽고 매끄럽게 작성합니다.\\n\\n이름: {name}\\n경력: {experience}\\n기술: {skills}\\n')"
      ]
     },
     "execution_count": 5,
     "metadata": {},
     "output_type": "execute_result"
    }
   ],
   "source": [
    "from langchain_core.prompts import PromptTemplate\n",
    "\n",
    "template = '''\n",
    "당신은 이력서 작성 컨설턴트입니다.\n",
    "아래 정보를 바탕으로 지원자 입장에서 2000자 이내로 이력서를 작성합니다.\n",
    "문장은 자연스럽고 매끄럽게 작성합니다.\n",
    "\n",
    "이름: {name}\n",
    "경력: {experience}\n",
    "기술: {skills}\n",
    "'''\n",
    "\n",
    "prompt = PromptTemplate.from_template(template=template)\n",
    "prompt"
   ]
  },
  {
   "cell_type": "code",
   "execution_count": 6,
   "id": "0a28c96a",
   "metadata": {},
   "outputs": [
    {
     "data": {
      "text/plain": [
       "StringPromptValue(text='\\n당신은 이력서 작성 컨설턴트입니다.\\n아래 정보를 바탕으로 지원자 입장에서 2000자 이내로 이력서를 작성합니다.\\n문장은 자연스럽고 매끄럽게 작성합니다.\\n\\n이름: 홍길동\\n경력: 웹 개발 5년\\n기술: Python, HTML, CSS, LLM\\n')"
      ]
     },
     "execution_count": 6,
     "metadata": {},
     "output_type": "execute_result"
    }
   ],
   "source": [
    "prompt_string = prompt.invoke({\n",
    "   'name': '홍길동', \n",
    "   'experience': '웹 개발 5년',\n",
    "   'skills': 'Python, HTML, CSS, LLM'    \n",
    "})\n",
    "\n",
    "prompt_string"
   ]
  },
  {
   "cell_type": "code",
   "execution_count": 7,
   "id": "a38ec9fa",
   "metadata": {},
   "outputs": [
    {
     "name": "stdout",
     "output_type": "stream",
     "text": [
      "홍길동  \n",
      "이메일: honggildong@email.com | 전화번호: 010-1234-5678 | LinkedIn: linkedin.com/in/honggildong  \n",
      "\n",
      "---\n",
      "\n",
      "**개인요약**  \n",
      "저는 5년간의 웹 개발 경험을 바탕으로 사용자 친화적이고 효율적인 웹 솔루션을 만들어 온 개발자입니다. Python과 HTML, CSS 기술을 활용하여 다양한 프로젝트를 성공적으로 수행했으며, 최근에는 대형 언어 모델(LLM) 분야에 관심을 가지고 관련 기술을 익혀 왔습니다. 빠르게 변화하는 기술 환경 속에서도 끊임없이 학습하며 창의적인 문제 해결 능력을 발휘하는 것을 목표로 하고 있습니다.\n",
      "\n",
      "---\n",
      "\n",
      "**경력 사항**  \n",
      "**웹 개발자**  \n",
      "(주)ABC테크 - 2018년 3월 ~ 현재  \n",
      "- 기업 내부 및 고객 대상 웹 애플리케이션 개발 및 유지보수  \n",
      "- Python을 활용한 서버사이드 스크립팅 및 데이터 처리 구축  \n",
      "- HTML, CSS를 이용하여 사용자 경험 중심의 프론트엔드 개발  \n",
      "- 프로젝트 요구사항 분석 및 기술적 설계, 배포 이후 유지보수 진행  \n",
      "- 사내 인트라넷 개선 프로젝트를 주도하여 사용자 업무 효율성 향상  \n",
      "\n",
      "---\n",
      "\n",
      "**학력**  \n",
      "서울대학교 컴퓨터공학과  \n",
      "학사, 2014년 3월 – 2018년 2월  \n",
      "\n",
      "---\n",
      "\n",
      "**기술 역량**  \n",
      "- **Python:** 서버사이드 개발, 데이터 처리, 자동화 스크립트  \n",
      "- **HTML/CSS:** 반응형 웹페이지 설계 및 개발  \n",
      "- **LLM:** OpenAI GPT 등 대형 언어 모델 활용 및 연구 가능  \n",
      "- **기타:** Git, SQL, REST API, Linux 환경  \n",
      "\n",
      "---\n",
      "\n",
      "**자기소개 및 포부**  \n",
      "저는 끊임없이 변화하는 IT 환경 속에서 사용자 중심의 웹 서비스를 개발하는 것에 큰 열정을 가지고 있습니다. 5년간의 실무 경험을 통해 다양한 문제를 해결하며 성장했고, 최근에는 자연어 처리와 대형 언어 모델 기술에 관심을 갖고 관련 분야 지식을 쌓아가고 있습니다. 앞으로는 최신 기술을 적극 도입하여 기업의 혁신 및 경쟁력 강화를 위해 기여하고 싶습니다. 항상 배우는 자세와 책임감 있는 태도로 최선을 다하겠습니다.  \n",
      "\n",
      "감사합니다."
     ]
    }
   ],
   "source": [
    "ai_message = llm.invoke(prompt_string)"
   ]
  }
 ],
 "metadata": {
  "kernelspec": {
   "display_name": "project",
   "language": "python",
   "name": "python3"
  },
  "language_info": {
   "codemirror_mode": {
    "name": "ipython",
    "version": 3
   },
   "file_extension": ".py",
   "mimetype": "text/x-python",
   "name": "python",
   "nbconvert_exporter": "python",
   "pygments_lexer": "ipython3",
   "version": "3.10.12"
  }
 },
 "nbformat": 4,
 "nbformat_minor": 5
}
