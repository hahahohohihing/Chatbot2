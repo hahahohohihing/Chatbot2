{
 "cells": [
  {
   "cell_type": "markdown",
   "id": "f95124b3",
   "metadata": {},
   "source": [
    "# [문제]\n",
    "- CHatPromptTemplate() : 역할 부여\n",
    "- InMemoryChatMessageHistory()\n",
    "- RunnableWithMessageHistory()\n",
    "- chain 구성"
   ]
  },
  {
   "cell_type": "code",
   "execution_count": null,
   "id": "686e1760",
   "metadata": {},
   "outputs": [],
   "source": [
    "# ## [문제] PromptTemplate 내 변수 설정: Chain\n",
    "\n",
    "# template = '''\n",
    "# 당신은 이력서 작성 컨설턴트입니다.\n",
    "# 아래 정보를 바탕으로 지원자 입장에서 2000자 이내로 이력서를 작성합니다.\n",
    "# 문장은 자연스럽고 매끄럽게 작성합니다.\n",
    "\n",
    "# 이름: {name}\n",
    "# 경력: {experience}\n",
    "# 기술: {skills}\n",
    "# '''\n"
   ]
  },
  {
   "cell_type": "code",
   "execution_count": null,
   "id": "400b6859",
   "metadata": {},
   "outputs": [],
   "source": [
    "from dotenv import load_dotenv\n",
    "from langchain_openai import ChatOpenAI\n",
    "from langchain_core.prompts import ChatPromptTemplate, MessagesPlaceholder\n",
    "from langchain_core.output_parsers import StrOutputParser\n",
    "from langchain_core.chat_history import InMemoryChatMessageHistory\n",
    "from langchain_core.runnables.history import RunnableWithMessageHistory\n",
    "load_dotenv()\n",
    "\n",
    "prompt = ChatPromptTemplate.from_messages([\n",
    "    ('system', '당신은 이력서 작성 컨설턴트입니다.아래 정보를 바탕으로 지원자 입장에서 2000자 이내로 이력서를 작성합니다.문장은 자연스럽고 매끄럽게 작성합니다.'),\n",
    "    MessagesPlaceholder(variable_name='chat_history'),\n",
    "    ('human', '{input}')\n",
    "])\n",
    "\n",
    "history = InMemoryChatMessageHistory()\n",
    "def get_history():\n",
    "    return history\n",
    "\n",
    "llm_chain = prompt | ChatOpenAI(model='gpt-3.5-turbo') | StrOutputParser()\n",
    "\n",
    "# chain = ChatOpenAI() | StrOutputParser()\n",
    "# chain\n",
    "\n",
    "\n",
    "wrapped_chain = RunnableWithMessageHistory(\n",
    "    llm_chain,\n",
    "    get_history,\n",
    "    history_messages_key='chat_history'\n",
    ")\n",
    "# wrapped_chain"
   ]
  },
  {
   "cell_type": "code",
   "execution_count": 94,
   "id": "fb810c7b",
   "metadata": {},
   "outputs": [
    {
     "name": "stdout",
     "output_type": "stream",
     "text": [
      "ai 응답: [ 이름 ]\n",
      "[ 연락처 ]\n",
      "[ 이메일 주소 ]\n",
      "\n",
      "<개인 정보>\n",
      "- 생년월일: \n",
      "- 주소: \n",
      "\n",
      "<학력 사항>\n",
      "- 학력: 어느 대학교, 전공\n",
      "- 학점: \n",
      "- 수상 경력: \n",
      "\n",
      "<자격증>\n",
      "- 자격증: 어떤 자격증\n",
      "- 취득 일자: \n",
      "\n",
      "<어학>\n",
      "- 영어: \n",
      "- 일본어:\n",
      "- 기타: \n",
      "\n",
      "<경력 사항>\n",
      "1. 회사: \n",
      "   - 직급: \n",
      "   - 근무 기간: \n",
      "   - 담당 업무: \n",
      "\n",
      "2. 회사: \n",
      "   - 직급: \n",
      "   - 근무 기간: \n",
      "   - 담당 업무: \n",
      "\n",
      "<프로젝트 경험>\n",
      "- 프로젝트명: \n",
      "- 기간: \n",
      "- 내용: \n",
      "\n",
      "<자기소개서>\n",
      "저는 커뮤니케이션이 원활하고 문제를 해결하는 것을 좋아하는 [이전 직무] 경험을 바탕으로 네이버에서 높은 목표를 이뤄내고 싶습니다. 창의적인 아이디어와 끈기를 바탕으로 함께 일하며 회사 발전에 기여하겠습니다. 부디 면접 기회를 주시면 감사하겠습니다. \n",
      "\n",
      "감사합니다.\n"
     ]
    }
   ],
   "source": [
    "question = input('질문을 입력하세요')\n",
    "response = wrapped_chain.invoke({'input': question})\n",
    "\n",
    "print('ai 응답:', response)\n",
    "\n",
    "# user_input = \"홍길동\"\n",
    "# formatted_prompt = prompt.invoke({'input': user_input})\n",
    "# response = wrapped_chain.invoke({'input': '정보 입력'})\n",
    "# print('ai응답:', response)"
   ]
  },
  {
   "cell_type": "code",
   "execution_count": 95,
   "id": "0110e4c0",
   "metadata": {},
   "outputs": [
    {
     "name": "stdout",
     "output_type": "stream",
     "text": [
      "Human: 네이버 입사 이력서 만들어 줘\n",
      "AI: [ 이름 ]\n",
      "[ 연락처 ]\n",
      "[ 이메일 주소 ]\n",
      "\n",
      "<개인 정보>\n",
      "- 생년월일: \n",
      "- 주소: \n",
      "\n",
      "<학력 사항>\n",
      "- 학력: 어느 대학교, 전공\n",
      "- 학점: \n",
      "- 수상 경력: \n",
      "\n",
      "<자격증>\n",
      "- 자격증: 어떤 자격증\n",
      "- 취득 일자: \n",
      "\n",
      "<어학>\n",
      "- 영어: \n",
      "- 일본어:\n",
      "- 기타: \n",
      "\n",
      "<경력 사항>\n",
      "1. 회사: \n",
      "   - 직급: \n",
      "   - 근무 기간: \n",
      "   - 담당 업무: \n",
      "\n",
      "2. 회사: \n",
      "   - 직급: \n",
      "   - 근무 기간: \n",
      "   - 담당 업무: \n",
      "\n",
      "<프로젝트 경험>\n",
      "- 프로젝트명: \n",
      "- 기간: \n",
      "- 내용: \n",
      "\n",
      "<자기소개서>\n",
      "저는 커뮤니케이션이 원활하고 문제를 해결하는 것을 좋아하는 [이전 직무] 경험을 바탕으로 네이버에서 높은 목표를 이뤄내고 싶습니다. 창의적인 아이디어와 끈기를 바탕으로 함께 일하며 회사 발전에 기여하겠습니다. 부디 면접 기회를 주시면 감사하겠습니다. \n",
      "\n",
      "감사합니다.\n"
     ]
    }
   ],
   "source": [
    "print(history)"
   ]
  },
  {
   "cell_type": "code",
   "execution_count": null,
   "id": "f8dd96a7",
   "metadata": {},
   "outputs": [],
   "source": []
  },
  {
   "cell_type": "code",
   "execution_count": null,
   "id": "1b81c8c1",
   "metadata": {},
   "outputs": [],
   "source": []
  },
  {
   "cell_type": "code",
   "execution_count": null,
   "id": "488f2ec1",
   "metadata": {},
   "outputs": [],
   "source": []
  },
  {
   "cell_type": "code",
   "execution_count": null,
   "id": "307293f1",
   "metadata": {},
   "outputs": [],
   "source": []
  },
  {
   "cell_type": "code",
   "execution_count": null,
   "id": "8a528737",
   "metadata": {},
   "outputs": [],
   "source": []
  },
  {
   "cell_type": "code",
   "execution_count": null,
   "id": "99d52b21",
   "metadata": {},
   "outputs": [],
   "source": []
  },
  {
   "cell_type": "code",
   "execution_count": null,
   "id": "cc0faee6",
   "metadata": {},
   "outputs": [],
   "source": []
  },
  {
   "cell_type": "code",
   "execution_count": null,
   "id": "95d94ec6",
   "metadata": {},
   "outputs": [],
   "source": []
  },
  {
   "cell_type": "code",
   "execution_count": null,
   "id": "e5e211d0",
   "metadata": {},
   "outputs": [],
   "source": []
  },
  {
   "cell_type": "code",
   "execution_count": null,
   "id": "890567ea",
   "metadata": {},
   "outputs": [],
   "source": []
  },
  {
   "cell_type": "code",
   "execution_count": 96,
   "id": "52b53987",
   "metadata": {},
   "outputs": [
    {
     "data": {
      "text/plain": [
       "PromptTemplate(input_variables=['experience', 'name', 'skills'], input_types={}, partial_variables={}, template='\\n당신은 이력서 작성 컨설턴트입니다.\\n아래 정보를 바탕으로 지원자 입장에서 2000자 이내로 이력서를 작성합니다.\\n문장은 자연스럽고 매끄럽게 작성합니다.\\n\\n이름: {name}\\n경력: {experience}\\n기술: {skills}\\n')"
      ]
     },
     "execution_count": 96,
     "metadata": {},
     "output_type": "execute_result"
    }
   ],
   "source": [
    "from langchain_core.prompts import PromptTemplate\n",
    "\n",
    "template = '''\n",
    "당신은 이력서 작성 컨설턴트입니다.\n",
    "아래 정보를 바탕으로 지원자 입장에서 2000자 이내로 이력서를 작성합니다.\n",
    "문장은 자연스럽고 매끄럽게 작성합니다.\n",
    "\n",
    "이름: {name}\n",
    "경력: {experience}\n",
    "기술: {skills}\n",
    "'''\n",
    "\n",
    "prompt = PromptTemplate.from_template(template=template)\n",
    "prompt"
   ]
  },
  {
   "cell_type": "code",
   "execution_count": 97,
   "id": "0a28c96a",
   "metadata": {},
   "outputs": [
    {
     "ename": "NameError",
     "evalue": "name 'llm' is not defined",
     "output_type": "error",
     "traceback": [
      "\u001b[0;31m---------------------------------------------------------------------------\u001b[0m",
      "\u001b[0;31mNameError\u001b[0m                                 Traceback (most recent call last)",
      "Cell \u001b[0;32mIn[97], line 1\u001b[0m\n\u001b[0;32m----> 1\u001b[0m chain \u001b[38;5;241m=\u001b[39m prompt \u001b[38;5;241m|\u001b[39m \u001b[43mllm\u001b[49m\n\u001b[1;32m      2\u001b[0m chain\n",
      "\u001b[0;31mNameError\u001b[0m: name 'llm' is not defined"
     ]
    }
   ],
   "source": [
    "chain = prompt | llm\n",
    "chain"
   ]
  },
  {
   "cell_type": "code",
   "execution_count": null,
   "id": "a7a085b3",
   "metadata": {},
   "outputs": [
    {
     "name": "stdout",
     "output_type": "stream",
     "text": [
      "박보검  \n",
      "연락처: [전화번호] | 이메일: [이메일주소]  \n",
      "LinkedIn: [링크] (선택사항)  \n",
      "  \n",
      "목표  \n",
      "열정적인 웹 개발 신입으로, Python과 HTML, CSS 등 다양한 기술을 활용하여 사용자 중심의 웹 애플리케이션을 개발하는 데 기여하고자 합니다. 최신 기술 동향에 관심이 많으며, 빠른 학습과 협업 능력을 바탕으로 성장하는 개발자가 되고자 합니다.  \n",
      "  \n",
      "학력  \n",
      "[대학교명] 컴퓨터공학과 졸업 예정 (또는 졸업 yyyy년)  \n",
      "  \n",
      "보유 기술  \n",
      "- 프로그래밍 언어: Python, HTML, CSS  \n",
      "- 인공지능 및 자연어처리: LLM(대형 언어모델) 활용 경험  \n",
      "- 도구 및 프레임워크: Flask, Django(자격증 또는 경험이 있다면 기입)  \n",
      "  \n",
      "경력 및 프로젝트  \n",
      "[프로젝트 제목 또는 경험]  \n",
      "- 웹 프로젝트를 통해 사용자 친화적인 인터페이스를 구축하였으며, Python을 활용한 서버 사이드 개발과 HTML, CSS를 이용한 프론트엔드 디자인 경험을 쌓았습니다.  \n",
      "- 자연어처리 기술을 적용한 LLM 활용 프로젝트에 참여하여 텍스트 분석 및 응답 시스템 개발에 기여하였으며, 최신 AI 기술의 실제 적용 사례를 경험하였습니다.  \n",
      "  \n",
      "개인 강점  \n",
      "- 빠른 학습 능력과 문제 해결 능력을 바탕으로 새로운 기술 습득에 적극적입니다.  \n",
      "- 협업을 중요시하며, 팀 내 커뮤니케이션과 역할 분담에 능숙합니다.  \n",
      "- 사용자 경험을 고려한 직관적이고 효율적인 웹 인터페이스 설계에 관심이 많습니다.  \n",
      "  \n",
      "추가 활동 및 수상 내역 (선택사항)  \n",
      "- 관련 온라인 강의 수료: Python, HTML/CSS, 인공지능 기초 등  \n",
      "- 동아리나 스터디 활동 경험 (있다면 구체적으로 기술)  \n",
      "  \n",
      "포부  \n",
      "앞으로 웹 개발 분야에서 실무 경험을 쌓으며, 인공지능과 자연어처리 기술을 접목한 혁신적인 서비스 개발에 기여하고 싶습니다. 지속적인 학습과 도전을 통해 성장하는 개발자가 되겠습니다.  \n",
      "  \n",
      "감사합니다."
     ]
    }
   ],
   "source": [
    "ai_message = chain.invoke({\n",
    "    'name': '박보검',\n",
    "    'experience': '웹 개발 신입',\n",
    "    'skills': 'Python, HTML, CSS, LLM'\n",
    "})"
   ]
  },
  {
   "cell_type": "code",
   "execution_count": null,
   "id": "53c70d7a",
   "metadata": {},
   "outputs": [
    {
     "name": "stdout",
     "output_type": "stream",
     "text": [
      "이력서\n",
      "\n",
      "이름: 이미자  \n",
      "연락처: [휴대폰 번호] | [이메일 주소]  \n",
      "주소: [주소]  \n",
      "\n",
      "개인 소개  \n",
      "웹 개발 분야에서 20년간의 풍부한 경험을 보유한 개발자입니다. 최신 기술 트렌드에 민감하게 반응하며, Python, HTML, CSS를 활용한 다양한 프로젝트를 성공적으로 수행해 왔습니다. 특히 최근에는 인공 지능과 언어 모델(LLM)을 접목한 혁신적인 솔루션 개발에 관심을 가지고 있으며, 이를 통해 고객의 비즈니스 가치를 높이고자 노력하고 있습니다. 문제 해결 능력과 창의적인 아이디어를 바탕으로 팀과 협업하여 최적의 결과를 이끌어내는 것을 강점으로 생각합니다.\n",
      "\n",
      "경력 사항  \n",
      "[현재 또는 마지막 근무처]  \n",
      "- 직책: 웹 개발자 / 프로젝트 리더  \n",
      "- 기간: [시작 연도] – 현재  \n",
      "- 주요 업무 및 성과:  \n",
      "  - Python, HTML, CSS를 활용한 사용자 친화적인 웹 애플리케이션 개발  \n",
      "  - 기존 시스템의 유지보수 및 성능 개선  \n",
      "  - 인공지능과 언어 모델(LLM)을 접목한 고객 맞춤형 솔루션 도입 및 최적화  \n",
      "  - 크로스 플랫폼 웹 프로젝트 기획 및 실행, 팀 협업 주도  \n",
      "\n",
      "[이전 근무처]  \n",
      "- 직책: 웹 개발자  \n",
      "- 기간: [시작 연도] – [ 종료 연도 ]  \n",
      "- 주요 업무:  \n",
      "  - 사용자 인터페이스(UI) 설계 및 개발  \n",
      "  - 웹 표준 및 접근성 준수  \n",
      "  - 다양한 웹 서비스와 API 연동 작업 수행  \n",
      "\n",
      "보유 기술 및 역량  \n",
      "- 프로그래밍 언어: Python (초중급 이상)  \n",
      "- 프론트엔드: HTML, CSS  \n",
      "- 인공지능: 언어 모델(LLM)을 활용한 텍스트 분석 및 자동화 솔루션 개발  \n",
      "- 기타: Git, REST API, 데이터베이스 연동 경험  \n",
      "\n",
      "학력  \n",
      "[대학명]  \n",
      "- 전공: [전공명]  \n",
      "- 졸업연도: [연도]  \n",
      "\n",
      "자격증 및 교육  \n",
      "- [관련 자격증 또는 교육 프로그램 명]  \n",
      "- [취득 또는 수료 연도]  \n",
      "\n",
      "지원 동기 및 포부  \n",
      "끊임없이 변화하는 웹 개발 환경 속에서, 최신 기술을 적극 도입하고 적용하는 것에 큰 관심을 가지고 있습니다. 특히 인공지능과 언어 모델 분야의 발전이 비즈니스에 미치는 영향에 주목하며, 이를 활용한 혁신적인 솔루션 개발에 열정을 가지고 있습니다. 앞으로도 제 경험과 역량을 바탕으로 기업의 디지털 전환을 선도하며 최고의 성과를 이루고자 합니다.\n",
      "\n",
      "감사합니다."
     ]
    }
   ],
   "source": [
    "ai_message_two = (prompt | llm).invoke({\n",
    "\t'name': '이미자',\n",
    "    'experience': '웹 개발 20년차',\n",
    "    'skills': 'Python, HTML, CSS, LLM'\n",
    "})"
   ]
  }
 ],
 "metadata": {
  "kernelspec": {
   "display_name": "project",
   "language": "python",
   "name": "python3"
  },
  "language_info": {
   "codemirror_mode": {
    "name": "ipython",
    "version": 3
   },
   "file_extension": ".py",
   "mimetype": "text/x-python",
   "name": "python",
   "nbconvert_exporter": "python",
   "pygments_lexer": "ipython3",
   "version": "3.10.12"
  }
 },
 "nbformat": 4,
 "nbformat_minor": 5
}
