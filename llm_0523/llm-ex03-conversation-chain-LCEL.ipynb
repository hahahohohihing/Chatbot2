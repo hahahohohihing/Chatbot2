{
 "cells": [
  {
   "cell_type": "markdown",
   "id": "cda11e08",
   "metadata": {},
   "source": [
    "# [문제]\n",
    "- 대문자 S를 입력할 때까지, 대화가 진행되도록 코드 수정"
   ]
  },
  {
   "cell_type": "code",
   "execution_count": 24,
   "id": "77448107",
   "metadata": {},
   "outputs": [
    {
     "name": "stdout",
     "output_type": "stream",
     "text": [
      "0.3.24\n"
     ]
    }
   ],
   "source": [
    "import langchain\n",
    "print(langchain.__version__)"
   ]
  },
  {
   "cell_type": "code",
   "execution_count": null,
   "id": "6664e424",
   "metadata": {},
   "outputs": [
    {
     "name": "stdout",
     "output_type": "stream",
     "text": [
      "안녕하세요! 어떤 도움을 드릴까요?"
     ]
    },
    {
     "name": "stderr",
     "output_type": "stream",
     "text": [
      "Error in RootListenersTracer.on_chain_end callback: KeyError('input')\n"
     ]
    },
    {
     "name": "stdout",
     "output_type": "stream",
     "text": [
      "\n",
      "AI 응답: 안녕하세요! 어떤 도움을 드릴까요?\n",
      "안녕하세요! 궁금하신 내용이 있으신가요? 도와드릴 수 있을까요?"
     ]
    },
    {
     "name": "stderr",
     "output_type": "stream",
     "text": [
      "Error in RootListenersTracer.on_chain_end callback: KeyError('input')\n"
     ]
    },
    {
     "name": "stdout",
     "output_type": "stream",
     "text": [
      "\n",
      "AI 응답: 안녕하세요! 궁금하신 내용이 있으신가요? 도와드릴 수 있을까요?\n"
     ]
    }
   ],
   "source": [
    "from dotenv import load_dotenv\n",
    "from langchain_openai import ChatOpenAI\n",
    "from langchain_core.prompts import ChatPromptTemplate, MessagesPlaceholder\n",
    "from langchain_core.output_parsers import StrOutputParser\n",
    "from langchain_core.chat_history import InMemoryChatMessageHistory\n",
    "from langchain_core.runnables.history import RunnableWithMessageHistory\n",
    "from langchain.callbacks.streaming_stdout import StreamingStdOutCallbackHandler\n",
    "\n",
    "# 1. .env에서 API 키 로드\n",
    "load_dotenv()\n",
    "\n",
    "# 2. 프롬프트 템플릿 정의\n",
    "prompt = ChatPromptTemplate.from_messages([\n",
    "    ('system', '당신은 아래 문서를 참고해 질문에 답변하는 친절한 문서 컨설턴트입니다.'),\n",
    "    MessagesPlaceholder(variable_name=\"history\"),\n",
    "    ('user', '{query}')\n",
    "])\n",
    "\n",
    "# 3. 대화 히스토리 메모리 설정\n",
    "history = InMemoryChatMessageHistory()\n",
    "def get_history():\n",
    "    return history\n",
    "\n",
    "# 4. LLM 체인 구성 (프롬프트 포함)\n",
    "llm_chain = prompt | ChatOpenAI(\n",
    "    model=\"gpt-3.5-turbo\",  # 필요 시 gpt-3.5-turbo 또는 gpt-4로 변경\n",
    "    streaming=True,\n",
    "    callbacks=[StreamingStdOutCallbackHandler()]\n",
    ") | StrOutputParser()\n",
    "\n",
    "# 5. 히스토리 포함 체인 감싸기\n",
    "wrapped_chain = RunnableWithMessageHistory(\n",
    "    llm_chain,\n",
    "    get_history,\n",
    "    history_messages_key=\"history\"\n",
    ")\n",
    "\n",
    "# 6. 사용자 입력 반복 루프\n",
    "while True:\n",
    "    query = input(\"질문을 입력하세요 (종료하려면 S): \")\n",
    "    if query.upper() == 'S':\n",
    "        print(\"대화를 종료합니다.\")\n",
    "        break\n",
    "\n",
    "    response = wrapped_chain.invoke({'query': query})\n",
    "    print(\"\\nAI 응답:\", response)\n"
   ]
  },
  {
   "cell_type": "code",
   "execution_count": null,
   "id": "ee2b24f5",
   "metadata": {},
   "outputs": [
    {
     "ename": "NameError",
     "evalue": "name 'history' is not defined",
     "output_type": "error",
     "traceback": [
      "\u001b[0;31m---------------------------------------------------------------------------\u001b[0m",
      "\u001b[0;31mNameError\u001b[0m                                 Traceback (most recent call last)",
      "Cell \u001b[0;32mIn[4], line 1\u001b[0m\n\u001b[0;32m----> 1\u001b[0m \u001b[38;5;28mprint\u001b[39m(\u001b[43mhistory\u001b[49m\u001b[38;5;241m.\u001b[39mmessages)\n",
      "\u001b[0;31mNameError\u001b[0m: name 'history' is not defined"
     ]
    }
   ],
   "source": [
    "\n",
    "print(history.messages)\n",
    "\n",
    "\n"
   ]
  },
  {
   "cell_type": "code",
   "execution_count": null,
   "id": "cedd218b",
   "metadata": {},
   "outputs": [],
   "source": []
  },
  {
   "cell_type": "code",
   "execution_count": 1,
   "id": "88ae67c3",
   "metadata": {},
   "outputs": [
    {
     "name": "stdout",
     "output_type": "stream",
     "text": [
      "history\n"
     ]
    }
   ],
   "source": [
    "history"
   ]
  },
  {
   "cell_type": "code",
   "execution_count": null,
   "id": "8177c762",
   "metadata": {},
   "outputs": [],
   "source": []
  },
  {
   "cell_type": "code",
   "execution_count": 27,
   "id": "5ccbe4f6",
   "metadata": {},
   "outputs": [],
   "source": [
    "# while True:\n",
    "#     user_input = input('입력하시오 (s 입력 시 종료):')\n",
    "#     if user_input.upper() == 'S':\n",
    "#         break\n",
    "\n",
    "#     response = wrapped_chain.invoke({'input': user_input})\n",
    "#     print('AI:', response)"
   ]
  },
  {
   "cell_type": "code",
   "execution_count": 28,
   "id": "e9145013",
   "metadata": {},
   "outputs": [
    {
     "data": {
      "text/plain": [
       "InMemoryChatMessageHistory(messages=[HumanMessage(content='진짜 어렵다어렵다', additional_kwargs={}, response_metadata={}), AIMessage(content=\"Arr matey, what seems to be troublin' ye? Tell me yer woes and I'll see if I can help ye navigate these treacherous waters.\", additional_kwargs={}, response_metadata={})])"
      ]
     },
     "execution_count": 28,
     "metadata": {},
     "output_type": "execute_result"
    }
   ],
   "source": [
    "history"
   ]
  },
  {
   "cell_type": "code",
   "execution_count": null,
   "id": "1111f208",
   "metadata": {},
   "outputs": [],
   "source": []
  },
  {
   "cell_type": "code",
   "execution_count": null,
   "id": "c872dbf8",
   "metadata": {},
   "outputs": [],
   "source": []
  },
  {
   "cell_type": "markdown",
   "id": "1eac2429",
   "metadata": {},
   "source": []
  },
  {
   "cell_type": "code",
   "execution_count": null,
   "id": "145c7469",
   "metadata": {},
   "outputs": [],
   "source": []
  }
 ],
 "metadata": {
  "kernelspec": {
   "display_name": "project",
   "language": "python",
   "name": "python3"
  },
  "language_info": {
   "codemirror_mode": {
    "name": "ipython",
    "version": 3
   },
   "file_extension": ".py",
   "mimetype": "text/x-python",
   "name": "python",
   "nbconvert_exporter": "python",
   "pygments_lexer": "ipython3",
   "version": "3.10.12"
  }
 },
 "nbformat": 4,
 "nbformat_minor": 5
}
