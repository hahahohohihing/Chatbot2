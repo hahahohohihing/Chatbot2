{
 "cells": [
  {
   "cell_type": "markdown",
   "id": "38e36662",
   "metadata": {},
   "source": [
    "# [문제]\n",
    "- CHatPromptTemplate() : 역할 부여\n",
    "- InMemoryChatMessageHistory()\n",
    "- RunnableWithMessageHistory()\n",
    "- chain 구성"
   ]
  },
  {
   "cell_type": "markdown",
   "id": "e0dbca48",
   "metadata": {},
   "source": [
    "## [문제] 기존 String PromptTemplate을 ChatPromptTemplate으로 변경\n",
    "- Chain\n",
    "- prompt template: 직접 작성\n",
    "                   문서를 참고해서, 사용자 질문에 답변"
   ]
  },
  {
   "cell_type": "code",
   "execution_count": null,
   "id": "449a8ec4",
   "metadata": {},
   "outputs": [
    {
     "data": {
      "text/plain": [
       "True"
      ]
     },
     "execution_count": 67,
     "metadata": {},
     "output_type": "execute_result"
    }
   ],
   "source": [
    "## 모듈(파일, 라이브러리) 읽어오기\n",
    "from dotenv import load_dotenv\n",
    "from langchain_openai import ChatOpenAI\n",
    "from langchain_core.prompts import ChatPromptTemplate, MessagesPlaceholder\n",
    "from langchain_core.output_parsers import StrOutputParser\n",
    "from langchain_core.chat_history import InMemoryChatMessageHistory\n",
    "from langchain_core.runnables.history import RunnableWithMessageHistory\n",
    "from langchain.callbacks.streaming_stdout import StreamingStdOutCallbackHandler\n",
    "load_dotenv()\n",
    "prompt = ChatPromptTemplate.from_messages([\n",
    "    ('system', '당신은 아래 문서를 참고해 질문에 답변하는 친절한 문서 컨설턴트입니다'),\n",
    "    MessagesPlaceholder(variable_name='chat_history'),\n",
    "    ('user', '{query}')\n",
    "])\n",
    "\n",
    "history = InMemoryChatMessageHistory()\n",
    "def get_history():\n",
    "    return history\n",
    "# 3. ChatOpenAI 인스턴스 생성\n",
    "llm_chain = prompt | ChatOpenAI(\n",
    "    model=\"gpt-3.5-turbo\",\n",
    "    streaming=True,\n",
    "    callbacks=[StreamingStdOutCallbackHandler()]\n",
    ") | StrOutputParser()\n",
    "\n",
    "wrapped_chain = RunnableWithMessageHistory(\n",
    "    llm_chain,\n",
    "    get_history,\n",
    "    history_messages_key='chat_history'\n",
    ")\n",
    "\n",
    "query = input('질문을 입력하세요 =')\n",
    "response = wrapped_chain.invoke({'query': query})\n",
    "print('AI 응답', response)\n",
    "print(history)"
   ]
  },
  {
   "cell_type": "code",
   "execution_count": null,
   "id": "1f68b53e",
   "metadata": {},
   "outputs": [],
   "source": []
  },
  {
   "cell_type": "code",
   "execution_count": null,
   "id": "00fbf0ec",
   "metadata": {},
   "outputs": [],
   "source": []
  },
  {
   "cell_type": "code",
   "execution_count": null,
   "id": "02eda0a8",
   "metadata": {},
   "outputs": [],
   "source": []
  },
  {
   "cell_type": "code",
   "execution_count": null,
   "id": "24462f46",
   "metadata": {},
   "outputs": [],
   "source": []
  },
  {
   "cell_type": "code",
   "execution_count": null,
   "id": "125c3c9b",
   "metadata": {},
   "outputs": [],
   "source": []
  },
  {
   "cell_type": "code",
   "execution_count": null,
   "id": "2a1d6652",
   "metadata": {},
   "outputs": [],
   "source": []
  },
  {
   "cell_type": "code",
   "execution_count": null,
   "id": "1ac8cd95",
   "metadata": {},
   "outputs": [],
   "source": []
  },
  {
   "cell_type": "code",
   "execution_count": null,
   "id": "a34eef3f",
   "metadata": {},
   "outputs": [],
   "source": []
  },
  {
   "cell_type": "code",
   "execution_count": null,
   "id": "f36744ab",
   "metadata": {},
   "outputs": [],
   "source": []
  },
  {
   "cell_type": "code",
   "execution_count": null,
   "id": "8fccc710",
   "metadata": {},
   "outputs": [],
   "source": []
  },
  {
   "cell_type": "code",
   "execution_count": null,
   "id": "8bff877e",
   "metadata": {},
   "outputs": [],
   "source": []
  },
  {
   "cell_type": "code",
   "execution_count": null,
   "id": "9a2e5589",
   "metadata": {},
   "outputs": [],
   "source": []
  },
  {
   "cell_type": "code",
   "execution_count": null,
   "id": "26d7075d",
   "metadata": {},
   "outputs": [],
   "source": []
  },
  {
   "cell_type": "code",
   "execution_count": null,
   "id": "5f1cb98f",
   "metadata": {},
   "outputs": [],
   "source": []
  },
  {
   "cell_type": "code",
   "execution_count": null,
   "id": "58d875f5",
   "metadata": {},
   "outputs": [],
   "source": []
  },
  {
   "cell_type": "code",
   "execution_count": 70,
   "id": "fce704ea",
   "metadata": {},
   "outputs": [],
   "source": [
    "# ## 4. 파일 읽기\n",
    "# file_name = '남녀고용평등과 일ㆍ가정 양립 지원에 관한 법률(법률)(제20521호)(20250223).txt'\n",
    "# with open(file_name, 'r', encoding='utf-8') as file:\n",
    "#     law = file.read()\n",
    "#     print(law)"
   ]
  },
  {
   "cell_type": "code",
   "execution_count": 71,
   "id": "9842140a",
   "metadata": {},
   "outputs": [],
   "source": [
    "# from langchain_core.prompts import ChatPromptTemplate\n",
    "\n",
    "# template = '''\n",
    "# 아래 문서를 참고하여, 사용자 질문에 답변합니다.\n",
    "# 답변은 문서 내용을 기반으로 하되, 해당 조항도 표시합니다.\n",
    "\n",
    "# - 문서: {law}\n",
    "# - 질문: {query}\n",
    "# '''\n",
    "\n",
    "# prompt = ChatPromptTemplate.from_template(template=template)\n",
    "# prompt"
   ]
  },
  {
   "cell_type": "code",
   "execution_count": 72,
   "id": "7550d258",
   "metadata": {},
   "outputs": [],
   "source": [
    "# from langchain_core.prompts import ChatPromptTemplate, PromptTemplate\n",
    "\n",
    "# template = [\n",
    "#     ('system', '''당신은 육아휴직 법률 전문가입니다.\n",
    "#      아래 문서를 참고하여, 사용자 질문에 성실하게 답변합니다.\n",
    "#      답변은 문서 내용을 기반으로 하되, 해당 조항도 표시합니다.\n",
    "#      - 문서: {law}'''),\n",
    "#     ('user', '{query}')\n",
    "# ]\n",
    "\n",
    "# # prompt = PromptTemplate.from_template(template=template)\n",
    "# prompt = ChatPromptTemplate.from_messages(template)\n",
    "# prompt"
   ]
  },
  {
   "cell_type": "code",
   "execution_count": 73,
   "id": "a081c46c",
   "metadata": {},
   "outputs": [],
   "source": [
    "# query = input('육아휴직과 관련된 질문하세요 >> ')\n",
    "# query"
   ]
  },
  {
   "cell_type": "code",
   "execution_count": null,
   "id": "1a2af531",
   "metadata": {},
   "outputs": [],
   "source": []
  },
  {
   "cell_type": "code",
   "execution_count": 74,
   "id": "93ac240c",
   "metadata": {},
   "outputs": [],
   "source": [
    "# ai_message = (prompt | llm).invoke({'law': law, 'query': query})"
   ]
  }
 ],
 "metadata": {
  "kernelspec": {
   "display_name": "project",
   "language": "python",
   "name": "python3"
  },
  "language_info": {
   "codemirror_mode": {
    "name": "ipython",
    "version": 3
   },
   "file_extension": ".py",
   "mimetype": "text/x-python",
   "name": "python",
   "nbconvert_exporter": "python",
   "pygments_lexer": "ipython3",
   "version": "3.10.12"
  }
 },
 "nbformat": 4,
 "nbformat_minor": 5
}
