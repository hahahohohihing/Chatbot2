{
 "cells": [
  {
   "cell_type": "markdown",
   "id": "6c02435e",
   "metadata": {},
   "source": [
    "# [문제]\n",
    "- 대화를 지속할 수 있도록 코드 구현\n",
    "- 대화는 대문자 S를 입력하면 종료"
   ]
  },
  {
   "cell_type": "code",
   "execution_count": 6,
   "id": "e002d1c7",
   "metadata": {},
   "outputs": [
    {
     "data": {
      "text/plain": [
       "True"
      ]
     },
     "execution_count": 6,
     "metadata": {},
     "output_type": "execute_result"
    }
   ],
   "source": [
    "from langchain_core.chat_history import InMemoryChatMessageHistory\n",
    "from langchain_core.output_parsers import StrOutputParser\n",
    "from langchain_core.prompts import ChatPromptTemplate\n",
    "from langchain_core.runnables.history import RunnableWithMessageHistory\n",
    "from langchain_core.chat_history import BaseChatMessageHistory\n",
    "from langchain.callbacks.streaming_stdout import StreamingStdOutCallbackHandler\n",
    "\n",
    "\n",
    "from langchain_openai import ChatOpenAI\n",
    "from dotenv import load_dotenv\n",
    "\n",
    "load_dotenv()"
   ]
  },
  {
   "cell_type": "code",
   "execution_count": 7,
   "id": "33b0408c",
   "metadata": {},
   "outputs": [],
   "source": [
    "\n",
    "llm = ChatOpenAI(\n",
    "    model='gpt-4.1-nano',\n",
    "    streaming=True,\n",
    "    callbacks=[StreamingStdOutCallbackHandler()],\n",
    "    max_completion_tokens=150,\n",
    ")\n",
    "\n",
    "messages = [\n",
    "    ('system', '''당신은 이력서 작성 컨설턴트입니다.\n",
    "아래 정보를 바탕으로 지원자 입장에서 2000자 이내로 이력서를 작성합니다.\n",
    "문장은 자연스럽고 매끄럽게 작성합니다.'''),\n",
    "\t('placeholder', '{chat_history}'),\n",
    "\t('user', '{query}')\n",
    "]\n",
    "\n",
    "prompt = ChatPromptTemplate.from_messages(messages=messages)\n",
    "\n",
    "store = {}\n",
    "\n",
    "history = InMemoryChatMessageHistory()\n",
    "\n",
    "def get_history(session_id: str) -> BaseChatMessageHistory:\n",
    "    if session_id not in store:\n",
    "        store[session_id] = InMemoryChatMessageHistory()\n",
    "    return history\n",
    "\n",
    "chain = prompt | llm \n",
    "\n",
    "with_message_history = RunnableWithMessageHistory(\n",
    "    chain,\n",
    "    get_history,\n",
    "    input_messages_key='query',\n",
    "    history_messages_key='chat_history'\n",
    ")\n"
   ]
  },
  {
   "cell_type": "code",
   "execution_count": null,
   "id": "e32f2055",
   "metadata": {},
   "outputs": [],
   "source": []
  },
  {
   "cell_type": "code",
   "execution_count": 11,
   "id": "cfca6627",
   "metadata": {},
   "outputs": [
    {
     "name": "stdout",
     "output_type": "stream",
     "text": [
      "물론입니다! 이력서 작성을 위해 지원자의 경력, 학력, 기술, 자격증 등 구체적인 정보를 제공해 주시면 더욱 맞춤화된 이력서를 작성하는 데 도움이 됩니다. 아래와 같이 기본 정보를 공유해 주세요.\n",
      "\n",
      "1. 이름 및 연락처\n",
      "2. 지원하는 직무 및 목표\n",
      "3. 학력 (대학명, 전공, 졸업 연도 등)\n",
      "4. 경력 사항 (회사명, 직위, 담당 업무, 근무 기간)\n",
      "5. 주요 성과 또는 프로젝트\n",
      "6. 기술 및 자격증\n",
      "7. 기타 활동 또는 수상경력\n",
      "8. 자기소개서에 반영하고 싶은 핵심 메시지\n",
      "\n",
      "이력서 작성을 위해 필요한 구체적인 정보나 내용을 제공해 주시면, 자연스럽고 매끄럽게 구성된 이력서를 작성해 드리겠습니다. 예를 들어, 지원자의 이름, 희망 직무, 학력, 경력, 기술 및 자격증 등을 알려주시면 됩니다. 상세 정보를 공유해 주세요!"
     ]
    }
   ],
   "source": [
    "\n",
    "while True:\n",
    "    query = input('이력서 작성 컨설턴트입니다. 질문하세요. [종료: S] >>> ')\n",
    "\n",
    "    if query.upper() == 'S':\n",
    "        break\n",
    "\n",
    "    with_message_history.invoke(\n",
    "        {'query': 'query'},\n",
    "        config={'configurable': {'session_id': '1234'}}\n",
    "    )"
   ]
  },
  {
   "cell_type": "code",
   "execution_count": 12,
   "id": "8aefd9cf",
   "metadata": {},
   "outputs": [
    {
     "data": {
      "text/plain": [
       "InMemoryChatMessageHistory(messages=[HumanMessage(content='query', additional_kwargs={}, response_metadata={}), AIMessage(content='물론입니다! 이력서 작성을 위해 지원자의 경력, 학력, 기술, 자격증 등 구체적인 정보를 제공해 주시면 더욱 맞춤화된 이력서를 작성하는 데 도움이 됩니다. 아래와 같이 기본 정보를 공유해 주세요.\\n\\n1. 이름 및 연락처\\n2. 지원하는 직무 및 목표\\n3. 학력 (대학명, 전공, 졸업 연도 등)\\n4. 경력 사항 (회사명, 직위, 담당 업무, 근무 기간)\\n5. 주요 성과 또는 프로젝트\\n6. 기술 및 자격증\\n7. 기타 활동 또는 수상경력\\n8. 자기소개서에 반영하고 싶은 핵심 메시지\\n\\n', additional_kwargs={}, response_metadata={'finish_reason': 'length', 'model_name': 'gpt-4.1-nano-2025-04-14', 'system_fingerprint': 'fp_eede8f0d45'}, id='run-93cef07d-f318-4bfe-a0ca-06e23ef9240c-0'), HumanMessage(content='query', additional_kwargs={}, response_metadata={}), AIMessage(content='이력서 작성을 위해 필요한 구체적인 정보나 내용을 제공해 주시면, 자연스럽고 매끄럽게 구성된 이력서를 작성해 드리겠습니다. 예를 들어, 지원자의 이름, 희망 직무, 학력, 경력, 기술 및 자격증 등을 알려주시면 됩니다. 상세 정보를 공유해 주세요!', additional_kwargs={}, response_metadata={'finish_reason': 'stop', 'model_name': 'gpt-4.1-nano-2025-04-14', 'system_fingerprint': 'fp_eede8f0d45'}, id='run-60247026-d3e8-44d9-9679-7ad9099bf96b-0')])"
      ]
     },
     "execution_count": 12,
     "metadata": {},
     "output_type": "execute_result"
    }
   ],
   "source": [
    "get_history('1234')"
   ]
  },
  {
   "cell_type": "code",
   "execution_count": null,
   "id": "d8d27c0b",
   "metadata": {},
   "outputs": [],
   "source": []
  },
  {
   "cell_type": "code",
   "execution_count": 14,
   "id": "6a40bb5c",
   "metadata": {},
   "outputs": [
    {
     "name": "stdout",
     "output_type": "stream",
     "text": [
      "query\n",
      "**************************************************\n",
      "물론입니다! 이력서 작성을 위해 지원자의 경력, 학력, 기술, 자격증 등 구체적인 정보를 제공해 주시면 더욱 맞춤화된 이력서를 작성하는 데 도움이 됩니다. 아래와 같이 기본 정보를 공유해 주세요.\n",
      "\n",
      "1. 이름 및 연락처\n",
      "2. 지원하는 직무 및 목표\n",
      "3. 학력 (대학명, 전공, 졸업 연도 등)\n",
      "4. 경력 사항 (회사명, 직위, 담당 업무, 근무 기간)\n",
      "5. 주요 성과 또는 프로젝트\n",
      "6. 기술 및 자격증\n",
      "7. 기타 활동 또는 수상경력\n",
      "8. 자기소개서에 반영하고 싶은 핵심 메시지\n",
      "\n",
      "\n",
      "**************************************************\n",
      "query\n",
      "**************************************************\n",
      "이력서 작성을 위해 필요한 구체적인 정보나 내용을 제공해 주시면, 자연스럽고 매끄럽게 구성된 이력서를 작성해 드리겠습니다. 예를 들어, 지원자의 이름, 희망 직무, 학력, 경력, 기술 및 자격증 등을 알려주시면 됩니다. 상세 정보를 공유해 주세요!\n",
      "**************************************************\n"
     ]
    }
   ],
   "source": [
    "for info in get_history('1234').messages:\n",
    "    print(info.content)\n",
    "    print('*' * 50)"
   ]
  },
  {
   "cell_type": "code",
   "execution_count": null,
   "id": "1513afbd",
   "metadata": {},
   "outputs": [],
   "source": []
  }
 ],
 "metadata": {
  "kernelspec": {
   "display_name": "project",
   "language": "python",
   "name": "python3"
  },
  "language_info": {
   "codemirror_mode": {
    "name": "ipython",
    "version": 3
   },
   "file_extension": ".py",
   "mimetype": "text/x-python",
   "name": "python",
   "nbconvert_exporter": "python",
   "pygments_lexer": "ipython3",
   "version": "3.10.12"
  }
 },
 "nbformat": 4,
 "nbformat_minor": 5
}
