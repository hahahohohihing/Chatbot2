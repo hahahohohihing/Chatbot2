{
 "cells": [
  {
   "cell_type": "markdown",
   "id": "6c02435e",
   "metadata": {},
   "source": [
    "# [문제]\n",
    "- 대화를 지속할 수 있도록 코드 구현\n",
    "- 대화는 대문자 S를 입력하면 종료"
   ]
  },
  {
   "cell_type": "code",
   "execution_count": null,
   "id": "e002d1c7",
   "metadata": {},
   "outputs": [
    {
     "data": {
      "text/plain": [
       "True"
      ]
     },
     "execution_count": 2,
     "metadata": {},
     "output_type": "execute_result"
    }
   ],
   "source": [
    "from langchain_core.chat_history import InMemoryChatMessageHistory\n",
    "from langchain_core.output_parsers import StrOutputParser\n",
    "from langchain_core.prompts import ChatPromptTemplate\n",
    "from langchain_core.runnables.history import RunnableWithMessageHistory\n",
    "from langchain_core.chat_history import BaseChatMessageHistory\n",
    "\n",
    "from langchain_openai import ChatOpenAI\n",
    "from dotenv import load_dotenv\n",
    "\n",
    "load_dotenv()\n"
   ]
  },
  {
   "cell_type": "code",
   "execution_count": null,
   "id": "9714e5b0",
   "metadata": {},
   "outputs": [],
   "source": [
    "prompt = ChatPromptTemplate.from_messages(\n",
    "    [\n",
    "        ('system', '''당신은 이력서 작성 컨설턴트입니다.\n",
    "        아래 정보를 바탕으로 지원자 입장에서 2000자 이내로 이력서를 작성합니다'''),\n",
    "        ('placeholder', '{chat_history}'),\n",
    "        ('human', '{input}'),\n",
    "    ]\n",
    ")"
   ]
  },
  {
   "cell_type": "code",
   "execution_count": 16,
   "id": "d35a31c4",
   "metadata": {},
   "outputs": [
    {
     "data": {
      "text/plain": [
       "dict"
      ]
     },
     "execution_count": 16,
     "metadata": {},
     "output_type": "execute_result"
    }
   ],
   "source": [
    "store = {}\n",
    "type(store)"
   ]
  },
  {
   "cell_type": "code",
   "execution_count": 46,
   "id": "a2924da4",
   "metadata": {},
   "outputs": [
    {
     "data": {
      "text/plain": [
       "'## 이력서\\n\\n---\\n\\n**이름:** 박보검  \\n**나이:** 35세  \\n**연락처:** 010-1234-5678  \\n**이메일:** bogum@gmail.com  \\n\\n---\\n\\n### 경력 요약\\n안녕하세요, 박보검입니다. 10년간 프리랜서로 다양한 분야의 프로젝트를 수행하며 실력을 키워왔습니다. 업무에 책임감을 가지고 항상 성실히 임무를 수행하는 것을 중요시하며, 팀원들과의 협력을 통해 더 나은 결과물을 만들어냈습니다.\\n\\n### 핵심 역량\\n- **프로젝트 관리:** 다양한 분야의 프로젝트를 성공적으로 관리하고 완료한 경험이 있습니다.\\n- **커뮤니케이션:** 원활한 커뮤니케이션을 통해 팀원들과 협업하며 목표를 달성하는 능력을 보유하고 있습니다.\\n- **문제해결 능력:** 예상치 못한 문제에 빠르게 대응하며 최적의 해결책을 도출하는 경험이 있습니다.\\n\\n### 경력 사항\\n- **프리랜서 (2012년 - 현재)**\\n  - 웹 개발, 디자인, 마케팅 등 다양한 분야의 프로젝트 수행\\n  - 고객 요구사항을 분석하여 최적의 솔루션을 제공\\n\\n### 학력\\n- **컴퓨터공학 학사학위** (한국 대학교)\\n\\n### 보유 기술\\n- 웹 개발: HTML, CSS, JavaScript, PHP\\n- 디자인: Adobe Photoshop, Illustrator 활용 가능\\n- 마케팅: SNS 마케팅 전략 수립 및 실행\\n\\n---\\n\\n제 경력과 능력을 통해 조직의 목표 달성에 기여하고 싶습니다. 새로운 도전을 통해 성장하고 발전하는 것을 즐기며, 협업을 통해 더 나은 결과를 만들어내는 것을 중요시합니다. 언제든지 연락 주시면 자세히 이야기 나눌 기회를 주셨으면 합니다. 감사합니다.'"
      ]
     },
     "execution_count": 46,
     "metadata": {},
     "output_type": "execute_result"
    }
   ],
   "source": [
    "def get_sesstion_history(session_id: str) -> BaseChatMessageHistory:\n",
    "    if session_id not in store:\n",
    "        store[session_id] = InMemoryChatMessageHistory()\n",
    "    return store[session_id]\n",
    "\n",
    "chain = prompt | ChatOpenAI() | StrOutputParser()\n",
    "\n",
    "wrapped_chain = RunnableWithMessageHistory(\n",
    "    chain,\n",
    "    get_sesstion_history,\n",
    "    history_messages_key='chat_history',\n",
    ")\n",
    "wrapped_chain.invoke(\n",
    "    {'input': '내 이름은 박보검이고 나이는 35살 경력은 프리랜서 10년이야'},\n",
    "    config={'configurable': {'session_id': 'jbc177'}}\n",
    ")"
   ]
  },
  {
   "cell_type": "code",
   "execution_count": 45,
   "id": "1e914c7a",
   "metadata": {},
   "outputs": [
    {
     "name": "stdout",
     "output_type": "stream",
     "text": [
      "내 이름은 박보검이고 나이는 35살 경력은 프리랜서 10년이야\n",
      "**************************************************\n",
      "## 이력서\n",
      "\n",
      "---\n",
      "\n",
      "**이름:** 박보검  \n",
      "**나이:** 35세  \n",
      "**연락처:** 010-1234-5678  \n",
      "**이메일:** bogum@gmail.com  \n",
      "\n",
      "---\n",
      "\n",
      "### 경력 요약\n",
      "프리랜서로 10년간 다양한 프로젝트에 참여하면서 다재다능한 능력을 키웠습니다. \n",
      "\n",
      "### 핵심 역량\n",
      "- **프로젝트 관리:** 다양한 프로젝트를 성공적으로 관리하고 완료한 경험이 있습니다.\n",
      "- **소통능력:** 팀원들과의 원활한 커뮤니케이션을 통해 업무 효율을 높였습니다.\n",
      "- **문제해결능력:** 예상치 못한 문제에 대처하며 빠르고 효과적으로 해결하는 능력을 보유하고 있습니다.\n",
      "\n",
      "### 경력 사항\n",
      "- **프리랜서 (2012년 - 현재)**\n",
      "  - 다수의 프로젝트에 참여하며 웹 개발, 마케팅, 콘텐츠 제작 등 다양한 업무 수행\n",
      "  - 고객 요구사항 분석 및 프로젝트 일정 관리\n",
      "\n",
      "### 학력\n",
      "- **컴퓨터공학과 학사학위** (한국 대학교)\n",
      "\n",
      "### 보유 기술\n",
      "- 웹 개발 (HTML, CSS, JavaScript)\n",
      "- 프로젝트 관리 도구 활용능력 (Jira, Trello 등)\n",
      "- 마케팅 전략 수립 및 실행\n",
      "\n",
      "---\n",
      "\n",
      "저는 책임감 있고 능동적으로 일을 처리하는 것을 중요하게 생각하며 항상 새로운 도전을 즐기는 사람입니다. 다양한 경험을 통해 축적된 능력을 바탕으로 경력을 더욱 확장하고 싶습니다. 혹시 이력서에 대한 더 자세한 내용이 필요하시면 언제든지 연락 주시기 바랍니다. 감사합니다.\n",
      "**************************************************\n"
     ]
    }
   ],
   "source": [
    "content = get_sesstion_history('jbc177')\n",
    "for info in content.messages:\n",
    "    print(info.content)\n",
    "    print('*' * 50)"
   ]
  },
  {
   "cell_type": "code",
   "execution_count": null,
   "id": "33b0408c",
   "metadata": {},
   "outputs": [],
   "source": [
    "\n",
    "# llm = ChatOpenAI(\n",
    "#     model='gpt-4.1-nano',\n",
    "#     streaming=True,\n",
    "#     callbacks=[StreamingStdOutCallbackHandler()],\n",
    "#     max_completion_tokens=150,\n",
    "# )\n",
    "\n",
    "# messages = [\n",
    "#     ('system', '''당신은 이력서 작성 컨설턴트입니다.\n",
    "# 아래 정보를 바탕으로 지원자 입장에서 2000자 이내로 이력서를 작성합니다.\n",
    "# 문장은 자연스럽고 매끄럽게 작성합니다.'''),\n",
    "# \t('placeholder', '{chat_history}'),\n",
    "# \t('user', '{query}')\n",
    "# ]\n",
    "\n",
    "# prompt = ChatPromptTemplate.from_messages(messages=messages)\n",
    "\n",
    "# history = InMemoryChatMessageHistory()\n",
    "\n",
    "# def get_history():\n",
    "#     return history\n",
    "\n",
    "# chain = prompt | llm\n",
    "\n",
    "# with_message_history = RunnableWithMessageHistory(\n",
    "#     chain,\n",
    "#     get_history,\n",
    "#     input_messages_key='query',\n",
    "#     history_messages_key='chat_history'\n",
    "# )\n"
   ]
  },
  {
   "cell_type": "code",
   "execution_count": null,
   "id": "cfca6627",
   "metadata": {},
   "outputs": [
    {
     "name": "stdout",
     "output_type": "stream",
     "text": [
      "이력서 작성은 지원자의 경력과 역량을 명확하고 효과적으로 보여주는 중요한 과정입니다. 이를 위해 먼저 다음과 같은 단계를 거치는 것이 좋습니다:\n",
      "\n",
      "1. **목적과 목표 설정:** 어떤 포지션에 지원하는지, 그리고 해당 직무에 어떤 역량을 강조하고 싶은지 명확히 정하세요. 이를 바탕으로 이력서의 방향성을 잡을 수 있습니다.\n",
      "\n",
      "2. **개인 정보 정리:** 성명, 연락처(전화번호, 이메일), 주소 등을 포함하세요. 최신 정보를 기재하는 것이 중요합니다.\n",
      "\n",
      "3. **경력 및 학력 정리:** 가장 최근의 경력부터 역순으로 정리하고, 관련 학이력서 작성을 위해 알려주시면 좋은 핵심 정보들은 다음과 같습니다:\n",
      "\n",
      "1. **개인 정보:** 성명, 연락처(전화번호, 이메일), 주소(선택 사항)\n",
      "2. **목표 또는 직무 목표:** 지원하는 포지션 또는 희망하는 역할\n",
      "3. **학력 사항:** 학교명, 전공, 졸업 기간 또는 재학 기간\n",
      "4. **경력 사항:** 회사명, 직책, 재직 기간, 담당 업무 및 성과\n",
      "5. **기술 및 역량:** 컴퓨터 프로그램, 언어 능력, 자격증 등\n",
      "6. **수상 및 인증:** 관련 수상경력이나 자격증 정보\n",
      "아래는 지원자 박보검 님의 정보를 바탕으로 작성한 2000자 이력서 예시입니다. 자연스럽고 매끄럽게 기술하였으며, 신입 웹 개발자로서의 강점과 역량을 부각하였습니다.\n",
      "\n",
      "---\n",
      "\n",
      "**박보검 | Web Developer (신입)**  \n",
      "이메일: parkbogeum@example.com | 연락처: 010-1234-5678 | 주소: 서울특별시 강남구\n",
      "\n",
      "---\n",
      "\n",
      "### 목표  \n",
      "웹 개발 분야에서 열정과 끈기를 바탕으로 성장하고 싶은 신입 개발자입니다. Python, HTML, CSS, LLM 활용 역량을 바탕으로 사용자 친화적이며 효당신의 이름은 박보검입니다."
     ]
    }
   ],
   "source": [
    "\n",
    "# while True:\n",
    "#     query = input('이력서 작성 컨설턴트입니다. 질문하세요. [종료: S] >>> ')\n",
    "\n",
    "#     if query.upper() == 'S':\n",
    "#         break\n",
    "\n",
    "#     with_message_history.invoke({\n",
    "#         'query': query\n",
    "#     })"
   ]
  },
  {
   "cell_type": "code",
   "execution_count": 9,
   "id": "6a40bb5c",
   "metadata": {},
   "outputs": [
    {
     "name": "stdout",
     "output_type": "stream",
     "text": [
      "이력서 작성하려면, 무엇부터 시작해야 하나요?\n",
      "**************************************************\n",
      "이력서 작성은 지원자의 경력과 역량을 명확하고 효과적으로 보여주는 중요한 과정입니다. 이를 위해 먼저 다음과 같은 단계를 거치는 것이 좋습니다:\n",
      "\n",
      "1. **목적과 목표 설정:** 어떤 포지션에 지원하는지, 그리고 해당 직무에 어떤 역량을 강조하고 싶은지 명확히 정하세요. 이를 바탕으로 이력서의 방향성을 잡을 수 있습니다.\n",
      "\n",
      "2. **개인 정보 정리:** 성명, 연락처(전화번호, 이메일), 주소 등을 포함하세요. 최신 정보를 기재하는 것이 중요합니다.\n",
      "\n",
      "3. **경력 및 학력 정리:** 가장 최근의 경력부터 역순으로 정리하고, 관련 학\n",
      "**************************************************\n",
      "제가 어떤 정보를 알려드리면 되나요?\n",
      "**************************************************\n",
      "이력서 작성을 위해 알려주시면 좋은 핵심 정보들은 다음과 같습니다:\n",
      "\n",
      "1. **개인 정보:** 성명, 연락처(전화번호, 이메일), 주소(선택 사항)\n",
      "2. **목표 또는 직무 목표:** 지원하는 포지션 또는 희망하는 역할\n",
      "3. **학력 사항:** 학교명, 전공, 졸업 기간 또는 재학 기간\n",
      "4. **경력 사항:** 회사명, 직책, 재직 기간, 담당 업무 및 성과\n",
      "5. **기술 및 역량:** 컴퓨터 프로그램, 언어 능력, 자격증 등\n",
      "6. **수상 및 인증:** 관련 수상경력이나 자격증 정보\n",
      "\n",
      "**************************************************\n",
      "이름: 박보검, 지원 분야: 웹 개발 신입, 사용 언어: Python, HTML, CSS, LLM\n",
      "**************************************************\n",
      "아래는 지원자 박보검 님의 정보를 바탕으로 작성한 2000자 이력서 예시입니다. 자연스럽고 매끄럽게 기술하였으며, 신입 웹 개발자로서의 강점과 역량을 부각하였습니다.\n",
      "\n",
      "---\n",
      "\n",
      "**박보검 | Web Developer (신입)**  \n",
      "이메일: parkbogeum@example.com | 연락처: 010-1234-5678 | 주소: 서울특별시 강남구\n",
      "\n",
      "---\n",
      "\n",
      "### 목표  \n",
      "웹 개발 분야에서 열정과 끈기를 바탕으로 성장하고 싶은 신입 개발자입니다. Python, HTML, CSS, LLM 활용 역량을 바탕으로 사용자 친화적이며 효\n",
      "**************************************************\n",
      "제 이름이 뭔가요?\n",
      "**************************************************\n",
      "당신의 이름은 박보검입니다.\n",
      "**************************************************\n"
     ]
    }
   ],
   "source": [
    "for info in history.messages:\n",
    "    print(info.content)\n",
    "    print('*' * 50)"
   ]
  }
 ],
 "metadata": {
  "kernelspec": {
   "display_name": "project",
   "language": "python",
   "name": "python3"
  },
  "language_info": {
   "codemirror_mode": {
    "name": "ipython",
    "version": 3
   },
   "file_extension": ".py",
   "mimetype": "text/x-python",
   "name": "python",
   "nbconvert_exporter": "python",
   "pygments_lexer": "ipython3",
   "version": "3.10.12"
  }
 },
 "nbformat": 4,
 "nbformat_minor": 5
}
