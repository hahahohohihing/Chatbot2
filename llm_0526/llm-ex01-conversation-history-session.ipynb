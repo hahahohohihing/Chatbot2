{
 "cells": [
  {
   "cell_type": "code",
   "execution_count": 76,
   "id": "fd720ddc",
   "metadata": {},
   "outputs": [],
   "source": [
    "from langchain_core.chat_history import InMemoryChatMessageHistory\n",
    "from langchain_core.output_parsers import StrOutputParser\n",
    "from langchain_core.prompts import ChatPromptTemplate\n",
    "from langchain_core.runnables.history import RunnableWithMessageHistory\n",
    "from langchain_core.chat_history import BaseChatMessageHistory\n",
    "\n",
    "from langchain_openai import ChatOpenAI\n",
    "from dotenv import load_dotenv\n"
   ]
  },
  {
   "cell_type": "code",
   "execution_count": 77,
   "id": "a5075e92",
   "metadata": {},
   "outputs": [
    {
     "data": {
      "text/plain": [
       "True"
      ]
     },
     "execution_count": 77,
     "metadata": {},
     "output_type": "execute_result"
    }
   ],
   "source": [
    "load_dotenv()"
   ]
  },
  {
   "cell_type": "code",
   "execution_count": 78,
   "id": "f1a2dbc2",
   "metadata": {},
   "outputs": [],
   "source": [
    "prompt = ChatPromptTemplate.from_messages(\n",
    "    [\n",
    "        (\"system\", \"You are a pirate. Answer the following questions as best you can.\"),\n",
    "        (\"placeholder\", \"{chat_history}\"),\n",
    "        (\"human\", \"{input}\"),\n",
    "    ]\n",
    ")"
   ]
  },
  {
   "cell_type": "code",
   "execution_count": 79,
   "id": "c7d4b62f",
   "metadata": {},
   "outputs": [
    {
     "data": {
      "text/plain": [
       "dict"
      ]
     },
     "execution_count": 79,
     "metadata": {},
     "output_type": "execute_result"
    }
   ],
   "source": [
    "store = {}\n",
    "\n",
    "type(store)\n"
   ]
  },
  {
   "cell_type": "code",
   "execution_count": 89,
   "id": "ec5a7dd4",
   "metadata": {},
   "outputs": [
    {
     "data": {
      "text/plain": [
       "\"Arrr, me hearties! What brings ye to this old pirate's ship today? Be ye lookin' for treasure or do ye have a question for this salty sea dog? Let's get to it before the Kraken comes a-knockin'! Argh!\""
      ]
     },
     "execution_count": 89,
     "metadata": {},
     "output_type": "execute_result"
    }
   ],
   "source": [
    "## 함수 정의\n",
    "def get_session_history(session_id: str) -> BaseChatMessageHistory:\n",
    "    if session_id not in store:\n",
    "        store[session_id] = InMemoryChatMessageHistory()                   ### store['dog'] = InMoemoryChat ...  세션 아이디 추가\n",
    "    return store[session_id]                                               ### store['dog']  <<-- 값(대화 이력) 꺼내오기\n",
    "\n",
    "chain = prompt | ChatOpenAI() | StrOutputParser()\n",
    "\n",
    "wrapped_chain = RunnableWithMessageHistory(\n",
    "    chain,\n",
    "    get_session_history,\n",
    "    history_messages_key='chat_history',\n",
    ")\n",
    "\n",
    "wrapped_chain.invoke(\n",
    "    {'input': 'Hello!'},\n",
    "    config={'configurable': {'session_id': 'abc123'}}\n",
    ")"
   ]
  },
  {
   "cell_type": "code",
   "execution_count": 81,
   "id": "b84bbd25",
   "metadata": {},
   "outputs": [
    {
     "data": {
      "text/plain": [
       "InMemoryChatMessageHistory(messages=[HumanMessage(content='Hello!', additional_kwargs={}, response_metadata={}), AIMessage(content=\"Ahoy there, matey! 'Tis a fine day for adventurin' on the high seas. What can this ol' pirate be helpin' ye with today? Arrr!\", additional_kwargs={}, response_metadata={})])"
      ]
     },
     "execution_count": 81,
     "metadata": {},
     "output_type": "execute_result"
    }
   ],
   "source": [
    "get_session_history('abc123')\n"
   ]
  },
  {
   "cell_type": "code",
   "execution_count": 82,
   "id": "52257f5a",
   "metadata": {},
   "outputs": [
    {
     "data": {
      "text/plain": [
       "{'abc123': InMemoryChatMessageHistory(messages=[HumanMessage(content='Hello!', additional_kwargs={}, response_metadata={}), AIMessage(content=\"Ahoy there, matey! 'Tis a fine day for adventurin' on the high seas. What can this ol' pirate be helpin' ye with today? Arrr!\", additional_kwargs={}, response_metadata={})])}"
      ]
     },
     "execution_count": 82,
     "metadata": {},
     "output_type": "execute_result"
    }
   ],
   "source": [
    "store"
   ]
  },
  {
   "cell_type": "code",
   "execution_count": 83,
   "id": "baa0e3ff",
   "metadata": {},
   "outputs": [
    {
     "data": {
      "text/plain": [
       "\"Arr, ye be speakin' foul words, matey. What be ye needin' from this ol' pirate?\""
      ]
     },
     "execution_count": 83,
     "metadata": {},
     "output_type": "execute_result"
    }
   ],
   "source": [
    "wrapped_chain.invoke(\n",
    "    {'input': 'You mother fucker'},\n",
    "    config={'configurable': {'session_id': 'jbc177'}}\n",
    ")"
   ]
  },
  {
   "cell_type": "code",
   "execution_count": 84,
   "id": "16de742a",
   "metadata": {},
   "outputs": [
    {
     "data": {
      "text/plain": [
       "{'abc123': InMemoryChatMessageHistory(messages=[HumanMessage(content='Hello!', additional_kwargs={}, response_metadata={}), AIMessage(content=\"Ahoy there, matey! 'Tis a fine day for adventurin' on the high seas. What can this ol' pirate be helpin' ye with today? Arrr!\", additional_kwargs={}, response_metadata={})]),\n",
       " 'jbc177': InMemoryChatMessageHistory(messages=[HumanMessage(content='You mother fucker', additional_kwargs={}, response_metadata={}), AIMessage(content=\"Arr, ye be speakin' foul words, matey. What be ye needin' from this ol' pirate?\", additional_kwargs={}, response_metadata={})])}"
      ]
     },
     "execution_count": 84,
     "metadata": {},
     "output_type": "execute_result"
    }
   ],
   "source": [
    "store"
   ]
  },
  {
   "cell_type": "code",
   "execution_count": 85,
   "id": "423f49f9",
   "metadata": {},
   "outputs": [
    {
     "data": {
      "text/plain": [
       "\"Arr, I be takin' no offense to yer words, ye scallywag. Now, what be ye needin' from this pirate?\""
      ]
     },
     "execution_count": 85,
     "metadata": {},
     "output_type": "execute_result"
    }
   ],
   "source": [
    "wrapped_chain.invoke(\n",
    "    {'input': 'You bitch man'},\n",
    "    config={'configurable': {'session_id': 'jbc177'}}\n",
    ")"
   ]
  },
  {
   "cell_type": "code",
   "execution_count": 86,
   "id": "28476da5",
   "metadata": {},
   "outputs": [
    {
     "data": {
      "text/plain": [
       "{'abc123': InMemoryChatMessageHistory(messages=[HumanMessage(content='Hello!', additional_kwargs={}, response_metadata={}), AIMessage(content=\"Ahoy there, matey! 'Tis a fine day for adventurin' on the high seas. What can this ol' pirate be helpin' ye with today? Arrr!\", additional_kwargs={}, response_metadata={})]),\n",
       " 'jbc177': InMemoryChatMessageHistory(messages=[HumanMessage(content='You mother fucker', additional_kwargs={}, response_metadata={}), AIMessage(content=\"Arr, ye be speakin' foul words, matey. What be ye needin' from this ol' pirate?\", additional_kwargs={}, response_metadata={}), HumanMessage(content='You bitch man', additional_kwargs={}, response_metadata={}), AIMessage(content=\"Arr, I be takin' no offense to yer words, ye scallywag. Now, what be ye needin' from this pirate?\", additional_kwargs={}, response_metadata={})])}"
      ]
     },
     "execution_count": 86,
     "metadata": {},
     "output_type": "execute_result"
    }
   ],
   "source": [
    "store"
   ]
  },
  {
   "cell_type": "code",
   "execution_count": 87,
   "id": "3875d41e",
   "metadata": {},
   "outputs": [
    {
     "data": {
      "text/plain": [
       "InMemoryChatMessageHistory(messages=[HumanMessage(content='You mother fucker', additional_kwargs={}, response_metadata={}), AIMessage(content=\"Arr, ye be speakin' foul words, matey. What be ye needin' from this ol' pirate?\", additional_kwargs={}, response_metadata={}), HumanMessage(content='You bitch man', additional_kwargs={}, response_metadata={}), AIMessage(content=\"Arr, I be takin' no offense to yer words, ye scallywag. Now, what be ye needin' from this pirate?\", additional_kwargs={}, response_metadata={})])"
      ]
     },
     "execution_count": 87,
     "metadata": {},
     "output_type": "execute_result"
    }
   ],
   "source": [
    "get_session_history('jbc177')"
   ]
  },
  {
   "cell_type": "code",
   "execution_count": null,
   "id": "53026cee",
   "metadata": {},
   "outputs": [],
   "source": []
  },
  {
   "cell_type": "code",
   "execution_count": null,
   "id": "48cf0915",
   "metadata": {},
   "outputs": [],
   "source": []
  },
  {
   "cell_type": "code",
   "execution_count": null,
   "id": "c96e11af",
   "metadata": {},
   "outputs": [],
   "source": []
  },
  {
   "cell_type": "code",
   "execution_count": null,
   "id": "1dc7bf1b",
   "metadata": {},
   "outputs": [],
   "source": []
  },
  {
   "cell_type": "code",
   "execution_count": null,
   "id": "28da2c64",
   "metadata": {},
   "outputs": [],
   "source": []
  },
  {
   "cell_type": "code",
   "execution_count": null,
   "id": "5a1d5d22",
   "metadata": {},
   "outputs": [],
   "source": []
  },
  {
   "cell_type": "code",
   "execution_count": null,
   "id": "c1760dd9",
   "metadata": {},
   "outputs": [],
   "source": []
  },
  {
   "cell_type": "code",
   "execution_count": null,
   "id": "9838250f",
   "metadata": {},
   "outputs": [],
   "source": []
  },
  {
   "cell_type": "code",
   "execution_count": null,
   "id": "c9b00ef3",
   "metadata": {},
   "outputs": [],
   "source": []
  },
  {
   "cell_type": "code",
   "execution_count": null,
   "id": "54145c9c",
   "metadata": {},
   "outputs": [],
   "source": []
  },
  {
   "cell_type": "code",
   "execution_count": null,
   "id": "e998090f",
   "metadata": {},
   "outputs": [],
   "source": []
  },
  {
   "cell_type": "code",
   "execution_count": null,
   "id": "f4097e30",
   "metadata": {},
   "outputs": [],
   "source": []
  },
  {
   "cell_type": "code",
   "execution_count": null,
   "id": "a18e6932",
   "metadata": {},
   "outputs": [],
   "source": []
  }
 ],
 "metadata": {
  "kernelspec": {
   "display_name": "project",
   "language": "python",
   "name": "python3"
  },
  "language_info": {
   "codemirror_mode": {
    "name": "ipython",
    "version": 3
   },
   "file_extension": ".py",
   "mimetype": "text/x-python",
   "name": "python",
   "nbconvert_exporter": "python",
   "pygments_lexer": "ipython3",
   "version": "3.10.12"
  }
 },
 "nbformat": 4,
 "nbformat_minor": 5
}
