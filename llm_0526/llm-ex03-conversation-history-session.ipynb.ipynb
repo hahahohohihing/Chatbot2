{
 "cells": [
  {
   "cell_type": "markdown",
   "id": "6c02435e",
   "metadata": {},
   "source": [
    "# [문제]\n",
    "- 대화를 지속할 수 있도록 코드 구현\n",
    "- 대화는 대문자 S를 입력하면 종료"
   ]
  },
  {
   "cell_type": "code",
   "execution_count": 18,
   "id": "e002d1c7",
   "metadata": {},
   "outputs": [],
   "source": [
    "# 1. 모듈 import\n",
    "# from langchain_core.chat_history import InMemoryChatMessageHistory\n",
    "# from langchain_core.chat_history import BaseChatMessageHistory\n",
    "from langchain_core.chat_history import InMemoryChatMessageHistory, BaseChatMessageHistory\n",
    "from langchain_core.output_parsers import StrOutputParser\n",
    "from langchain_core.prompts import ChatPromptTemplate\n",
    "from langchain_core.runnables.history import RunnableWithMessageHistory\n",
    "from langchain.callbacks.streaming_stdout import StreamingStdOutCallbackHandler\n",
    "from langchain_openai import ChatOpenAI\n"
   ]
  },
  {
   "cell_type": "code",
   "execution_count": null,
   "id": "59310831",
   "metadata": {},
   "outputs": [],
   "source": [
    "\n",
    "# 2. .env 파일에서 환경변수 읽어오기\n",
    "from dotenv import load_dotenv\n",
    "load_dotenv()\n",
    "\n",
    "# 3. 세션별 대화 히스토리를 저장할 임시 메모리 저장소 (type: dict)\n",
    "store = {}\n",
    "\n",
    "# 4. 함수 정의: 세션 ID에 따라 대화 히스로토리를 반환\n",
    "def get_history(session_id: str) -> BaseChatMessageHistory:\n",
    "    if session_id not in store:\n",
    "        store[session_id] = InMemoryChatMessageHistory()\n",
    "    return history\n",
    "\n",
    "# 5. 프롬포트 템플릿 정의 \n",
    "messages = [\n",
    "    ('system', '''당신은 이력서 작성 컨설턴트입니다.\n",
    "아래 정보를 바탕으로 지원자 입장에서 2000자 이내로 이력서를 작성합니다.\n",
    "문장은 자연스럽고 매끄럽게 작성합니다.'''),\n",
    "\t('placeholder', '{chat_history}'),\n",
    "\t('user', '{query}')\n",
    "]\n",
    "\n",
    "prompt = ChatPromptTemplate.from_messages(messages=messages)\n",
    "\n",
    "# 6. 쳇오픈 AI 인스턴스 생성: 모델 생성\n",
    "llm = ChatOpenAI(\n",
    "    model='gpt-4.1-nano',\n",
    "    streaming=True,\n",
    "    callbacks=[StreamingStdOutCallbackHandler()],\n",
    "    max_completion_tokens=150,\n",
    ")\n",
    "\n",
    "# 7. 체인 구성\n",
    "chain = prompt | llm \n",
    "\n",
    "# 8. 체인에 대화 히스토리 기능을 래핑해서 추가\n",
    "with_message_history = RunnableWithMessageHistory(\n",
    "    chain,\n",
    "    get_history,\n",
    "    input_messages_key='query',\n",
    "    history_messages_key='chat_history'\n",
    ")\n",
    "\n",
    "# 9. 체인 실행\n",
    "while True:\n",
    "    query = input('이력서 작성 컨설턴트입니다. 질문하세요. [종료: S] >>> ')\n",
    "\n",
    "    if query.upper() == 'S':\n",
    "        break\n",
    "\n",
    "    with_message_history.invoke(\n",
    "        {'query': 'query'},\n",
    "        config={'configurable': {'session_id': '1234'}}\n",
    "    )"
   ]
  },
  {
   "cell_type": "code",
   "execution_count": 16,
   "id": "8aefd9cf",
   "metadata": {},
   "outputs": [
    {
     "data": {
      "text/plain": [
       "InMemoryChatMessageHistory(messages=[HumanMessage(content='query', additional_kwargs={}, response_metadata={}), AIMessage(content='물론입니다! 이력서 작성을 위해 지원자의 경력, 학력, 기술, 자격증 등 구체적인 정보를 제공해 주시면 더욱 맞춤화된 이력서를 작성하는 데 도움이 됩니다. 아래와 같이 기본 정보를 공유해 주세요.\\n\\n1. 이름 및 연락처\\n2. 지원하는 직무 및 목표\\n3. 학력 (대학명, 전공, 졸업 연도 등)\\n4. 경력 사항 (회사명, 직위, 담당 업무, 근무 기간)\\n5. 주요 성과 또는 프로젝트\\n6. 기술 및 자격증\\n7. 기타 활동 또는 수상경력\\n8. 자기소개서에 반영하고 싶은 핵심 메시지\\n\\n', additional_kwargs={}, response_metadata={'finish_reason': 'length', 'model_name': 'gpt-4.1-nano-2025-04-14', 'system_fingerprint': 'fp_eede8f0d45'}, id='run-93cef07d-f318-4bfe-a0ca-06e23ef9240c-0'), HumanMessage(content='query', additional_kwargs={}, response_metadata={}), AIMessage(content='이력서 작성을 위해 필요한 구체적인 정보나 내용을 제공해 주시면, 자연스럽고 매끄럽게 구성된 이력서를 작성해 드리겠습니다. 예를 들어, 지원자의 이름, 희망 직무, 학력, 경력, 기술 및 자격증 등을 알려주시면 됩니다. 상세 정보를 공유해 주세요!', additional_kwargs={}, response_metadata={'finish_reason': 'stop', 'model_name': 'gpt-4.1-nano-2025-04-14', 'system_fingerprint': 'fp_eede8f0d45'}, id='run-60247026-d3e8-44d9-9679-7ad9099bf96b-0'), HumanMessage(content='query', additional_kwargs={}, response_metadata={}), AIMessage(content='이력서 작성을 위해서는 지원자의 구체적인 개인 정보와 경력 내용이 필요합니다. 아래와 같은 정보를 제공해 주시면, 자연스럽고 매끄럽게 구성된 이력서를 작성하는 데 큰 도움이 됩니다.\\n\\n1. 이름 및 연락처 (이메일, 전화번호)\\n2. 지원하는 직무 또는 희망하는 분야\\n3. 학력 사항 (학교명, 전공, 졸업 년도 등)\\n4. 경력 사항 (회사명, 직위, 담당 업무, 재직 기간)\\n5. 주요 성과 또는 프로젝트 경험\\n6. 보유 기술이나 자격증\\n7. 기타 활동 또는 수상 경력\\n8. 자기소개 또는 강조하고 싶은', additional_kwargs={}, response_metadata={'finish_reason': 'length', 'model_name': 'gpt-4.1-nano-2025-04-14', 'system_fingerprint': 'fp_eede8f0d45'}, id='run-1a18ae44-f59e-4592-9ca2-828618104b27-0'), HumanMessage(content='query', additional_kwargs={}, response_metadata={}), AIMessage(content='안녕하세요. 이력서 작성에 도움을 드리고자 합니다. 지원자의 기본 정보를 비롯해 경력, 학력, 기술 등을 구체적으로 알려주시면, 자연스럽고 매끄러운 이력서를 작성하는 데 큰 도움이 됩니다. 다음 정보를 공유해 주세요.\\n\\n- 이름 및 연락처 (이메일, 전화번호)\\n- 희망하는 직무 또는 목표\\n- 학력 사항 (학교명, 전공, 졸업 연도)\\n- 경력 사항 (회사명, 직위, 담당 업무, 근무 기간)\\n- 주요 성과 또는 프로젝트 경험\\n- 보유 기술 및 자격증\\n- 기타 활동 또는 수상 내역\\n- 자기소개 또는 강조하고 싶은 메시지\\n\\n', additional_kwargs={}, response_metadata={'finish_reason': 'length', 'model_name': 'gpt-4.1-nano-2025-04-14', 'system_fingerprint': 'fp_eede8f0d45'}, id='run-a92fddbe-2624-480b-9f8a-0ba148548c45-0'), HumanMessage(content='query', additional_kwargs={}, response_metadata={}), AIMessage(content='안녕하세요. 이력서를 작성하는 데 도움이 될 구체적인 정보를 알려주시면, 자연스럽고 매끄럽게 작성된 이력서를 만들어 드리겠습니다. 예를 들어, 지원 분야, 학력, 경력, 기술, 자격증, 수상 내역 등 구체적인 내용을 공유해 주세요. 필요하신 경우, 첨부된 각 항목에 대해 상세히 설명해 주시면 더욱 맞춤화된 이력서를 만들어 드릴 수 있습니다.', additional_kwargs={}, response_metadata={'finish_reason': 'stop', 'model_name': 'gpt-4.1-nano-2025-04-14', 'system_fingerprint': 'fp_eede8f0d45'}, id='run-57b5a6ed-8f99-4bce-b5f5-1f579c1b4827-0'), HumanMessage(content='query', additional_kwargs={}, response_metadata={}), AIMessage(content='안녕하세요. 이력서 작성에 도움을 드릴 수 있도록 구체적인 정보가 필요합니다. 아래와 같은 내용을 공유해 주시면 자연스럽고 전문적인 이력서를 작성하는 데 큰 도움이 됩니다.\\n\\n1. 성명 및 연락처 (이메일, 전화번호)\\n2. 지원하는 직무 또는 목표 희망 분야\\n3. 학력 사항 (학교명, 전공, 졸업 연도)\\n4. 경력 사항 (근무한 회사명, 직위, 재직 기간, 담당 업무)\\n5. 주요 성과 또는 프로젝트 경험\\n6. 보유 기술 및 자격증\\n7. 기타 활동, 수상경력 또는 이력서에 포함하고 싶은 내용\\n8', additional_kwargs={}, response_metadata={'finish_reason': 'length', 'model_name': 'gpt-4.1-nano-2025-04-14', 'system_fingerprint': 'fp_eede8f0d45'}, id='run-439d21a7-11c5-48d2-b627-54e28735aa4e-0'), HumanMessage(content='query', additional_kwargs={}, response_metadata={}), AIMessage(content='안녕하세요. 이력서 작성을 도와드리기 위해 지원자의 구체적인 정보를 요청드리고자 합니다. 지원 분야, 학력, 경력, 기술, 자격증, 수상 내역 등 상세한 내용을 알려주시면 더욱 효과적이고 자연스러운 이력서를 작성할 수 있습니다. 관련 정보를 공유해 주시면 바로 도와드리겠습니다!', additional_kwargs={}, response_metadata={'finish_reason': 'stop', 'model_name': 'gpt-4.1-nano-2025-04-14', 'system_fingerprint': 'fp_eede8f0d45'}, id='run-4daa9bee-fc90-423a-81ee-0284bcfd4cdf-0')])"
      ]
     },
     "execution_count": 16,
     "metadata": {},
     "output_type": "execute_result"
    }
   ],
   "source": [
    "get_history('1234')"
   ]
  },
  {
   "cell_type": "code",
   "execution_count": null,
   "id": "d6749898",
   "metadata": {},
   "outputs": [],
   "source": []
  },
  {
   "cell_type": "code",
   "execution_count": null,
   "id": "d8d27c0b",
   "metadata": {},
   "outputs": [],
   "source": []
  },
  {
   "cell_type": "code",
   "execution_count": 14,
   "id": "6a40bb5c",
   "metadata": {},
   "outputs": [
    {
     "name": "stdout",
     "output_type": "stream",
     "text": [
      "query\n",
      "**************************************************\n",
      "물론입니다! 이력서 작성을 위해 지원자의 경력, 학력, 기술, 자격증 등 구체적인 정보를 제공해 주시면 더욱 맞춤화된 이력서를 작성하는 데 도움이 됩니다. 아래와 같이 기본 정보를 공유해 주세요.\n",
      "\n",
      "1. 이름 및 연락처\n",
      "2. 지원하는 직무 및 목표\n",
      "3. 학력 (대학명, 전공, 졸업 연도 등)\n",
      "4. 경력 사항 (회사명, 직위, 담당 업무, 근무 기간)\n",
      "5. 주요 성과 또는 프로젝트\n",
      "6. 기술 및 자격증\n",
      "7. 기타 활동 또는 수상경력\n",
      "8. 자기소개서에 반영하고 싶은 핵심 메시지\n",
      "\n",
      "\n",
      "**************************************************\n",
      "query\n",
      "**************************************************\n",
      "이력서 작성을 위해 필요한 구체적인 정보나 내용을 제공해 주시면, 자연스럽고 매끄럽게 구성된 이력서를 작성해 드리겠습니다. 예를 들어, 지원자의 이름, 희망 직무, 학력, 경력, 기술 및 자격증 등을 알려주시면 됩니다. 상세 정보를 공유해 주세요!\n",
      "**************************************************\n"
     ]
    }
   ],
   "source": [
    "for info in get_history('1234').messages:\n",
    "    print(info.content)\n",
    "    print('*' * 50)"
   ]
  },
  {
   "cell_type": "code",
   "execution_count": null,
   "id": "1513afbd",
   "metadata": {},
   "outputs": [],
   "source": []
  }
 ],
 "metadata": {
  "kernelspec": {
   "display_name": "project",
   "language": "python",
   "name": "python3"
  },
  "language_info": {
   "codemirror_mode": {
    "name": "ipython",
    "version": 3
   },
   "file_extension": ".py",
   "mimetype": "text/x-python",
   "name": "python",
   "nbconvert_exporter": "python",
   "pygments_lexer": "ipython3",
   "version": "3.10.12"
  }
 },
 "nbformat": 4,
 "nbformat_minor": 5
}
